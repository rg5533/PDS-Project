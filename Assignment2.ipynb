{
 "cells": [
  {
   "cell_type": "markdown",
   "metadata": {},
   "source": [
    "## Importing Libraries"
   ]
  },
  {
   "cell_type": "code",
   "execution_count": 1,
   "metadata": {},
   "outputs": [],
   "source": [
    "import pandas as pd\n",
    "import numpy as np\n",
    "import warnings\n",
    "warnings.filterwarnings(\"ignore\")\n",
    "import io\n",
    "import requests\n",
    "import os, ssl\n",
    "import matplotlib.pyplot as plt\n",
    "import seaborn as sns\n"
   ]
  },
  {
   "cell_type": "markdown",
   "metadata": {},
   "source": [
    "# Task-1"
   ]
  },
  {
   "cell_type": "markdown",
   "metadata": {},
   "source": [
    "### Data Retrieving"
   ]
  },
  {
   "cell_type": "code",
   "execution_count": 2,
   "metadata": {},
   "outputs": [
    {
     "data": {
      "text/html": [
       "<div>\n",
       "<style scoped>\n",
       "    .dataframe tbody tr th:only-of-type {\n",
       "        vertical-align: middle;\n",
       "    }\n",
       "\n",
       "    .dataframe tbody tr th {\n",
       "        vertical-align: top;\n",
       "    }\n",
       "\n",
       "    .dataframe thead th {\n",
       "        text-align: right;\n",
       "    }\n",
       "</style>\n",
       "<table border=\"1\" class=\"dataframe\">\n",
       "  <thead>\n",
       "    <tr style=\"text-align: right;\">\n",
       "      <th></th>\n",
       "      <th>MouseID</th>\n",
       "      <th>DYRK1A_N</th>\n",
       "      <th>ITSN1_N</th>\n",
       "      <th>BDNF_N</th>\n",
       "      <th>NR1_N</th>\n",
       "      <th>NR2A_N</th>\n",
       "      <th>pAKT_N</th>\n",
       "      <th>pBRAF_N</th>\n",
       "      <th>pCAMKII_N</th>\n",
       "      <th>pCREB_N</th>\n",
       "      <th>...</th>\n",
       "      <th>pCFOS_N</th>\n",
       "      <th>SYP_N</th>\n",
       "      <th>H3AcK18_N</th>\n",
       "      <th>EGR1_N</th>\n",
       "      <th>H3MeK4_N</th>\n",
       "      <th>CaNA_N</th>\n",
       "      <th>Genotype</th>\n",
       "      <th>Treatment</th>\n",
       "      <th>Behavior</th>\n",
       "      <th>class</th>\n",
       "    </tr>\n",
       "  </thead>\n",
       "  <tbody>\n",
       "    <tr>\n",
       "      <th>0</th>\n",
       "      <td>309_1</td>\n",
       "      <td>0.503644</td>\n",
       "      <td>0.747193</td>\n",
       "      <td>0.430175</td>\n",
       "      <td>2.816329</td>\n",
       "      <td>5.990152</td>\n",
       "      <td>0.218830</td>\n",
       "      <td>0.177565</td>\n",
       "      <td>2.373744</td>\n",
       "      <td>0.232224</td>\n",
       "      <td>...</td>\n",
       "      <td>0.108336</td>\n",
       "      <td>0.427099</td>\n",
       "      <td>0.114783</td>\n",
       "      <td>0.131790</td>\n",
       "      <td>0.128186</td>\n",
       "      <td>1.675652</td>\n",
       "      <td>Control</td>\n",
       "      <td>Memantine</td>\n",
       "      <td>C/S</td>\n",
       "      <td>c-CS-m</td>\n",
       "    </tr>\n",
       "    <tr>\n",
       "      <th>1</th>\n",
       "      <td>309_2</td>\n",
       "      <td>0.514617</td>\n",
       "      <td>0.689064</td>\n",
       "      <td>0.411770</td>\n",
       "      <td>2.789514</td>\n",
       "      <td>5.685038</td>\n",
       "      <td>0.211636</td>\n",
       "      <td>0.172817</td>\n",
       "      <td>2.292150</td>\n",
       "      <td>0.226972</td>\n",
       "      <td>...</td>\n",
       "      <td>0.104315</td>\n",
       "      <td>0.441581</td>\n",
       "      <td>0.111974</td>\n",
       "      <td>0.135103</td>\n",
       "      <td>0.131119</td>\n",
       "      <td>1.743610</td>\n",
       "      <td>Control</td>\n",
       "      <td>Memantine</td>\n",
       "      <td>C/S</td>\n",
       "      <td>c-CS-m</td>\n",
       "    </tr>\n",
       "    <tr>\n",
       "      <th>2</th>\n",
       "      <td>309_3</td>\n",
       "      <td>0.509183</td>\n",
       "      <td>0.730247</td>\n",
       "      <td>0.418309</td>\n",
       "      <td>2.687201</td>\n",
       "      <td>5.622059</td>\n",
       "      <td>0.209011</td>\n",
       "      <td>0.175722</td>\n",
       "      <td>2.283337</td>\n",
       "      <td>0.230247</td>\n",
       "      <td>...</td>\n",
       "      <td>0.106219</td>\n",
       "      <td>0.435777</td>\n",
       "      <td>0.111883</td>\n",
       "      <td>0.133362</td>\n",
       "      <td>0.127431</td>\n",
       "      <td>1.926427</td>\n",
       "      <td>Control</td>\n",
       "      <td>Memantine</td>\n",
       "      <td>C/S</td>\n",
       "      <td>c-CS-m</td>\n",
       "    </tr>\n",
       "    <tr>\n",
       "      <th>3</th>\n",
       "      <td>309_4</td>\n",
       "      <td>0.442107</td>\n",
       "      <td>0.617076</td>\n",
       "      <td>0.358626</td>\n",
       "      <td>2.466947</td>\n",
       "      <td>4.979503</td>\n",
       "      <td>0.222886</td>\n",
       "      <td>0.176463</td>\n",
       "      <td>2.152301</td>\n",
       "      <td>0.207004</td>\n",
       "      <td>...</td>\n",
       "      <td>0.111262</td>\n",
       "      <td>0.391691</td>\n",
       "      <td>0.130405</td>\n",
       "      <td>0.147444</td>\n",
       "      <td>0.146901</td>\n",
       "      <td>1.700563</td>\n",
       "      <td>Control</td>\n",
       "      <td>Memantine</td>\n",
       "      <td>C/S</td>\n",
       "      <td>c-CS-m</td>\n",
       "    </tr>\n",
       "    <tr>\n",
       "      <th>4</th>\n",
       "      <td>309_5</td>\n",
       "      <td>0.434940</td>\n",
       "      <td>0.617430</td>\n",
       "      <td>0.358802</td>\n",
       "      <td>2.365785</td>\n",
       "      <td>4.718679</td>\n",
       "      <td>0.213106</td>\n",
       "      <td>0.173627</td>\n",
       "      <td>2.134014</td>\n",
       "      <td>0.192158</td>\n",
       "      <td>...</td>\n",
       "      <td>0.110694</td>\n",
       "      <td>0.434154</td>\n",
       "      <td>0.118481</td>\n",
       "      <td>0.140314</td>\n",
       "      <td>0.148380</td>\n",
       "      <td>1.839730</td>\n",
       "      <td>Control</td>\n",
       "      <td>Memantine</td>\n",
       "      <td>C/S</td>\n",
       "      <td>c-CS-m</td>\n",
       "    </tr>\n",
       "  </tbody>\n",
       "</table>\n",
       "<p>5 rows × 82 columns</p>\n",
       "</div>"
      ],
      "text/plain": [
       "  MouseID  DYRK1A_N   ITSN1_N    BDNF_N     NR1_N    NR2A_N    pAKT_N  \\\n",
       "0   309_1  0.503644  0.747193  0.430175  2.816329  5.990152  0.218830   \n",
       "1   309_2  0.514617  0.689064  0.411770  2.789514  5.685038  0.211636   \n",
       "2   309_3  0.509183  0.730247  0.418309  2.687201  5.622059  0.209011   \n",
       "3   309_4  0.442107  0.617076  0.358626  2.466947  4.979503  0.222886   \n",
       "4   309_5  0.434940  0.617430  0.358802  2.365785  4.718679  0.213106   \n",
       "\n",
       "    pBRAF_N  pCAMKII_N   pCREB_N  ...   pCFOS_N     SYP_N  H3AcK18_N  \\\n",
       "0  0.177565   2.373744  0.232224  ...  0.108336  0.427099   0.114783   \n",
       "1  0.172817   2.292150  0.226972  ...  0.104315  0.441581   0.111974   \n",
       "2  0.175722   2.283337  0.230247  ...  0.106219  0.435777   0.111883   \n",
       "3  0.176463   2.152301  0.207004  ...  0.111262  0.391691   0.130405   \n",
       "4  0.173627   2.134014  0.192158  ...  0.110694  0.434154   0.118481   \n",
       "\n",
       "     EGR1_N  H3MeK4_N    CaNA_N  Genotype  Treatment  Behavior   class  \n",
       "0  0.131790  0.128186  1.675652   Control  Memantine       C/S  c-CS-m  \n",
       "1  0.135103  0.131119  1.743610   Control  Memantine       C/S  c-CS-m  \n",
       "2  0.133362  0.127431  1.926427   Control  Memantine       C/S  c-CS-m  \n",
       "3  0.147444  0.146901  1.700563   Control  Memantine       C/S  c-CS-m  \n",
       "4  0.140314  0.148380  1.839730   Control  Memantine       C/S  c-CS-m  \n",
       "\n",
       "[5 rows x 82 columns]"
      ]
     },
     "execution_count": 2,
     "metadata": {},
     "output_type": "execute_result"
    }
   ],
   "source": [
    "data=pd.read_excel('./Data/Data_Cortex_Nuclear.xls')\n",
    "df=data\n",
    "df.head()"
   ]
  },
  {
   "cell_type": "code",
   "execution_count": 3,
   "metadata": {},
   "outputs": [
    {
     "data": {
      "text/plain": [
       "(1080, 82)"
      ]
     },
     "execution_count": 3,
     "metadata": {},
     "output_type": "execute_result"
    }
   ],
   "source": [
    "df.shape"
   ]
  },
  {
   "cell_type": "code",
   "execution_count": 4,
   "metadata": {},
   "outputs": [
    {
     "data": {
      "text/html": [
       "<div>\n",
       "<style scoped>\n",
       "    .dataframe tbody tr th:only-of-type {\n",
       "        vertical-align: middle;\n",
       "    }\n",
       "\n",
       "    .dataframe tbody tr th {\n",
       "        vertical-align: top;\n",
       "    }\n",
       "\n",
       "    .dataframe thead th {\n",
       "        text-align: right;\n",
       "    }\n",
       "</style>\n",
       "<table border=\"1\" class=\"dataframe\">\n",
       "  <thead>\n",
       "    <tr style=\"text-align: right;\">\n",
       "      <th></th>\n",
       "      <th>MouseID</th>\n",
       "      <th>DYRK1A_N</th>\n",
       "      <th>ITSN1_N</th>\n",
       "      <th>BDNF_N</th>\n",
       "      <th>NR1_N</th>\n",
       "      <th>NR2A_N</th>\n",
       "      <th>pAKT_N</th>\n",
       "      <th>pBRAF_N</th>\n",
       "      <th>pCAMKII_N</th>\n",
       "      <th>pCREB_N</th>\n",
       "      <th>...</th>\n",
       "      <th>pCFOS_N</th>\n",
       "      <th>SYP_N</th>\n",
       "      <th>H3AcK18_N</th>\n",
       "      <th>EGR1_N</th>\n",
       "      <th>H3MeK4_N</th>\n",
       "      <th>CaNA_N</th>\n",
       "      <th>Genotype</th>\n",
       "      <th>Treatment</th>\n",
       "      <th>Behavior</th>\n",
       "      <th>class</th>\n",
       "    </tr>\n",
       "  </thead>\n",
       "  <tbody>\n",
       "    <tr>\n",
       "      <th>count</th>\n",
       "      <td>1080</td>\n",
       "      <td>1077.000000</td>\n",
       "      <td>1077.000000</td>\n",
       "      <td>1077.000000</td>\n",
       "      <td>1077.000000</td>\n",
       "      <td>1077.000000</td>\n",
       "      <td>1077.000000</td>\n",
       "      <td>1077.000000</td>\n",
       "      <td>1077.000000</td>\n",
       "      <td>1077.000000</td>\n",
       "      <td>...</td>\n",
       "      <td>1005.000000</td>\n",
       "      <td>1080.000000</td>\n",
       "      <td>900.000000</td>\n",
       "      <td>870.000000</td>\n",
       "      <td>810.000000</td>\n",
       "      <td>1080.000000</td>\n",
       "      <td>1080</td>\n",
       "      <td>1080</td>\n",
       "      <td>1080</td>\n",
       "      <td>1080</td>\n",
       "    </tr>\n",
       "    <tr>\n",
       "      <th>unique</th>\n",
       "      <td>1080</td>\n",
       "      <td>NaN</td>\n",
       "      <td>NaN</td>\n",
       "      <td>NaN</td>\n",
       "      <td>NaN</td>\n",
       "      <td>NaN</td>\n",
       "      <td>NaN</td>\n",
       "      <td>NaN</td>\n",
       "      <td>NaN</td>\n",
       "      <td>NaN</td>\n",
       "      <td>...</td>\n",
       "      <td>NaN</td>\n",
       "      <td>NaN</td>\n",
       "      <td>NaN</td>\n",
       "      <td>NaN</td>\n",
       "      <td>NaN</td>\n",
       "      <td>NaN</td>\n",
       "      <td>2</td>\n",
       "      <td>2</td>\n",
       "      <td>2</td>\n",
       "      <td>8</td>\n",
       "    </tr>\n",
       "    <tr>\n",
       "      <th>top</th>\n",
       "      <td>J1291_2</td>\n",
       "      <td>NaN</td>\n",
       "      <td>NaN</td>\n",
       "      <td>NaN</td>\n",
       "      <td>NaN</td>\n",
       "      <td>NaN</td>\n",
       "      <td>NaN</td>\n",
       "      <td>NaN</td>\n",
       "      <td>NaN</td>\n",
       "      <td>NaN</td>\n",
       "      <td>...</td>\n",
       "      <td>NaN</td>\n",
       "      <td>NaN</td>\n",
       "      <td>NaN</td>\n",
       "      <td>NaN</td>\n",
       "      <td>NaN</td>\n",
       "      <td>NaN</td>\n",
       "      <td>Control</td>\n",
       "      <td>Memantine</td>\n",
       "      <td>S/C</td>\n",
       "      <td>c-SC-m</td>\n",
       "    </tr>\n",
       "    <tr>\n",
       "      <th>freq</th>\n",
       "      <td>1</td>\n",
       "      <td>NaN</td>\n",
       "      <td>NaN</td>\n",
       "      <td>NaN</td>\n",
       "      <td>NaN</td>\n",
       "      <td>NaN</td>\n",
       "      <td>NaN</td>\n",
       "      <td>NaN</td>\n",
       "      <td>NaN</td>\n",
       "      <td>NaN</td>\n",
       "      <td>...</td>\n",
       "      <td>NaN</td>\n",
       "      <td>NaN</td>\n",
       "      <td>NaN</td>\n",
       "      <td>NaN</td>\n",
       "      <td>NaN</td>\n",
       "      <td>NaN</td>\n",
       "      <td>570</td>\n",
       "      <td>570</td>\n",
       "      <td>555</td>\n",
       "      <td>150</td>\n",
       "    </tr>\n",
       "    <tr>\n",
       "      <th>mean</th>\n",
       "      <td>NaN</td>\n",
       "      <td>0.425810</td>\n",
       "      <td>0.617102</td>\n",
       "      <td>0.319088</td>\n",
       "      <td>2.297269</td>\n",
       "      <td>3.843934</td>\n",
       "      <td>0.233168</td>\n",
       "      <td>0.181846</td>\n",
       "      <td>3.537109</td>\n",
       "      <td>0.212574</td>\n",
       "      <td>...</td>\n",
       "      <td>0.131053</td>\n",
       "      <td>0.446073</td>\n",
       "      <td>0.169609</td>\n",
       "      <td>0.183135</td>\n",
       "      <td>0.205440</td>\n",
       "      <td>1.337784</td>\n",
       "      <td>NaN</td>\n",
       "      <td>NaN</td>\n",
       "      <td>NaN</td>\n",
       "      <td>NaN</td>\n",
       "    </tr>\n",
       "    <tr>\n",
       "      <th>std</th>\n",
       "      <td>NaN</td>\n",
       "      <td>0.249362</td>\n",
       "      <td>0.251640</td>\n",
       "      <td>0.049383</td>\n",
       "      <td>0.347293</td>\n",
       "      <td>0.933100</td>\n",
       "      <td>0.041634</td>\n",
       "      <td>0.027042</td>\n",
       "      <td>1.295169</td>\n",
       "      <td>0.032587</td>\n",
       "      <td>...</td>\n",
       "      <td>0.023863</td>\n",
       "      <td>0.066432</td>\n",
       "      <td>0.059402</td>\n",
       "      <td>0.040406</td>\n",
       "      <td>0.055514</td>\n",
       "      <td>0.317126</td>\n",
       "      <td>NaN</td>\n",
       "      <td>NaN</td>\n",
       "      <td>NaN</td>\n",
       "      <td>NaN</td>\n",
       "    </tr>\n",
       "    <tr>\n",
       "      <th>min</th>\n",
       "      <td>NaN</td>\n",
       "      <td>0.145327</td>\n",
       "      <td>0.245359</td>\n",
       "      <td>0.115181</td>\n",
       "      <td>1.330831</td>\n",
       "      <td>1.737540</td>\n",
       "      <td>0.063236</td>\n",
       "      <td>0.064043</td>\n",
       "      <td>1.343998</td>\n",
       "      <td>0.112812</td>\n",
       "      <td>...</td>\n",
       "      <td>0.085419</td>\n",
       "      <td>0.258626</td>\n",
       "      <td>0.079691</td>\n",
       "      <td>0.105537</td>\n",
       "      <td>0.101787</td>\n",
       "      <td>0.586479</td>\n",
       "      <td>NaN</td>\n",
       "      <td>NaN</td>\n",
       "      <td>NaN</td>\n",
       "      <td>NaN</td>\n",
       "    </tr>\n",
       "    <tr>\n",
       "      <th>25%</th>\n",
       "      <td>NaN</td>\n",
       "      <td>0.288121</td>\n",
       "      <td>0.473361</td>\n",
       "      <td>0.287444</td>\n",
       "      <td>2.057411</td>\n",
       "      <td>3.155678</td>\n",
       "      <td>0.205755</td>\n",
       "      <td>0.164595</td>\n",
       "      <td>2.479834</td>\n",
       "      <td>0.190823</td>\n",
       "      <td>...</td>\n",
       "      <td>0.113506</td>\n",
       "      <td>0.398082</td>\n",
       "      <td>0.125848</td>\n",
       "      <td>0.155121</td>\n",
       "      <td>0.165143</td>\n",
       "      <td>1.081423</td>\n",
       "      <td>NaN</td>\n",
       "      <td>NaN</td>\n",
       "      <td>NaN</td>\n",
       "      <td>NaN</td>\n",
       "    </tr>\n",
       "    <tr>\n",
       "      <th>50%</th>\n",
       "      <td>NaN</td>\n",
       "      <td>0.366378</td>\n",
       "      <td>0.565782</td>\n",
       "      <td>0.316564</td>\n",
       "      <td>2.296546</td>\n",
       "      <td>3.760855</td>\n",
       "      <td>0.231177</td>\n",
       "      <td>0.182302</td>\n",
       "      <td>3.326520</td>\n",
       "      <td>0.210594</td>\n",
       "      <td>...</td>\n",
       "      <td>0.126523</td>\n",
       "      <td>0.448459</td>\n",
       "      <td>0.158240</td>\n",
       "      <td>0.174935</td>\n",
       "      <td>0.193994</td>\n",
       "      <td>1.317441</td>\n",
       "      <td>NaN</td>\n",
       "      <td>NaN</td>\n",
       "      <td>NaN</td>\n",
       "      <td>NaN</td>\n",
       "    </tr>\n",
       "    <tr>\n",
       "      <th>75%</th>\n",
       "      <td>NaN</td>\n",
       "      <td>0.487711</td>\n",
       "      <td>0.698032</td>\n",
       "      <td>0.348197</td>\n",
       "      <td>2.528481</td>\n",
       "      <td>4.440011</td>\n",
       "      <td>0.257261</td>\n",
       "      <td>0.197418</td>\n",
       "      <td>4.481940</td>\n",
       "      <td>0.234595</td>\n",
       "      <td>...</td>\n",
       "      <td>0.143652</td>\n",
       "      <td>0.490773</td>\n",
       "      <td>0.197876</td>\n",
       "      <td>0.204542</td>\n",
       "      <td>0.235215</td>\n",
       "      <td>1.585824</td>\n",
       "      <td>NaN</td>\n",
       "      <td>NaN</td>\n",
       "      <td>NaN</td>\n",
       "      <td>NaN</td>\n",
       "    </tr>\n",
       "    <tr>\n",
       "      <th>max</th>\n",
       "      <td>NaN</td>\n",
       "      <td>2.516367</td>\n",
       "      <td>2.602662</td>\n",
       "      <td>0.497160</td>\n",
       "      <td>3.757641</td>\n",
       "      <td>8.482553</td>\n",
       "      <td>0.539050</td>\n",
       "      <td>0.317066</td>\n",
       "      <td>7.464070</td>\n",
       "      <td>0.306247</td>\n",
       "      <td>...</td>\n",
       "      <td>0.256529</td>\n",
       "      <td>0.759588</td>\n",
       "      <td>0.479763</td>\n",
       "      <td>0.360692</td>\n",
       "      <td>0.413903</td>\n",
       "      <td>2.129791</td>\n",
       "      <td>NaN</td>\n",
       "      <td>NaN</td>\n",
       "      <td>NaN</td>\n",
       "      <td>NaN</td>\n",
       "    </tr>\n",
       "  </tbody>\n",
       "</table>\n",
       "<p>11 rows × 82 columns</p>\n",
       "</div>"
      ],
      "text/plain": [
       "        MouseID     DYRK1A_N      ITSN1_N       BDNF_N        NR1_N  \\\n",
       "count      1080  1077.000000  1077.000000  1077.000000  1077.000000   \n",
       "unique     1080          NaN          NaN          NaN          NaN   \n",
       "top     J1291_2          NaN          NaN          NaN          NaN   \n",
       "freq          1          NaN          NaN          NaN          NaN   \n",
       "mean        NaN     0.425810     0.617102     0.319088     2.297269   \n",
       "std         NaN     0.249362     0.251640     0.049383     0.347293   \n",
       "min         NaN     0.145327     0.245359     0.115181     1.330831   \n",
       "25%         NaN     0.288121     0.473361     0.287444     2.057411   \n",
       "50%         NaN     0.366378     0.565782     0.316564     2.296546   \n",
       "75%         NaN     0.487711     0.698032     0.348197     2.528481   \n",
       "max         NaN     2.516367     2.602662     0.497160     3.757641   \n",
       "\n",
       "             NR2A_N       pAKT_N      pBRAF_N    pCAMKII_N      pCREB_N  ...  \\\n",
       "count   1077.000000  1077.000000  1077.000000  1077.000000  1077.000000  ...   \n",
       "unique          NaN          NaN          NaN          NaN          NaN  ...   \n",
       "top             NaN          NaN          NaN          NaN          NaN  ...   \n",
       "freq            NaN          NaN          NaN          NaN          NaN  ...   \n",
       "mean       3.843934     0.233168     0.181846     3.537109     0.212574  ...   \n",
       "std        0.933100     0.041634     0.027042     1.295169     0.032587  ...   \n",
       "min        1.737540     0.063236     0.064043     1.343998     0.112812  ...   \n",
       "25%        3.155678     0.205755     0.164595     2.479834     0.190823  ...   \n",
       "50%        3.760855     0.231177     0.182302     3.326520     0.210594  ...   \n",
       "75%        4.440011     0.257261     0.197418     4.481940     0.234595  ...   \n",
       "max        8.482553     0.539050     0.317066     7.464070     0.306247  ...   \n",
       "\n",
       "            pCFOS_N        SYP_N   H3AcK18_N      EGR1_N    H3MeK4_N  \\\n",
       "count   1005.000000  1080.000000  900.000000  870.000000  810.000000   \n",
       "unique          NaN          NaN         NaN         NaN         NaN   \n",
       "top             NaN          NaN         NaN         NaN         NaN   \n",
       "freq            NaN          NaN         NaN         NaN         NaN   \n",
       "mean       0.131053     0.446073    0.169609    0.183135    0.205440   \n",
       "std        0.023863     0.066432    0.059402    0.040406    0.055514   \n",
       "min        0.085419     0.258626    0.079691    0.105537    0.101787   \n",
       "25%        0.113506     0.398082    0.125848    0.155121    0.165143   \n",
       "50%        0.126523     0.448459    0.158240    0.174935    0.193994   \n",
       "75%        0.143652     0.490773    0.197876    0.204542    0.235215   \n",
       "max        0.256529     0.759588    0.479763    0.360692    0.413903   \n",
       "\n",
       "             CaNA_N  Genotype  Treatment  Behavior   class  \n",
       "count   1080.000000      1080       1080      1080    1080  \n",
       "unique          NaN         2          2         2       8  \n",
       "top             NaN   Control  Memantine       S/C  c-SC-m  \n",
       "freq            NaN       570        570       555     150  \n",
       "mean       1.337784       NaN        NaN       NaN     NaN  \n",
       "std        0.317126       NaN        NaN       NaN     NaN  \n",
       "min        0.586479       NaN        NaN       NaN     NaN  \n",
       "25%        1.081423       NaN        NaN       NaN     NaN  \n",
       "50%        1.317441       NaN        NaN       NaN     NaN  \n",
       "75%        1.585824       NaN        NaN       NaN     NaN  \n",
       "max        2.129791       NaN        NaN       NaN     NaN  \n",
       "\n",
       "[11 rows x 82 columns]"
      ]
     },
     "execution_count": 4,
     "metadata": {},
     "output_type": "execute_result"
    }
   ],
   "source": [
    "df.describe(include='all')"
   ]
  },
  {
   "cell_type": "code",
   "execution_count": 5,
   "metadata": {},
   "outputs": [
    {
     "name": "stdout",
     "output_type": "stream",
     "text": [
      "J1291_2     1\n",
      "3426_9      1\n",
      "3534_3      1\n",
      "3488_10     1\n",
      "3522_12     1\n",
      "           ..\n",
      "50810C_9    1\n",
      "321_1       1\n",
      "3504_8      1\n",
      "309_6       1\n",
      "3411_1      1\n",
      "Name: MouseID, Length: 1080, dtype: int64\n",
      "Control    570\n",
      "Ts65Dn     510\n",
      "Name: Genotype, dtype: int64\n",
      "Memantine    570\n",
      "Saline       510\n",
      "Name: Treatment, dtype: int64\n",
      "S/C    555\n",
      "C/S    525\n",
      "Name: Behavior, dtype: int64\n",
      "c-SC-m    150\n",
      "c-CS-m    150\n",
      "c-CS-s    135\n",
      "t-SC-m    135\n",
      "t-SC-s    135\n",
      "t-CS-m    135\n",
      "c-SC-s    135\n",
      "t-CS-s    105\n",
      "Name: class, dtype: int64\n"
     ]
    }
   ],
   "source": [
    "#Check for Typos and Exra white spaces in categorical columns\n",
    "categorical_cols = df.columns[df.dtypes==object].tolist()\n",
    "for col in categorical_cols:\n",
    "    print(df[col].value_counts())"
   ]
  },
  {
   "cell_type": "code",
   "execution_count": 6,
   "metadata": {},
   "outputs": [
    {
     "name": "stdout",
     "output_type": "stream",
     "text": [
      "DYRK1A_N                Minimum: 0.145326504,             Maximum: 2.516367377\n",
      "ITSN1_N                Minimum: 0.245358515,             Maximum: 2.602662135\n",
      "BDNF_N                Minimum: 0.115181402,             Maximum: 0.497159859\n",
      "NR1_N                Minimum: 1.330830671,             Maximum: 3.757641331\n",
      "NR2A_N                Minimum: 1.737539936,             Maximum: 8.482553422\n",
      "pAKT_N                Minimum: 0.063236006,             Maximum: 0.539050132\n",
      "pBRAF_N                Minimum: 0.064042588,             Maximum: 0.317065589\n",
      "pCAMKII_N                Minimum: 1.343998185,             Maximum: 7.464070214\n",
      "pCREB_N                Minimum: 0.112811791,             Maximum: 0.306247231\n",
      "pELK_N                Minimum: 0.429032258,             Maximum: 6.113347458\n",
      "pERK_N                Minimum: 0.149155227,             Maximum: 3.566685372\n",
      "pJNK_N                Minimum: 0.05211039,             Maximum: 0.493425858\n",
      "PKCA_N                Minimum: 0.191430693,             Maximum: 0.473992025\n",
      "pMEK_N                Minimum: 0.056818182,             Maximum: 0.458000551\n",
      "pNR1_N                Minimum: 0.500159744,             Maximum: 1.408168786\n",
      "pNR2A_N                Minimum: 0.281284812,             Maximum: 1.412750248\n",
      "pNR2B_N                Minimum: 0.301608579,             Maximum: 2.723965377\n",
      "pPKCAB_N                Minimum: 0.567840497,             Maximum: 3.061387146\n",
      "pRSK_N                Minimum: 0.095941558,             Maximum: 0.650961807\n",
      "AKT_N                Minimum: 0.06442119,             Maximum: 1.182174736\n",
      "BRAF_N                Minimum: 0.143893591,             Maximum: 2.133415747\n",
      "CAMKII_N                Minimum: 0.212959525,             Maximum: 0.586244541\n",
      "CREB_N                Minimum: 0.113636364,             Maximum: 0.319558247\n",
      "ELK_N                Minimum: 0.497695003,             Maximum: 2.802948336\n",
      "ERK_N                Minimum: 1.131795717,             Maximum: 5.198404111\n",
      "GSK3B_N                Minimum: 0.151124339,             Maximum: 2.475751236\n",
      "JNK_N                Minimum: 0.04629779,             Maximum: 0.387190684\n",
      "MEK_N                Minimum: 0.147201493,             Maximum: 0.415407855\n",
      "TRKA_N                Minimum: 0.198743386,             Maximum: 1.001622938\n",
      "RSK_N                Minimum: 0.107394366,             Maximum: 0.305135952\n",
      "APP_N                Minimum: 0.235595391,             Maximum: 0.632662722\n",
      "Bcatenin_N                Minimum: 1.134886146,             Maximum: 3.680551799\n",
      "SOD1_N                Minimum: 0.217120181,             Maximum: 1.872898533\n",
      "MTOR_N                Minimum: 0.20114336,             Maximum: 0.676747967\n",
      "P38_N                Minimum: 0.227880387,             Maximum: 0.933256284\n",
      "pMTOR_N                Minimum: 0.166578716,             Maximum: 1.124883359\n",
      "DSCR1_N                Minimum: 0.15532102,             Maximum: 0.916429495\n",
      "AMPKA_N                Minimum: 0.22640869,             Maximum: 0.700838518\n",
      "NR2B_N                Minimum: 0.184784521,             Maximum: 0.972019751\n",
      "pNUMB_N                Minimum: 0.185597624,             Maximum: 0.631052204\n",
      "RAPTOR_N                Minimum: 0.194824478,             Maximum: 0.526681402\n",
      "TIAM1_N                Minimum: 0.237777071,             Maximum: 0.722121604\n",
      "pP70S6_N                Minimum: 0.131119792,             Maximum: 1.129171461\n",
      "NUMB_N                Minimum: 0.117998506,             Maximum: 0.316575348\n",
      "P70S6_N                Minimum: 0.344119778,             Maximum: 1.679953156\n",
      "pGSK3B_N                Minimum: 0.099975851,             Maximum: 0.253210088\n",
      "pPKCG_N                Minimum: 0.598766552,             Maximum: 3.381976285\n",
      "CDK5_N                Minimum: 0.181157025,             Maximum: 0.817401813\n",
      "S6_N                Minimum: 0.130206306,             Maximum: 0.8226108\n",
      "ADARB1_N                Minimum: 0.529107819,             Maximum: 2.539889642\n",
      "AcetylH3K9_N                Minimum: 0.05252842,             Maximum: 1.459386852\n",
      "RRP1_N                Minimum: -0.062007874,             Maximum: 0.612377029\n",
      "BAX_N                Minimum: 0.072325525,             Maximum: 0.241141052\n",
      "ARC_N                Minimum: 0.067254286,             Maximum: 0.158747815\n",
      "ERBB4_N                Minimum: 0.100217339,             Maximum: 0.208697506\n",
      "nNOS_N                Minimum: 0.099734364,             Maximum: 0.260738634\n",
      "Tau_N                Minimum: 0.096232794,             Maximum: 0.602768056\n",
      "GFAP_N                Minimum: 0.08611418,             Maximum: 0.213620644\n",
      "GluR3_N                Minimum: 0.111382114,             Maximum: 0.331015923\n",
      "GluR4_N                Minimum: 0.072579682,             Maximum: 0.537004104\n",
      "IL1B_N                Minimum: 0.284001296,             Maximum: 0.889735099\n",
      "P3525_N                Minimum: 0.207437817,             Maximum: 0.443735036\n",
      "pCASP9_N                Minimum: 0.853175561,             Maximum: 2.586215947\n",
      "PSD95_N                Minimum: 1.206097755,             Maximum: 2.877873418\n",
      "SNCA_N                Minimum: 0.101233152,             Maximum: 0.257615894\n",
      "Ubiquitin_N                Minimum: 0.750664091,             Maximum: 1.897202342\n",
      "pGSK3B_Tyr216_N                Minimum: 0.577396764,             Maximum: 1.204598081\n",
      "SHH_N                Minimum: 0.155869293,             Maximum: 0.35828877\n",
      "BAD_N                Minimum: 0.088304624,             Maximum: 0.282016349\n",
      "BCL2_N                Minimum: nan,             Maximum: nan\n",
      "pS6_N                Minimum: 0.067254286,             Maximum: 0.158747815\n",
      "pCFOS_N                Minimum: 0.08541915,             Maximum: 0.256528926\n",
      "SYP_N                Minimum: 0.258625833,             Maximum: 0.759588439\n",
      "H3AcK18_N                Minimum: 0.079690896,             Maximum: 0.479763268\n",
      "EGR1_N                Minimum: 0.105537204,             Maximum: 0.360692103\n",
      "H3MeK4_N                Minimum: 0.101787008,             Maximum: 0.413902681\n",
      "CaNA_N                Minimum: 0.586478779,             Maximum: 2.129791061\n"
     ]
    }
   ],
   "source": [
    "# Checking any unusual values in the numerical columns\n",
    "numeric_cols = df.columns[df.dtypes==float].tolist()\n",
    "for col in numeric_cols:\n",
    "    print(col + \"                Minimum: \" + str(min(df[col])) + \",             Maximum: \"+ str(max(df[col])))"
   ]
  },
  {
   "cell_type": "markdown",
   "metadata": {},
   "source": [
    "### Checking Data Types in the dataframe"
   ]
  },
  {
   "cell_type": "code",
   "execution_count": 7,
   "metadata": {},
   "outputs": [
    {
     "name": "stdout",
     "output_type": "stream",
     "text": [
      "<class 'pandas.core.frame.DataFrame'>\n",
      "RangeIndex: 1080 entries, 0 to 1079\n",
      "Data columns (total 82 columns):\n",
      " #   Column           Non-Null Count  Dtype  \n",
      "---  ------           --------------  -----  \n",
      " 0   MouseID          1080 non-null   object \n",
      " 1   DYRK1A_N         1077 non-null   float64\n",
      " 2   ITSN1_N          1077 non-null   float64\n",
      " 3   BDNF_N           1077 non-null   float64\n",
      " 4   NR1_N            1077 non-null   float64\n",
      " 5   NR2A_N           1077 non-null   float64\n",
      " 6   pAKT_N           1077 non-null   float64\n",
      " 7   pBRAF_N          1077 non-null   float64\n",
      " 8   pCAMKII_N        1077 non-null   float64\n",
      " 9   pCREB_N          1077 non-null   float64\n",
      " 10  pELK_N           1077 non-null   float64\n",
      " 11  pERK_N           1077 non-null   float64\n",
      " 12  pJNK_N           1077 non-null   float64\n",
      " 13  PKCA_N           1077 non-null   float64\n",
      " 14  pMEK_N           1077 non-null   float64\n",
      " 15  pNR1_N           1077 non-null   float64\n",
      " 16  pNR2A_N          1077 non-null   float64\n",
      " 17  pNR2B_N          1077 non-null   float64\n",
      " 18  pPKCAB_N         1077 non-null   float64\n",
      " 19  pRSK_N           1077 non-null   float64\n",
      " 20  AKT_N            1077 non-null   float64\n",
      " 21  BRAF_N           1077 non-null   float64\n",
      " 22  CAMKII_N         1077 non-null   float64\n",
      " 23  CREB_N           1077 non-null   float64\n",
      " 24  ELK_N            1062 non-null   float64\n",
      " 25  ERK_N            1077 non-null   float64\n",
      " 26  GSK3B_N          1077 non-null   float64\n",
      " 27  JNK_N            1077 non-null   float64\n",
      " 28  MEK_N            1073 non-null   float64\n",
      " 29  TRKA_N           1077 non-null   float64\n",
      " 30  RSK_N            1077 non-null   float64\n",
      " 31  APP_N            1077 non-null   float64\n",
      " 32  Bcatenin_N       1062 non-null   float64\n",
      " 33  SOD1_N           1077 non-null   float64\n",
      " 34  MTOR_N           1077 non-null   float64\n",
      " 35  P38_N            1077 non-null   float64\n",
      " 36  pMTOR_N          1077 non-null   float64\n",
      " 37  DSCR1_N          1077 non-null   float64\n",
      " 38  AMPKA_N          1077 non-null   float64\n",
      " 39  NR2B_N           1077 non-null   float64\n",
      " 40  pNUMB_N          1077 non-null   float64\n",
      " 41  RAPTOR_N         1077 non-null   float64\n",
      " 42  TIAM1_N          1077 non-null   float64\n",
      " 43  pP70S6_N         1077 non-null   float64\n",
      " 44  NUMB_N           1080 non-null   float64\n",
      " 45  P70S6_N          1080 non-null   float64\n",
      " 46  pGSK3B_N         1080 non-null   float64\n",
      " 47  pPKCG_N          1080 non-null   float64\n",
      " 48  CDK5_N           1080 non-null   float64\n",
      " 49  S6_N             1080 non-null   float64\n",
      " 50  ADARB1_N         1080 non-null   float64\n",
      " 51  AcetylH3K9_N     1080 non-null   float64\n",
      " 52  RRP1_N           1080 non-null   float64\n",
      " 53  BAX_N            1080 non-null   float64\n",
      " 54  ARC_N            1080 non-null   float64\n",
      " 55  ERBB4_N          1080 non-null   float64\n",
      " 56  nNOS_N           1080 non-null   float64\n",
      " 57  Tau_N            1080 non-null   float64\n",
      " 58  GFAP_N           1080 non-null   float64\n",
      " 59  GluR3_N          1080 non-null   float64\n",
      " 60  GluR4_N          1080 non-null   float64\n",
      " 61  IL1B_N           1080 non-null   float64\n",
      " 62  P3525_N          1080 non-null   float64\n",
      " 63  pCASP9_N         1080 non-null   float64\n",
      " 64  PSD95_N          1080 non-null   float64\n",
      " 65  SNCA_N           1080 non-null   float64\n",
      " 66  Ubiquitin_N      1080 non-null   float64\n",
      " 67  pGSK3B_Tyr216_N  1080 non-null   float64\n",
      " 68  SHH_N            1080 non-null   float64\n",
      " 69  BAD_N            867 non-null    float64\n",
      " 70  BCL2_N           795 non-null    float64\n",
      " 71  pS6_N            1080 non-null   float64\n",
      " 72  pCFOS_N          1005 non-null   float64\n",
      " 73  SYP_N            1080 non-null   float64\n",
      " 74  H3AcK18_N        900 non-null    float64\n",
      " 75  EGR1_N           870 non-null    float64\n",
      " 76  H3MeK4_N         810 non-null    float64\n",
      " 77  CaNA_N           1080 non-null   float64\n",
      " 78  Genotype         1080 non-null   object \n",
      " 79  Treatment        1080 non-null   object \n",
      " 80  Behavior         1080 non-null   object \n",
      " 81  class            1080 non-null   object \n",
      "dtypes: float64(77), object(5)\n",
      "memory usage: 692.0+ KB\n"
     ]
    }
   ],
   "source": [
    "df.info()"
   ]
  },
  {
   "cell_type": "code",
   "execution_count": 8,
   "metadata": {},
   "outputs": [
    {
     "name": "stdout",
     "output_type": "stream",
     "text": [
      "['Control' 'Ts65Dn']\n",
      "['Memantine' 'Saline']\n",
      "['C/S' 'S/C']\n"
     ]
    }
   ],
   "source": [
    "# Checking number of unique values in categorical features.\n",
    "print(df.Genotype.unique())\n",
    "print(df.Treatment.unique())\n",
    "print(df.Behavior.unique())"
   ]
  },
  {
   "cell_type": "markdown",
   "metadata": {},
   "source": [
    "## Checking missing Values in the Dataframe "
   ]
  },
  {
   "cell_type": "code",
   "execution_count": 9,
   "metadata": {},
   "outputs": [
    {
     "data": {
      "text/plain": [
       "MouseID      0\n",
       "DYRK1A_N     3\n",
       "ITSN1_N      3\n",
       "BDNF_N       3\n",
       "NR1_N        3\n",
       "            ..\n",
       "CaNA_N       0\n",
       "Genotype     0\n",
       "Treatment    0\n",
       "Behavior     0\n",
       "class        0\n",
       "Length: 82, dtype: int64"
      ]
     },
     "execution_count": 9,
     "metadata": {},
     "output_type": "execute_result"
    }
   ],
   "source": [
    "df.isna().sum()"
   ]
  },
  {
   "cell_type": "markdown",
   "metadata": {},
   "source": [
    "### Total count of missing values in the enitire dataframe"
   ]
  },
  {
   "cell_type": "code",
   "execution_count": 10,
   "metadata": {},
   "outputs": [
    {
     "data": {
      "text/plain": [
       "1396"
      ]
     },
     "execution_count": 10,
     "metadata": {},
     "output_type": "execute_result"
    }
   ],
   "source": [
    "df.isna().sum().sum()"
   ]
  },
  {
   "cell_type": "code",
   "execution_count": 11,
   "metadata": {},
   "outputs": [
    {
     "data": {
      "text/plain": [
       "1396"
      ]
     },
     "execution_count": 11,
     "metadata": {},
     "output_type": "execute_result"
    }
   ],
   "source": [
    "# Dropping rows with all cells with NA.\n",
    "df.dropna(how='all',inplace=True)\n",
    "df.isna().sum().sum()"
   ]
  },
  {
   "cell_type": "markdown",
   "metadata": {},
   "source": [
    "## Missing Value treatment using sklearn Simple Imputer\n",
    "\n",
    " Replacing all the missing values in the dataframe with the mean of the column"
   ]
  },
  {
   "cell_type": "code",
   "execution_count": 12,
   "metadata": {},
   "outputs": [
    {
     "data": {
      "text/plain": [
       "SimpleImputer(add_indicator=False, copy=True, fill_value=None,\n",
       "              missing_values=nan, strategy='mean', verbose=0)"
      ]
     },
     "execution_count": 12,
     "metadata": {},
     "output_type": "execute_result"
    }
   ],
   "source": [
    "from sklearn.impute import SimpleImputer\n",
    "imp_mean = SimpleImputer(missing_values=np.nan, strategy='mean')\n",
    "imp_mean.fit(df.iloc[:,1:78])"
   ]
  },
  {
   "cell_type": "code",
   "execution_count": 13,
   "metadata": {},
   "outputs": [],
   "source": [
    "df.iloc[:,1:78]=imp_mean.transform(df.iloc[:,1:78])\n",
    "df1=df"
   ]
  },
  {
   "cell_type": "code",
   "execution_count": 14,
   "metadata": {},
   "outputs": [
    {
     "data": {
      "text/plain": [
       "0"
      ]
     },
     "execution_count": 14,
     "metadata": {},
     "output_type": "execute_result"
    }
   ],
   "source": [
    "# checking missing values after impuatation with mean\n",
    "df.isna().sum().sum()"
   ]
  },
  {
   "cell_type": "code",
   "execution_count": 15,
   "metadata": {},
   "outputs": [
    {
     "data": {
      "text/html": [
       "<div>\n",
       "<style scoped>\n",
       "    .dataframe tbody tr th:only-of-type {\n",
       "        vertical-align: middle;\n",
       "    }\n",
       "\n",
       "    .dataframe tbody tr th {\n",
       "        vertical-align: top;\n",
       "    }\n",
       "\n",
       "    .dataframe thead th {\n",
       "        text-align: right;\n",
       "    }\n",
       "</style>\n",
       "<table border=\"1\" class=\"dataframe\">\n",
       "  <thead>\n",
       "    <tr style=\"text-align: right;\">\n",
       "      <th></th>\n",
       "      <th>DYRK1A_N</th>\n",
       "      <th>ITSN1_N</th>\n",
       "      <th>BDNF_N</th>\n",
       "      <th>NR1_N</th>\n",
       "      <th>NR2A_N</th>\n",
       "      <th>pAKT_N</th>\n",
       "      <th>pBRAF_N</th>\n",
       "      <th>pCAMKII_N</th>\n",
       "      <th>pCREB_N</th>\n",
       "      <th>pELK_N</th>\n",
       "      <th>...</th>\n",
       "      <th>SHH_N</th>\n",
       "      <th>BAD_N</th>\n",
       "      <th>BCL2_N</th>\n",
       "      <th>pS6_N</th>\n",
       "      <th>pCFOS_N</th>\n",
       "      <th>SYP_N</th>\n",
       "      <th>H3AcK18_N</th>\n",
       "      <th>EGR1_N</th>\n",
       "      <th>H3MeK4_N</th>\n",
       "      <th>CaNA_N</th>\n",
       "    </tr>\n",
       "  </thead>\n",
       "  <tbody>\n",
       "    <tr>\n",
       "      <th>count</th>\n",
       "      <td>1080.00</td>\n",
       "      <td>1080.00</td>\n",
       "      <td>1080.00</td>\n",
       "      <td>1080.00</td>\n",
       "      <td>1080.00</td>\n",
       "      <td>1080.00</td>\n",
       "      <td>1080.00</td>\n",
       "      <td>1080.00</td>\n",
       "      <td>1080.00</td>\n",
       "      <td>1080.00</td>\n",
       "      <td>...</td>\n",
       "      <td>1080.00</td>\n",
       "      <td>1080.00</td>\n",
       "      <td>1080.00</td>\n",
       "      <td>1080.00</td>\n",
       "      <td>1080.00</td>\n",
       "      <td>1080.00</td>\n",
       "      <td>1080.00</td>\n",
       "      <td>1080.00</td>\n",
       "      <td>1080.00</td>\n",
       "      <td>1080.00</td>\n",
       "    </tr>\n",
       "    <tr>\n",
       "      <th>mean</th>\n",
       "      <td>0.43</td>\n",
       "      <td>0.62</td>\n",
       "      <td>0.32</td>\n",
       "      <td>2.30</td>\n",
       "      <td>3.84</td>\n",
       "      <td>0.23</td>\n",
       "      <td>0.18</td>\n",
       "      <td>3.54</td>\n",
       "      <td>0.21</td>\n",
       "      <td>1.43</td>\n",
       "      <td>...</td>\n",
       "      <td>0.23</td>\n",
       "      <td>0.16</td>\n",
       "      <td>0.13</td>\n",
       "      <td>0.12</td>\n",
       "      <td>0.13</td>\n",
       "      <td>0.45</td>\n",
       "      <td>0.17</td>\n",
       "      <td>0.18</td>\n",
       "      <td>0.21</td>\n",
       "      <td>1.34</td>\n",
       "    </tr>\n",
       "    <tr>\n",
       "      <th>std</th>\n",
       "      <td>0.25</td>\n",
       "      <td>0.25</td>\n",
       "      <td>0.05</td>\n",
       "      <td>0.35</td>\n",
       "      <td>0.93</td>\n",
       "      <td>0.04</td>\n",
       "      <td>0.03</td>\n",
       "      <td>1.29</td>\n",
       "      <td>0.03</td>\n",
       "      <td>0.47</td>\n",
       "      <td>...</td>\n",
       "      <td>0.03</td>\n",
       "      <td>0.03</td>\n",
       "      <td>0.02</td>\n",
       "      <td>0.01</td>\n",
       "      <td>0.02</td>\n",
       "      <td>0.07</td>\n",
       "      <td>0.05</td>\n",
       "      <td>0.04</td>\n",
       "      <td>0.05</td>\n",
       "      <td>0.32</td>\n",
       "    </tr>\n",
       "    <tr>\n",
       "      <th>min</th>\n",
       "      <td>0.15</td>\n",
       "      <td>0.25</td>\n",
       "      <td>0.12</td>\n",
       "      <td>1.33</td>\n",
       "      <td>1.74</td>\n",
       "      <td>0.06</td>\n",
       "      <td>0.06</td>\n",
       "      <td>1.34</td>\n",
       "      <td>0.11</td>\n",
       "      <td>0.43</td>\n",
       "      <td>...</td>\n",
       "      <td>0.16</td>\n",
       "      <td>0.09</td>\n",
       "      <td>0.08</td>\n",
       "      <td>0.07</td>\n",
       "      <td>0.09</td>\n",
       "      <td>0.26</td>\n",
       "      <td>0.08</td>\n",
       "      <td>0.11</td>\n",
       "      <td>0.10</td>\n",
       "      <td>0.59</td>\n",
       "    </tr>\n",
       "    <tr>\n",
       "      <th>25%</th>\n",
       "      <td>0.29</td>\n",
       "      <td>0.47</td>\n",
       "      <td>0.29</td>\n",
       "      <td>2.06</td>\n",
       "      <td>3.16</td>\n",
       "      <td>0.21</td>\n",
       "      <td>0.16</td>\n",
       "      <td>2.48</td>\n",
       "      <td>0.19</td>\n",
       "      <td>1.21</td>\n",
       "      <td>...</td>\n",
       "      <td>0.21</td>\n",
       "      <td>0.14</td>\n",
       "      <td>0.12</td>\n",
       "      <td>0.11</td>\n",
       "      <td>0.11</td>\n",
       "      <td>0.40</td>\n",
       "      <td>0.13</td>\n",
       "      <td>0.16</td>\n",
       "      <td>0.17</td>\n",
       "      <td>1.08</td>\n",
       "    </tr>\n",
       "    <tr>\n",
       "      <th>50%</th>\n",
       "      <td>0.37</td>\n",
       "      <td>0.57</td>\n",
       "      <td>0.32</td>\n",
       "      <td>2.30</td>\n",
       "      <td>3.76</td>\n",
       "      <td>0.23</td>\n",
       "      <td>0.18</td>\n",
       "      <td>3.33</td>\n",
       "      <td>0.21</td>\n",
       "      <td>1.36</td>\n",
       "      <td>...</td>\n",
       "      <td>0.22</td>\n",
       "      <td>0.16</td>\n",
       "      <td>0.13</td>\n",
       "      <td>0.12</td>\n",
       "      <td>0.13</td>\n",
       "      <td>0.45</td>\n",
       "      <td>0.17</td>\n",
       "      <td>0.18</td>\n",
       "      <td>0.21</td>\n",
       "      <td>1.32</td>\n",
       "    </tr>\n",
       "    <tr>\n",
       "      <th>75%</th>\n",
       "      <td>0.49</td>\n",
       "      <td>0.70</td>\n",
       "      <td>0.35</td>\n",
       "      <td>2.53</td>\n",
       "      <td>4.43</td>\n",
       "      <td>0.26</td>\n",
       "      <td>0.20</td>\n",
       "      <td>4.48</td>\n",
       "      <td>0.23</td>\n",
       "      <td>1.56</td>\n",
       "      <td>...</td>\n",
       "      <td>0.24</td>\n",
       "      <td>0.17</td>\n",
       "      <td>0.14</td>\n",
       "      <td>0.13</td>\n",
       "      <td>0.14</td>\n",
       "      <td>0.49</td>\n",
       "      <td>0.19</td>\n",
       "      <td>0.20</td>\n",
       "      <td>0.22</td>\n",
       "      <td>1.59</td>\n",
       "    </tr>\n",
       "    <tr>\n",
       "      <th>max</th>\n",
       "      <td>2.52</td>\n",
       "      <td>2.60</td>\n",
       "      <td>0.50</td>\n",
       "      <td>3.76</td>\n",
       "      <td>8.48</td>\n",
       "      <td>0.54</td>\n",
       "      <td>0.32</td>\n",
       "      <td>7.46</td>\n",
       "      <td>0.31</td>\n",
       "      <td>6.11</td>\n",
       "      <td>...</td>\n",
       "      <td>0.36</td>\n",
       "      <td>0.28</td>\n",
       "      <td>0.26</td>\n",
       "      <td>0.16</td>\n",
       "      <td>0.26</td>\n",
       "      <td>0.76</td>\n",
       "      <td>0.48</td>\n",
       "      <td>0.36</td>\n",
       "      <td>0.41</td>\n",
       "      <td>2.13</td>\n",
       "    </tr>\n",
       "  </tbody>\n",
       "</table>\n",
       "<p>8 rows × 77 columns</p>\n",
       "</div>"
      ],
      "text/plain": [
       "       DYRK1A_N  ITSN1_N   BDNF_N    NR1_N   NR2A_N   pAKT_N  pBRAF_N  \\\n",
       "count   1080.00  1080.00  1080.00  1080.00  1080.00  1080.00  1080.00   \n",
       "mean       0.43     0.62     0.32     2.30     3.84     0.23     0.18   \n",
       "std        0.25     0.25     0.05     0.35     0.93     0.04     0.03   \n",
       "min        0.15     0.25     0.12     1.33     1.74     0.06     0.06   \n",
       "25%        0.29     0.47     0.29     2.06     3.16     0.21     0.16   \n",
       "50%        0.37     0.57     0.32     2.30     3.76     0.23     0.18   \n",
       "75%        0.49     0.70     0.35     2.53     4.43     0.26     0.20   \n",
       "max        2.52     2.60     0.50     3.76     8.48     0.54     0.32   \n",
       "\n",
       "       pCAMKII_N  pCREB_N   pELK_N  ...    SHH_N    BAD_N   BCL2_N    pS6_N  \\\n",
       "count    1080.00  1080.00  1080.00  ...  1080.00  1080.00  1080.00  1080.00   \n",
       "mean        3.54     0.21     1.43  ...     0.23     0.16     0.13     0.12   \n",
       "std         1.29     0.03     0.47  ...     0.03     0.03     0.02     0.01   \n",
       "min         1.34     0.11     0.43  ...     0.16     0.09     0.08     0.07   \n",
       "25%         2.48     0.19     1.21  ...     0.21     0.14     0.12     0.11   \n",
       "50%         3.33     0.21     1.36  ...     0.22     0.16     0.13     0.12   \n",
       "75%         4.48     0.23     1.56  ...     0.24     0.17     0.14     0.13   \n",
       "max         7.46     0.31     6.11  ...     0.36     0.28     0.26     0.16   \n",
       "\n",
       "       pCFOS_N    SYP_N  H3AcK18_N   EGR1_N  H3MeK4_N   CaNA_N  \n",
       "count  1080.00  1080.00    1080.00  1080.00   1080.00  1080.00  \n",
       "mean      0.13     0.45       0.17     0.18      0.21     1.34  \n",
       "std       0.02     0.07       0.05     0.04      0.05     0.32  \n",
       "min       0.09     0.26       0.08     0.11      0.10     0.59  \n",
       "25%       0.11     0.40       0.13     0.16      0.17     1.08  \n",
       "50%       0.13     0.45       0.17     0.18      0.21     1.32  \n",
       "75%       0.14     0.49       0.19     0.20      0.22     1.59  \n",
       "max       0.26     0.76       0.48     0.36      0.41     2.13  \n",
       "\n",
       "[8 rows x 77 columns]"
      ]
     },
     "execution_count": 15,
     "metadata": {},
     "output_type": "execute_result"
    }
   ],
   "source": [
    "df.describe(include = np.number).round(2)"
   ]
  },
  {
   "cell_type": "code",
   "execution_count": 16,
   "metadata": {},
   "outputs": [
    {
     "data": {
      "text/html": [
       "<div>\n",
       "<style scoped>\n",
       "    .dataframe tbody tr th:only-of-type {\n",
       "        vertical-align: middle;\n",
       "    }\n",
       "\n",
       "    .dataframe tbody tr th {\n",
       "        vertical-align: top;\n",
       "    }\n",
       "\n",
       "    .dataframe thead th {\n",
       "        text-align: right;\n",
       "    }\n",
       "</style>\n",
       "<table border=\"1\" class=\"dataframe\">\n",
       "  <thead>\n",
       "    <tr style=\"text-align: right;\">\n",
       "      <th></th>\n",
       "      <th>MouseID</th>\n",
       "      <th>Genotype</th>\n",
       "      <th>Treatment</th>\n",
       "      <th>Behavior</th>\n",
       "      <th>class</th>\n",
       "    </tr>\n",
       "  </thead>\n",
       "  <tbody>\n",
       "    <tr>\n",
       "      <th>count</th>\n",
       "      <td>1080</td>\n",
       "      <td>1080</td>\n",
       "      <td>1080</td>\n",
       "      <td>1080</td>\n",
       "      <td>1080</td>\n",
       "    </tr>\n",
       "    <tr>\n",
       "      <th>unique</th>\n",
       "      <td>1080</td>\n",
       "      <td>2</td>\n",
       "      <td>2</td>\n",
       "      <td>2</td>\n",
       "      <td>8</td>\n",
       "    </tr>\n",
       "    <tr>\n",
       "      <th>top</th>\n",
       "      <td>J1291_2</td>\n",
       "      <td>Control</td>\n",
       "      <td>Memantine</td>\n",
       "      <td>S/C</td>\n",
       "      <td>c-SC-m</td>\n",
       "    </tr>\n",
       "    <tr>\n",
       "      <th>freq</th>\n",
       "      <td>1</td>\n",
       "      <td>570</td>\n",
       "      <td>570</td>\n",
       "      <td>555</td>\n",
       "      <td>150</td>\n",
       "    </tr>\n",
       "  </tbody>\n",
       "</table>\n",
       "</div>"
      ],
      "text/plain": [
       "        MouseID Genotype  Treatment Behavior   class\n",
       "count      1080     1080       1080     1080    1080\n",
       "unique     1080        2          2        2       8\n",
       "top     J1291_2  Control  Memantine      S/C  c-SC-m\n",
       "freq          1      570        570      555     150"
      ]
     },
     "execution_count": 16,
     "metadata": {},
     "output_type": "execute_result"
    }
   ],
   "source": [
    "df.describe(include = np.object)"
   ]
  },
  {
   "cell_type": "code",
   "execution_count": 17,
   "metadata": {},
   "outputs": [
    {
     "name": "stdout",
     "output_type": "stream",
     "text": [
      "<class 'pandas.core.frame.DataFrame'>\n",
      "Int64Index: 1080 entries, 0 to 1079\n",
      "Data columns (total 82 columns):\n",
      " #   Column           Non-Null Count  Dtype  \n",
      "---  ------           --------------  -----  \n",
      " 0   MouseID          1080 non-null   object \n",
      " 1   DYRK1A_N         1080 non-null   float64\n",
      " 2   ITSN1_N          1080 non-null   float64\n",
      " 3   BDNF_N           1080 non-null   float64\n",
      " 4   NR1_N            1080 non-null   float64\n",
      " 5   NR2A_N           1080 non-null   float64\n",
      " 6   pAKT_N           1080 non-null   float64\n",
      " 7   pBRAF_N          1080 non-null   float64\n",
      " 8   pCAMKII_N        1080 non-null   float64\n",
      " 9   pCREB_N          1080 non-null   float64\n",
      " 10  pELK_N           1080 non-null   float64\n",
      " 11  pERK_N           1080 non-null   float64\n",
      " 12  pJNK_N           1080 non-null   float64\n",
      " 13  PKCA_N           1080 non-null   float64\n",
      " 14  pMEK_N           1080 non-null   float64\n",
      " 15  pNR1_N           1080 non-null   float64\n",
      " 16  pNR2A_N          1080 non-null   float64\n",
      " 17  pNR2B_N          1080 non-null   float64\n",
      " 18  pPKCAB_N         1080 non-null   float64\n",
      " 19  pRSK_N           1080 non-null   float64\n",
      " 20  AKT_N            1080 non-null   float64\n",
      " 21  BRAF_N           1080 non-null   float64\n",
      " 22  CAMKII_N         1080 non-null   float64\n",
      " 23  CREB_N           1080 non-null   float64\n",
      " 24  ELK_N            1080 non-null   float64\n",
      " 25  ERK_N            1080 non-null   float64\n",
      " 26  GSK3B_N          1080 non-null   float64\n",
      " 27  JNK_N            1080 non-null   float64\n",
      " 28  MEK_N            1080 non-null   float64\n",
      " 29  TRKA_N           1080 non-null   float64\n",
      " 30  RSK_N            1080 non-null   float64\n",
      " 31  APP_N            1080 non-null   float64\n",
      " 32  Bcatenin_N       1080 non-null   float64\n",
      " 33  SOD1_N           1080 non-null   float64\n",
      " 34  MTOR_N           1080 non-null   float64\n",
      " 35  P38_N            1080 non-null   float64\n",
      " 36  pMTOR_N          1080 non-null   float64\n",
      " 37  DSCR1_N          1080 non-null   float64\n",
      " 38  AMPKA_N          1080 non-null   float64\n",
      " 39  NR2B_N           1080 non-null   float64\n",
      " 40  pNUMB_N          1080 non-null   float64\n",
      " 41  RAPTOR_N         1080 non-null   float64\n",
      " 42  TIAM1_N          1080 non-null   float64\n",
      " 43  pP70S6_N         1080 non-null   float64\n",
      " 44  NUMB_N           1080 non-null   float64\n",
      " 45  P70S6_N          1080 non-null   float64\n",
      " 46  pGSK3B_N         1080 non-null   float64\n",
      " 47  pPKCG_N          1080 non-null   float64\n",
      " 48  CDK5_N           1080 non-null   float64\n",
      " 49  S6_N             1080 non-null   float64\n",
      " 50  ADARB1_N         1080 non-null   float64\n",
      " 51  AcetylH3K9_N     1080 non-null   float64\n",
      " 52  RRP1_N           1080 non-null   float64\n",
      " 53  BAX_N            1080 non-null   float64\n",
      " 54  ARC_N            1080 non-null   float64\n",
      " 55  ERBB4_N          1080 non-null   float64\n",
      " 56  nNOS_N           1080 non-null   float64\n",
      " 57  Tau_N            1080 non-null   float64\n",
      " 58  GFAP_N           1080 non-null   float64\n",
      " 59  GluR3_N          1080 non-null   float64\n",
      " 60  GluR4_N          1080 non-null   float64\n",
      " 61  IL1B_N           1080 non-null   float64\n",
      " 62  P3525_N          1080 non-null   float64\n",
      " 63  pCASP9_N         1080 non-null   float64\n",
      " 64  PSD95_N          1080 non-null   float64\n",
      " 65  SNCA_N           1080 non-null   float64\n",
      " 66  Ubiquitin_N      1080 non-null   float64\n",
      " 67  pGSK3B_Tyr216_N  1080 non-null   float64\n",
      " 68  SHH_N            1080 non-null   float64\n",
      " 69  BAD_N            1080 non-null   float64\n",
      " 70  BCL2_N           1080 non-null   float64\n",
      " 71  pS6_N            1080 non-null   float64\n",
      " 72  pCFOS_N          1080 non-null   float64\n",
      " 73  SYP_N            1080 non-null   float64\n",
      " 74  H3AcK18_N        1080 non-null   float64\n",
      " 75  EGR1_N           1080 non-null   float64\n",
      " 76  H3MeK4_N         1080 non-null   float64\n",
      " 77  CaNA_N           1080 non-null   float64\n",
      " 78  Genotype         1080 non-null   object \n",
      " 79  Treatment        1080 non-null   object \n",
      " 80  Behavior         1080 non-null   object \n",
      " 81  class            1080 non-null   object \n",
      "dtypes: float64(77), object(5)\n",
      "memory usage: 700.3+ KB\n"
     ]
    }
   ],
   "source": [
    "df.info()"
   ]
  },
  {
   "cell_type": "markdown",
   "metadata": {},
   "source": [
    "# Task-2\n",
    "\n",
    "## Data Exploration"
   ]
  },
  {
   "cell_type": "markdown",
   "metadata": {},
   "source": [
    "## Single Variable plots"
   ]
  },
  {
   "cell_type": "code",
   "execution_count": 18,
   "metadata": {},
   "outputs": [
    {
     "data": {
      "image/png": "[encoded data removed]",
      "text/plain": [
       "<Figure size 432x288 with 1 Axes>"
      ]
     },
     "metadata": {
      "needs_background": "light"
     },
     "output_type": "display_data"
    }
   ],
   "source": [
    "# Histogram plot for protien DYRK1A_N\n",
    "\n",
    "protein = df['DYRK1A_N']\n",
    "plt.hist(protein, bins=25, edgecolor='black')\n",
    "plt.title('Expression Frequency Table DYRK1A_N')\n",
    "plt.xlabel('Protein Expression Level')\n",
    "plt.ylabel('Counts')\n",
    "plt.show()"
   ]
  },
  {
   "cell_type": "code",
   "execution_count": 19,
   "metadata": {},
   "outputs": [
    {
     "data": {
      "image/png": "[encoded data removed]",
      "text/plain": [
       "<Figure size 432x288 with 1 Axes>"
      ]
     },
     "metadata": {
      "needs_background": "light"
     },
     "output_type": "display_data"
    }
   ],
   "source": [
    "# Histogram plot for protien NR2A_N\n",
    "\n",
    "protein = df['NR2A_N']\n",
    "plt.hist(protein, bins=25, edgecolor='black')\n",
    "plt.title('Expression Frequency Table NR2A_N')\n",
    "plt.xlabel('Protein Expression Level')\n",
    "plt.ylabel('Counts')\n",
    "plt.show()"
   ]
  },
  {
   "cell_type": "code",
   "execution_count": 20,
   "metadata": {},
   "outputs": [
    {
     "data": {
      "image/png": "[encoded data removed]",
      "text/plain": [
       "<Figure size 432x288 with 1 Axes>"
      ]
     },
     "metadata": {
      "needs_background": "light"
     },
     "output_type": "display_data"
    }
   ],
   "source": [
    "#Bar plot for the target feature 'class'\n",
    "\n",
    "df['class'].value_counts().plot(kind='bar')\n",
    "plt.title('Class Frequency Table')\n",
    "plt.xlabel('Class Type')\n",
    "plt.xticks(rotation='horizontal')\n",
    "plt.ylabel('Counts')\n",
    "plt.show()"
   ]
  },
  {
   "cell_type": "code",
   "execution_count": 21,
   "metadata": {},
   "outputs": [
    {
     "data": {
      "image/png": "[encoded data removed]",
      "text/plain": [
       "<Figure size 360x360 with 1 Axes>"
      ]
     },
     "metadata": {},
     "output_type": "display_data"
    }
   ],
   "source": [
    "# Pie chart distribution of Genotype variable\n",
    "df['Genotype'].value_counts().plot(kind='pie',figsize=(5,5),autopct='%.2f')\n",
    "plt.title('Genotype distribution in the dataframe')\n",
    "plt.show()"
   ]
  },
  {
   "cell_type": "code",
   "execution_count": 22,
   "metadata": {},
   "outputs": [
    {
     "data": {
      "image/png": "[encoded data removed]",
      "text/plain": [
       "<Figure size 432x288 with 1 Axes>"
      ]
     },
     "metadata": {
      "needs_background": "light"
     },
     "output_type": "display_data"
    }
   ],
   "source": [
    "#Bar plot for the feature 'Treatment'\n",
    "\n",
    "df['Treatment'].value_counts().plot(kind='bar')\n",
    "plt.title('Treatment Frequency Table')\n",
    "plt.xlabel('Treatment')\n",
    "plt.xticks(rotation='horizontal')\n",
    "plt.ylabel('Counts')\n",
    "plt.show()"
   ]
  },
  {
   "cell_type": "code",
   "execution_count": 23,
   "metadata": {},
   "outputs": [
    {
     "data": {
      "image/png": "[encoded data removed]",
      "text/plain": [
       "<Figure size 432x288 with 1 Axes>"
      ]
     },
     "metadata": {
      "needs_background": "light"
     },
     "output_type": "display_data"
    }
   ],
   "source": [
    "# Density plot of protein SOD1_N\n",
    "sns.violinplot(x=\"SOD1_N\", data=df).set_title('Density plot for protein SOD1_N')\n",
    "plt.show()"
   ]
  },
  {
   "cell_type": "code",
   "execution_count": 24,
   "metadata": {},
   "outputs": [
    {
     "data": {
      "image/png": "[encoded data removed]",
      "text/plain": [
       "<Figure size 432x288 with 1 Axes>"
      ]
     },
     "metadata": {
      "needs_background": "light"
     },
     "output_type": "display_data"
    }
   ],
   "source": [
    "# Density plot of protein Bcatenin_N\n",
    "sns.violinplot(x=\"Bcatenin_N\", data=df).set_title('Density plot for protein Bcatenin_N')\n",
    "plt.show()"
   ]
  },
  {
   "cell_type": "code",
   "execution_count": 25,
   "metadata": {},
   "outputs": [
    {
     "data": {
      "image/png": "[encoded data removed]",
      "text/plain": [
       "<Figure size 432x288 with 1 Axes>"
      ]
     },
     "metadata": {
      "needs_background": "light"
     },
     "output_type": "display_data"
    }
   ],
   "source": [
    "# Histogram plot for protien pCAMKII_N\n",
    "\n",
    "protein = df['pCAMKII_N']\n",
    "plt.hist(protein, bins=25, edgecolor='black')\n",
    "plt.title('Expression Frequency Table pCAMKII_N')\n",
    "plt.xlabel('Protein Expression Level')\n",
    "plt.ylabel('Counts')\n",
    "plt.show()"
   ]
  },
  {
   "cell_type": "code",
   "execution_count": 26,
   "metadata": {},
   "outputs": [
    {
     "data": {
      "image/png": "[encoded data removed]",
      "text/plain": [
       "<Figure size 432x288 with 1 Axes>"
      ]
     },
     "metadata": {
      "needs_background": "light"
     },
     "output_type": "display_data"
    }
   ],
   "source": [
    "# Histogram plot for protien NUMB_N\n",
    "sns.violinplot(x=\"NUMB_N\", data=df).set_title('Density plot for protein NUMB_N')\n",
    "plt.show()"
   ]
  },
  {
   "cell_type": "code",
   "execution_count": 27,
   "metadata": {},
   "outputs": [
    {
     "data": {
      "image/png": "[encoded data removed]",
      "text/plain": [
       "<Figure size 432x288 with 1 Axes>"
      ]
     },
     "metadata": {
      "needs_background": "light"
     },
     "output_type": "display_data"
    }
   ],
   "source": [
    "# Histogram plot for protien S6_N\n",
    "\n",
    "protein = df['S6_N']\n",
    "plt.hist(protein, bins=25, edgecolor='black')\n",
    "plt.title('Expression Frequency Table S6_N')\n",
    "plt.xlabel('Protein Expression Level')\n",
    "plt.ylabel('Counts')\n",
    "plt.show()"
   ]
  },
  {
   "cell_type": "markdown",
   "metadata": {},
   "source": [
    "## Two Variable plots with Hypothesis"
   ]
  },
  {
   "cell_type": "markdown",
   "metadata": {},
   "source": [
    "Hypothesis-1: Investigation to determine that protein DYRK1A_N and protein ITSN1_N have a linear relationship between them"
   ]
  },
  {
   "cell_type": "code",
   "execution_count": 28,
   "metadata": {},
   "outputs": [
    {
     "data": {
      "image/png": "[encoded data removed]",
      "text/plain": [
       "<Figure size 432x288 with 1 Axes>"
      ]
     },
     "metadata": {
      "needs_background": "light"
     },
     "output_type": "display_data"
    }
   ],
   "source": [
    "plt.plot( 'DYRK1A_N', 'ITSN1_N', data=df, linestyle='none', marker='o',markersize=5)\n",
    "plt.title('Scatter plot of DYRK1A_N and ITSN1_N')\n",
    "plt.xlabel(\"DYRK1A_N\")\n",
    "plt.ylabel(\"ITSN1_N\")\n",
    "plt.show()"
   ]
  },
  {
   "cell_type": "markdown",
   "metadata": {},
   "source": [
    "The above graph shows a positive linear relationship between the two proteins that supports my hypothesis"
   ]
  },
  {
   "cell_type": "markdown",
   "metadata": {},
   "source": [
    "Hypothesis-2: Investigation to determine that Ts65Dn category mouse show more C/S type behavior as compared to S/C behavior irrespective of the type of drug Memantine or saline"
   ]
  },
  {
   "cell_type": "code",
   "execution_count": 29,
   "metadata": {},
   "outputs": [
    {
     "data": {
      "text/plain": [
       "Text(0, 0.5, 'Count')"
      ]
     },
     "execution_count": 29,
     "metadata": {},
     "output_type": "execute_result"
    },
    {
     "data": {
      "image/png": "[encoded data removed]",
      "text/plain": [
       "<Figure size 720x360 with 1 Axes>"
      ]
     },
     "metadata": {
      "needs_background": "light"
     },
     "output_type": "display_data"
    }
   ],
   "source": [
    "pd.crosstab(df['Genotype'],df['Behavior'] ).plot(kind='bar',figsize=(10,5), stacked=False)\n",
    "plt.title('Genotype vs Behavior')\n",
    "plt.xlabel('Genotype')\n",
    "plt.ylabel('Count')"
   ]
  },
  {
   "cell_type": "markdown",
   "metadata": {},
   "source": [
    "My hypothesis is proved to be wrong as the graph above depicts that Ts65Dn category mouse show more S/C type behavior as compared to C/S behavior irrespective of the type of drug Memantine or saline"
   ]
  },
  {
   "cell_type": "markdown",
   "metadata": {},
   "source": [
    "Hypothesis-3: Investigation to determine that all mouse injected with Memantine show more C/S type behavior as compared to S/C behavior irrespective of the type of mouse it is injected to."
   ]
  },
  {
   "cell_type": "code",
   "execution_count": 30,
   "metadata": {},
   "outputs": [
    {
     "data": {
      "text/plain": [
       "Text(0, 0.5, 'Count')"
      ]
     },
     "execution_count": 30,
     "metadata": {},
     "output_type": "execute_result"
    },
    {
     "data": {
      "image/png": "[encoded data removed]",
      "text/plain": [
       "<Figure size 720x360 with 1 Axes>"
      ]
     },
     "metadata": {
      "needs_background": "light"
     },
     "output_type": "display_data"
    }
   ],
   "source": [
    "pd.crosstab(df['Treatment'],df['Behavior'] ).plot(kind='bar',figsize=(10,5), stacked=False)\n",
    "plt.title('Treatment vs Behavior')\n",
    "plt.xlabel('Treatment')\n",
    "plt.ylabel('Count')"
   ]
  },
  {
   "cell_type": "markdown",
   "metadata": {},
   "source": [
    "My hypothesis is not exactly true as the graph above depicts that all mouse injected with Memantine show equal C/S type behavior and S/C behavior irrespective of the type of mouse it is injected to."
   ]
  },
  {
   "cell_type": "markdown",
   "metadata": {},
   "source": [
    "Hypotheis-4: Investigation to determine that protein GluR4_N and protein IL1B_N have a linear relationship between them"
   ]
  },
  {
   "cell_type": "code",
   "execution_count": 31,
   "metadata": {},
   "outputs": [
    {
     "data": {
      "image/png": "[encoded data removed]",
      "text/plain": [
       "<Figure size 432x288 with 1 Axes>"
      ]
     },
     "metadata": {
      "needs_background": "light"
     },
     "output_type": "display_data"
    }
   ],
   "source": [
    "plt.plot( 'GluR4_N', 'IL1B_N', data=df, linestyle='none', marker='o',markersize=5)\n",
    "plt.title('Scatter plot of GluR4_N and IL1B_N')\n",
    "plt.xlabel(\"GluR4_N\")\n",
    "plt.ylabel(\"IL1B_N\")\n",
    "plt.show()"
   ]
  },
  {
   "cell_type": "markdown",
   "metadata": {},
   "source": [
    "The above scatter plot shows that there is no specific kind of relation between protein type GluR4_N and protein IL1B_N as the points are well scattered in the plot."
   ]
  },
  {
   "cell_type": "markdown",
   "metadata": {},
   "source": [
    "Hypothesis-5: Investigation to determine the equal distributon of protein ARC_N across both Genotypes"
   ]
  },
  {
   "cell_type": "code",
   "execution_count": 32,
   "metadata": {},
   "outputs": [
    {
     "data": {
      "text/plain": [
       "Text(0, 0.5, 'value')"
      ]
     },
     "execution_count": 32,
     "metadata": {},
     "output_type": "execute_result"
    },
    {
     "data": {
      "image/png": "[encoded data removed]",
      "text/plain": [
       "<Figure size 720x576 with 1 Axes>"
      ]
     },
     "metadata": {
      "needs_background": "light"
     },
     "output_type": "display_data"
    }
   ],
   "source": [
    "# boxplot for Genotype and protein ARC_N\n",
    "df.boxplot(column='ARC_N', by='Genotype', figsize = (10,8))\n",
    "plt.title('Box plot grouped by Genotype')\n",
    "plt.xlabel(\"Genotype\")\n",
    "plt.ylabel(\"value\")"
   ]
  },
  {
   "cell_type": "markdown",
   "metadata": {},
   "source": [
    "The above box plots shows that the distribution protein ARC_N is more varied in case of trisomic type mouse than that of control  mouse."
   ]
  },
  {
   "cell_type": "markdown",
   "metadata": {},
   "source": [
    "    Hypothesis 6: Investigation to determine the similar distribution of protein TIAM1_N across both Genotype"
   ]
  },
  {
   "cell_type": "code",
   "execution_count": 33,
   "metadata": {},
   "outputs": [
    {
     "data": {
      "image/png": "[encoded data removed]",
      "text/plain": [
       "<Figure size 432x288 with 1 Axes>"
      ]
     },
     "metadata": {
      "needs_background": "light"
     },
     "output_type": "display_data"
    }
   ],
   "source": [
    "# boxplot for Genotype and protein TIAM1_N\n",
    "sns.violinplot(x=\"Genotype\", y=\"TIAM1_N\", data=df,palette='Set2').set_title('Density plot for protein TIAM1_N')\n",
    "plt.show()"
   ]
  },
  {
   "cell_type": "markdown",
   "metadata": {},
   "source": [
    "The above graph supports my hypothesis that their distribution is similar and is more concentrated around their median."
   ]
  },
  {
   "cell_type": "markdown",
   "metadata": {},
   "source": [
    "Hypothesis 7: Investigation to determine the similar distribution of protein Ubiquitin_N across all class"
   ]
  },
  {
   "cell_type": "code",
   "execution_count": 34,
   "metadata": {},
   "outputs": [
    {
     "data": {
      "image/png": "[encoded data removed]",
      "text/plain": [
       "<Figure size 720x360 with 1 Axes>"
      ]
     },
     "metadata": {
      "needs_background": "light"
     },
     "output_type": "display_data"
    }
   ],
   "source": [
    "# Violin plot to display distribution of protein across all class\n",
    "plt.figure(figsize=(10,5))\n",
    "sns.violinplot(x=\"class\", y=\"Ubiquitin_N\", data=df,palette='Set2').set_title('Density plot for protein Ubiquitin_N')\n",
    "plt.show()"
   ]
  },
  {
   "cell_type": "markdown",
   "metadata": {},
   "source": [
    "The hypothesis is not true as the above violin plot shows the different distribution of protein Ubiquitin_N across all class."
   ]
  },
  {
   "cell_type": "markdown",
   "metadata": {},
   "source": [
    "Hypothesis-8: Investigation to determine that protein SNCA_N and protein pGSK3B_Tyr216_N have a linear relationship between them"
   ]
  },
  {
   "cell_type": "code",
   "execution_count": 35,
   "metadata": {},
   "outputs": [
    {
     "data": {
      "image/png": "[encoded data removed]",
      "text/plain": [
       "<Figure size 432x288 with 1 Axes>"
      ]
     },
     "metadata": {
      "needs_background": "light"
     },
     "output_type": "display_data"
    }
   ],
   "source": [
    "plt.plot( 'SNCA_N', 'pGSK3B_Tyr216_N', data=df, linestyle='none', marker='o',markersize=5)\n",
    "plt.title('Scatter plot of SNCA_N and pGSK3B_Tyr216_N')\n",
    "plt.xlabel(\"SNCA_N\")\n",
    "plt.ylabel(\"pGSK3B_Tyr216_N\")\n",
    "plt.show()"
   ]
  },
  {
   "cell_type": "markdown",
   "metadata": {},
   "source": [
    "The above scatter plot shows that there is no relation between protein SNCA_N and protein pGSK3B_Tyr216_N as the points are well  scatterd in the graph"
   ]
  },
  {
   "cell_type": "markdown",
   "metadata": {},
   "source": [
    "Hypothesis 9: Investigation to determine the similar distribution of protein pCAMKII_N across both Treatment type"
   ]
  },
  {
   "cell_type": "code",
   "execution_count": 36,
   "metadata": {},
   "outputs": [
    {
     "data": {
      "image/png": "[encoded data removed]",
      "text/plain": [
       "<Figure size 432x288 with 1 Axes>"
      ]
     },
     "metadata": {
      "needs_background": "light"
     },
     "output_type": "display_data"
    }
   ],
   "source": [
    "sns.violinplot(x=\"Treatment\", y=\"pCAMKII_N\", data=df,palette='Set2').set_title('Density plot for protein SHH_N')\n",
    "plt.show()"
   ]
  },
  {
   "cell_type": "markdown",
   "metadata": {},
   "source": [
    "The violin density plot suggests that the distribution of protein is more concentrated about the median in case of saline and better distributed in case of Memantine. Hence the hypothesis is not true."
   ]
  },
  {
   "cell_type": "markdown",
   "metadata": {},
   "source": [
    "Hypothesis-10: Investigation to determine that protein SNCA_N and protein pNR1_N have a linear relationship between them"
   ]
  },
  {
   "cell_type": "code",
   "execution_count": 37,
   "metadata": {},
   "outputs": [
    {
     "data": {
      "image/png": "[encoded data removed]",
      "text/plain": [
       "<Figure size 432x288 with 1 Axes>"
      ]
     },
     "metadata": {
      "needs_background": "light"
     },
     "output_type": "display_data"
    }
   ],
   "source": [
    "plt.plot( 'SNCA_N', 'pNR1_N', data=df, linestyle='none', marker='o',markersize=5)\n",
    "plt.title('Scatter plot of SNCA_N and pNR1_N')\n",
    "plt.xlabel(\"SNCA_N\")\n",
    "plt.ylabel(\"pGSK3B_Tyr216_N\")\n",
    "plt.show()"
   ]
  },
  {
   "cell_type": "markdown",
   "metadata": {},
   "source": [
    "The above scatter plot shows that there is no relation between protein SNCA_N and protein pNR1_N as the points are well  scatterd in the graph"
   ]
  },
  {
   "cell_type": "markdown",
   "metadata": {},
   "source": [
    "# Data Modelling"
   ]
  },
  {
   "cell_type": "markdown",
   "metadata": {},
   "source": [
    "Before begining the Data Modelling process we need to get rid of unnecessary columns or any columns that provides redundant information.\n",
    "1. We drop the 'class' column and save it in a different variable name 'target'- As this is the feature we are trying to predict.\n",
    "2. We drop 'MouseID' column from the dataframe as it is a unique variable and serves no purpose in prediction of target.\n",
    "3. We drop 'Genotype', 'Treatment', 'Behavior' columns from the dataframe as they provide redundant information and is same as provided by the 'class'-target column."
   ]
  },
  {
   "cell_type": "code",
   "execution_count": 38,
   "metadata": {},
   "outputs": [],
   "source": [
    "df1=df1.drop(columns='class')\n",
    "df1.drop(columns='MouseID',inplace=True)\n",
    "df1.drop(columns='Genotype',inplace=True)\n",
    "df1.drop(columns='Treatment',inplace=True)\n",
    "df1.drop(columns='Behavior',inplace=True)"
   ]
  },
  {
   "cell_type": "code",
   "execution_count": 39,
   "metadata": {},
   "outputs": [
    {
     "data": {
      "text/plain": [
       "c-SC-m    150\n",
       "c-CS-m    150\n",
       "c-CS-s    135\n",
       "t-SC-m    135\n",
       "t-SC-s    135\n",
       "t-CS-m    135\n",
       "c-SC-s    135\n",
       "t-CS-s    105\n",
       "Name: class, dtype: int64"
      ]
     },
     "execution_count": 39,
     "metadata": {},
     "output_type": "execute_result"
    }
   ],
   "source": [
    "# Separating target feature from the dataframe\n",
    "target=df['class']\n",
    "target.value_counts()"
   ]
  },
  {
   "cell_type": "markdown",
   "metadata": {},
   "source": [
    "## Scaling of the descriptive features\n",
    "### Using scikit learn MinMaxScaler to scale the descriptive feaatures"
   ]
  },
  {
   "cell_type": "code",
   "execution_count": 40,
   "metadata": {},
   "outputs": [],
   "source": [
    "from sklearn import preprocessing\n",
    "Data = preprocessing.MinMaxScaler().fit_transform(df1)"
   ]
  },
  {
   "cell_type": "code",
   "execution_count": 41,
   "metadata": {},
   "outputs": [
    {
     "data": {
      "text/html": [
       "<div>\n",
       "<style scoped>\n",
       "    .dataframe tbody tr th:only-of-type {\n",
       "        vertical-align: middle;\n",
       "    }\n",
       "\n",
       "    .dataframe tbody tr th {\n",
       "        vertical-align: top;\n",
       "    }\n",
       "\n",
       "    .dataframe thead th {\n",
       "        text-align: right;\n",
       "    }\n",
       "</style>\n",
       "<table border=\"1\" class=\"dataframe\">\n",
       "  <thead>\n",
       "    <tr style=\"text-align: right;\">\n",
       "      <th></th>\n",
       "      <th>DYRK1A_N</th>\n",
       "      <th>ITSN1_N</th>\n",
       "      <th>BDNF_N</th>\n",
       "      <th>NR1_N</th>\n",
       "      <th>NR2A_N</th>\n",
       "      <th>pAKT_N</th>\n",
       "      <th>pBRAF_N</th>\n",
       "      <th>pCAMKII_N</th>\n",
       "      <th>pCREB_N</th>\n",
       "      <th>pELK_N</th>\n",
       "      <th>...</th>\n",
       "      <th>SHH_N</th>\n",
       "      <th>BAD_N</th>\n",
       "      <th>BCL2_N</th>\n",
       "      <th>pS6_N</th>\n",
       "      <th>pCFOS_N</th>\n",
       "      <th>SYP_N</th>\n",
       "      <th>H3AcK18_N</th>\n",
       "      <th>EGR1_N</th>\n",
       "      <th>H3MeK4_N</th>\n",
       "      <th>CaNA_N</th>\n",
       "    </tr>\n",
       "  </thead>\n",
       "  <tbody>\n",
       "    <tr>\n",
       "      <th>0</th>\n",
       "      <td>0.151122</td>\n",
       "      <td>0.212885</td>\n",
       "      <td>0.824638</td>\n",
       "      <td>0.612119</td>\n",
       "      <td>0.630482</td>\n",
       "      <td>0.327006</td>\n",
       "      <td>0.448666</td>\n",
       "      <td>0.168257</td>\n",
       "      <td>0.617322</td>\n",
       "      <td>0.232553</td>\n",
       "      <td>...</td>\n",
       "      <td>0.162941</td>\n",
       "      <td>0.177312</td>\n",
       "      <td>0.299172</td>\n",
       "      <td>0.426816</td>\n",
       "      <td>0.133930</td>\n",
       "      <td>0.336299</td>\n",
       "      <td>0.087715</td>\n",
       "      <td>0.102890</td>\n",
       "      <td>0.084580</td>\n",
       "      <td>0.705738</td>\n",
       "    </tr>\n",
       "    <tr>\n",
       "      <th>1</th>\n",
       "      <td>0.155750</td>\n",
       "      <td>0.188226</td>\n",
       "      <td>0.776455</td>\n",
       "      <td>0.601070</td>\n",
       "      <td>0.585247</td>\n",
       "      <td>0.311887</td>\n",
       "      <td>0.429899</td>\n",
       "      <td>0.154925</td>\n",
       "      <td>0.590173</td>\n",
       "      <td>0.205362</td>\n",
       "      <td>...</td>\n",
       "      <td>0.220010</td>\n",
       "      <td>0.146494</td>\n",
       "      <td>0.299172</td>\n",
       "      <td>0.429952</td>\n",
       "      <td>0.110434</td>\n",
       "      <td>0.365208</td>\n",
       "      <td>0.080692</td>\n",
       "      <td>0.115874</td>\n",
       "      <td>0.093977</td>\n",
       "      <td>0.749771</td>\n",
       "    </tr>\n",
       "    <tr>\n",
       "      <th>2</th>\n",
       "      <td>0.153459</td>\n",
       "      <td>0.205696</td>\n",
       "      <td>0.793572</td>\n",
       "      <td>0.558911</td>\n",
       "      <td>0.575910</td>\n",
       "      <td>0.306369</td>\n",
       "      <td>0.441381</td>\n",
       "      <td>0.153485</td>\n",
       "      <td>0.607102</td>\n",
       "      <td>0.199194</td>\n",
       "      <td>...</td>\n",
       "      <td>0.186816</td>\n",
       "      <td>0.155920</td>\n",
       "      <td>0.299172</td>\n",
       "      <td>0.448652</td>\n",
       "      <td>0.121560</td>\n",
       "      <td>0.353621</td>\n",
       "      <td>0.080465</td>\n",
       "      <td>0.109050</td>\n",
       "      <td>0.082162</td>\n",
       "      <td>0.868229</td>\n",
       "    </tr>\n",
       "    <tr>\n",
       "      <th>3</th>\n",
       "      <td>0.125169</td>\n",
       "      <td>0.157688</td>\n",
       "      <td>0.637326</td>\n",
       "      <td>0.468152</td>\n",
       "      <td>0.480646</td>\n",
       "      <td>0.335530</td>\n",
       "      <td>0.444307</td>\n",
       "      <td>0.132074</td>\n",
       "      <td>0.486945</td>\n",
       "      <td>0.205135</td>\n",
       "      <td>...</td>\n",
       "      <td>0.179047</td>\n",
       "      <td>0.229602</td>\n",
       "      <td>0.299172</td>\n",
       "      <td>0.392700</td>\n",
       "      <td>0.151031</td>\n",
       "      <td>0.265619</td>\n",
       "      <td>0.126763</td>\n",
       "      <td>0.164241</td>\n",
       "      <td>0.144543</td>\n",
       "      <td>0.721879</td>\n",
       "    </tr>\n",
       "    <tr>\n",
       "      <th>4</th>\n",
       "      <td>0.122146</td>\n",
       "      <td>0.157838</td>\n",
       "      <td>0.637787</td>\n",
       "      <td>0.426467</td>\n",
       "      <td>0.441977</td>\n",
       "      <td>0.314976</td>\n",
       "      <td>0.433100</td>\n",
       "      <td>0.129086</td>\n",
       "      <td>0.410194</td>\n",
       "      <td>0.189152</td>\n",
       "      <td>...</td>\n",
       "      <td>0.245702</td>\n",
       "      <td>0.215008</td>\n",
       "      <td>0.299172</td>\n",
       "      <td>0.410187</td>\n",
       "      <td>0.147711</td>\n",
       "      <td>0.350381</td>\n",
       "      <td>0.096959</td>\n",
       "      <td>0.136298</td>\n",
       "      <td>0.149281</td>\n",
       "      <td>0.812053</td>\n",
       "    </tr>\n",
       "  </tbody>\n",
       "</table>\n",
       "<p>5 rows × 77 columns</p>\n",
       "</div>"
      ],
      "text/plain": [
       "   DYRK1A_N   ITSN1_N    BDNF_N     NR1_N    NR2A_N    pAKT_N   pBRAF_N  \\\n",
       "0  0.151122  0.212885  0.824638  0.612119  0.630482  0.327006  0.448666   \n",
       "1  0.155750  0.188226  0.776455  0.601070  0.585247  0.311887  0.429899   \n",
       "2  0.153459  0.205696  0.793572  0.558911  0.575910  0.306369  0.441381   \n",
       "3  0.125169  0.157688  0.637326  0.468152  0.480646  0.335530  0.444307   \n",
       "4  0.122146  0.157838  0.637787  0.426467  0.441977  0.314976  0.433100   \n",
       "\n",
       "   pCAMKII_N   pCREB_N    pELK_N  ...     SHH_N     BAD_N    BCL2_N     pS6_N  \\\n",
       "0   0.168257  0.617322  0.232553  ...  0.162941  0.177312  0.299172  0.426816   \n",
       "1   0.154925  0.590173  0.205362  ...  0.220010  0.146494  0.299172  0.429952   \n",
       "2   0.153485  0.607102  0.199194  ...  0.186816  0.155920  0.299172  0.448652   \n",
       "3   0.132074  0.486945  0.205135  ...  0.179047  0.229602  0.299172  0.392700   \n",
       "4   0.129086  0.410194  0.189152  ...  0.245702  0.215008  0.299172  0.410187   \n",
       "\n",
       "    pCFOS_N     SYP_N  H3AcK18_N    EGR1_N  H3MeK4_N    CaNA_N  \n",
       "0  0.133930  0.336299   0.087715  0.102890  0.084580  0.705738  \n",
       "1  0.110434  0.365208   0.080692  0.115874  0.093977  0.749771  \n",
       "2  0.121560  0.353621   0.080465  0.109050  0.082162  0.868229  \n",
       "3  0.151031  0.265619   0.126763  0.164241  0.144543  0.721879  \n",
       "4  0.147711  0.350381   0.096959  0.136298  0.149281  0.812053  \n",
       "\n",
       "[5 rows x 77 columns]"
      ]
     },
     "execution_count": 41,
     "metadata": {},
     "output_type": "execute_result"
    }
   ],
   "source": [
    "# Dataframe with descriptive features after scaling(Df_scaled)\n",
    "Df_scaled= pd.DataFrame(Data,columns=df1.columns)\n",
    "Df_scaled.head()"
   ]
  },
  {
   "cell_type": "markdown",
   "metadata": {},
   "source": [
    "## Generating Train/Test Set\n",
    "\n",
    "## Taking instance where train-test Split ratio is 50-50\n"
   ]
  },
  {
   "cell_type": "code",
   "execution_count": 42,
   "metadata": {},
   "outputs": [],
   "source": [
    "# Taking instance where train-test Split ratio is 50-50\n",
    "from sklearn.model_selection import train_test_split\n",
    "X_train, X_test, y_train, y_test = train_test_split(Df_scaled,target,test_size=0.5,random_state=4)"
   ]
  },
  {
   "cell_type": "code",
   "execution_count": 43,
   "metadata": {},
   "outputs": [
    {
     "name": "stdout",
     "output_type": "stream",
     "text": [
      "X_train: (540, 77)\n",
      "y_train: (540,)\n",
      "X_test: (540, 77)\n",
      "y_test: (540,)\n"
     ]
    }
   ],
   "source": [
    "print(\"X_train: \" + str(X_train.shape))\n",
    "print(\"y_train: \" + str(y_train.shape))\n",
    "print(\"X_test: \" + str(X_test.shape))\n",
    "print(\"y_test: \" + str(y_test.shape))"
   ]
  },
  {
   "cell_type": "markdown",
   "metadata": {},
   "source": [
    "## K-Nearest Neighbour Classifier and its Hyperparameter Tuning"
   ]
  },
  {
   "cell_type": "code",
   "execution_count": 44,
   "metadata": {},
   "outputs": [
    {
     "data": {
      "text/plain": [
       "KNeighborsClassifier(algorithm='auto', leaf_size=30, metric='minkowski',\n",
       "                     metric_params=None, n_jobs=None, n_neighbors=5, p=2,\n",
       "                     weights='uniform')"
      ]
     },
     "execution_count": 44,
     "metadata": {},
     "output_type": "execute_result"
    }
   ],
   "source": [
    "from sklearn.neighbors import KNeighborsClassifier\n",
    "# K-Nearest Neighbor with default parameters(K=5, weights=uniform , p=2)\n",
    "clf=KNeighborsClassifier()\n",
    "clf.fit(X_train,y_train)"
   ]
  },
  {
   "cell_type": "code",
   "execution_count": 45,
   "metadata": {},
   "outputs": [
    {
     "data": {
      "text/plain": [
       "(540,)"
      ]
     },
     "execution_count": 45,
     "metadata": {},
     "output_type": "execute_result"
    }
   ],
   "source": [
    "y_pre=clf.predict(X_test)\n",
    "y_pre.shape"
   ]
  },
  {
   "cell_type": "code",
   "execution_count": 46,
   "metadata": {},
   "outputs": [
    {
     "name": "stdout",
     "output_type": "stream",
     "text": [
      "[[67  0  0  0  0  2  0  0]\n",
      " [ 8 61  0  0  2  1  0  0]\n",
      " [ 0  0 78  0  0  0  2  1]\n",
      " [ 0  0  1 51  4  0  0  0]\n",
      " [ 8  0  0  0 60  3  0  0]\n",
      " [ 9  0  0  0  3 45  0  0]\n",
      " [ 1  0  2  0  0  0 66  0]\n",
      " [ 0  0  2  0  0  0  0 63]]\n"
     ]
    }
   ],
   "source": [
    "# Confusion matrix \n",
    "from sklearn.metrics import confusion_matrix\n",
    "cm=confusion_matrix(y_test,y_pre)\n",
    "print(cm)"
   ]
  },
  {
   "cell_type": "code",
   "execution_count": 47,
   "metadata": {},
   "outputs": [
    {
     "name": "stdout",
     "output_type": "stream",
     "text": [
      "[Train/test split] score: 0.90926\n"
     ]
    }
   ],
   "source": [
    "# Training score of the KNN model\n",
    "print(\"[Train/test split] score: {:.5f}\".format(clf.score(X_test, y_test)))"
   ]
  },
  {
   "cell_type": "code",
   "execution_count": 48,
   "metadata": {},
   "outputs": [
    {
     "name": "stdout",
     "output_type": "stream",
     "text": [
      "              precision    recall  f1-score   support\n",
      "\n",
      "      c-CS-m       0.72      0.97      0.83        69\n",
      "      c-CS-s       1.00      0.85      0.92        72\n",
      "      c-SC-m       0.94      0.96      0.95        81\n",
      "      c-SC-s       1.00      0.91      0.95        56\n",
      "      t-CS-m       0.87      0.85      0.86        71\n",
      "      t-CS-s       0.88      0.79      0.83        57\n",
      "      t-SC-m       0.97      0.96      0.96        69\n",
      "      t-SC-s       0.98      0.97      0.98        65\n",
      "\n",
      "    accuracy                           0.91       540\n",
      "   macro avg       0.92      0.91      0.91       540\n",
      "weighted avg       0.92      0.91      0.91       540\n",
      "\n"
     ]
    }
   ],
   "source": [
    "# Classification Report to get all the scoring metric scores\n",
    "from sklearn.metrics import classification_report\n",
    "print(classification_report(y_test,y_pre))"
   ]
  },
  {
   "cell_type": "markdown",
   "metadata": {},
   "source": [
    "We observe that a KNN model with default parameters (K=5, weights=uniform , p=2) gives a accuracy score of 0.91"
   ]
  },
  {
   "cell_type": "code",
   "execution_count": 49,
   "metadata": {},
   "outputs": [],
   "source": [
    "#Fitting the data inside the model using X_train and y_train using (p=1) K classifier\n",
    "clf_p1 = KNeighborsClassifier(p=1)\n",
    "fit_p1 = clf_p1.fit(X_train, y_train)\n",
    "y_pre_p1 = fit_p1.predict(X_test)   "
   ]
  },
  {
   "cell_type": "code",
   "execution_count": 50,
   "metadata": {},
   "outputs": [
    {
     "name": "stdout",
     "output_type": "stream",
     "text": [
      "[[67  0  0  0  0  2  0  0]\n",
      " [ 8 61  0  0  1  2  0  0]\n",
      " [ 0  0 78  0  0  0  3  0]\n",
      " [ 0  0  1 53  2  0  0  0]\n",
      " [ 5  0  0  0 63  3  0  0]\n",
      " [ 5  0  0  0  4 48  0  0]\n",
      " [ 0  0  1  3  0  0 65  0]\n",
      " [ 0  0  2  0  0  0  0 63]]\n"
     ]
    }
   ],
   "source": [
    "cm = confusion_matrix(y_test, y_pre_p1)\n",
    "print (cm)"
   ]
  },
  {
   "cell_type": "code",
   "execution_count": 51,
   "metadata": {},
   "outputs": [
    {
     "name": "stdout",
     "output_type": "stream",
     "text": [
      "              precision    recall  f1-score   support\n",
      "\n",
      "      c-CS-m       0.79      0.97      0.87        69\n",
      "      c-CS-s       1.00      0.85      0.92        72\n",
      "      c-SC-m       0.95      0.96      0.96        81\n",
      "      c-SC-s       0.95      0.95      0.95        56\n",
      "      t-CS-m       0.90      0.89      0.89        71\n",
      "      t-CS-s       0.87      0.84      0.86        57\n",
      "      t-SC-m       0.96      0.94      0.95        69\n",
      "      t-SC-s       1.00      0.97      0.98        65\n",
      "\n",
      "    accuracy                           0.92       540\n",
      "   macro avg       0.93      0.92      0.92       540\n",
      "weighted avg       0.93      0.92      0.92       540\n",
      "\n"
     ]
    }
   ],
   "source": [
    "print(classification_report(y_test,y_pre_p1))"
   ]
  },
  {
   "cell_type": "markdown",
   "metadata": {},
   "source": [
    "We observe that a KNN model with parameters (K=5, weights=uniform , p=1) gives a accuracy score of 0.92 which is slightly better than the model with default parameters."
   ]
  },
  {
   "cell_type": "code",
   "execution_count": 52,
   "metadata": {},
   "outputs": [],
   "source": [
    "#Fitting the data inside the model using X_train and y_train using (k = 3) K classifier with parameter weights=distance\n",
    "clf_k3 = KNeighborsClassifier(3,weights='distance')\n",
    "fit_k3 = clf_k3.fit(X_train, y_train)\n",
    "y_pre_k3 = fit_k3.predict(X_test)   "
   ]
  },
  {
   "cell_type": "code",
   "execution_count": 53,
   "metadata": {},
   "outputs": [
    {
     "name": "stdout",
     "output_type": "stream",
     "text": [
      "[[66  1  0  0  0  2  0  0]\n",
      " [ 4 67  0  0  0  1  0  0]\n",
      " [ 0  0 80  0  0  0  1  0]\n",
      " [ 0  0  0 55  1  0  0  0]\n",
      " [ 0  0  0  0 68  3  0  0]\n",
      " [ 3  0  0  0  0 54  0  0]\n",
      " [ 0  0  0  0  0  0 69  0]\n",
      " [ 0  0  0  0  0  0  0 65]]\n"
     ]
    }
   ],
   "source": [
    "#Confusion Matrix\n",
    "cm = confusion_matrix(y_test, y_pre_k3)\n",
    "print(cm)"
   ]
  },
  {
   "cell_type": "code",
   "execution_count": 54,
   "metadata": {},
   "outputs": [
    {
     "name": "stdout",
     "output_type": "stream",
     "text": [
      "[Train/test split] score: 0.90926\n"
     ]
    }
   ],
   "source": [
    "print(\"[Train/test split] score: {:.5f}\".format(clf.score(X_test, y_test)))"
   ]
  },
  {
   "cell_type": "code",
   "execution_count": 55,
   "metadata": {},
   "outputs": [
    {
     "name": "stdout",
     "output_type": "stream",
     "text": [
      "              precision    recall  f1-score   support\n",
      "\n",
      "      c-CS-m       0.90      0.96      0.93        69\n",
      "      c-CS-s       0.99      0.93      0.96        72\n",
      "      c-SC-m       1.00      0.99      0.99        81\n",
      "      c-SC-s       1.00      0.98      0.99        56\n",
      "      t-CS-m       0.99      0.96      0.97        71\n",
      "      t-CS-s       0.90      0.95      0.92        57\n",
      "      t-SC-m       0.99      1.00      0.99        69\n",
      "      t-SC-s       1.00      1.00      1.00        65\n",
      "\n",
      "    accuracy                           0.97       540\n",
      "   macro avg       0.97      0.97      0.97       540\n",
      "weighted avg       0.97      0.97      0.97       540\n",
      "\n"
     ]
    }
   ],
   "source": [
    "print (classification_report(y_test,y_pre_k3))"
   ]
  },
  {
   "cell_type": "markdown",
   "metadata": {},
   "source": [
    "We observe that a KNN model with parameters (K=3, weights=distance , p=2) gives a accuracy score of 0.97."
   ]
  },
  {
   "cell_type": "code",
   "execution_count": 56,
   "metadata": {},
   "outputs": [],
   "source": [
    "#Fitting the data inside the model using X_train and y_train using (k = 4) K classifier\n",
    "clf_k5 = KNeighborsClassifier(4)\n",
    "fit_k5 = clf_k5.fit(X_train, y_train)\n",
    "y_pre_k5 = fit_k5.predict(X_test)   "
   ]
  },
  {
   "cell_type": "code",
   "execution_count": 57,
   "metadata": {},
   "outputs": [
    {
     "name": "stdout",
     "output_type": "stream",
     "text": [
      "[[67  0  0  0  0  2  0  0]\n",
      " [10 62  0  0  0  0  0  0]\n",
      " [ 0  0 79  0  0  0  2  0]\n",
      " [ 0  0  1 54  1  0  0  0]\n",
      " [ 4  0  0  0 65  2  0  0]\n",
      " [ 6  0  0  0  0 51  0  0]\n",
      " [ 0  0  3  0  0  0 66  0]\n",
      " [ 0  0  2  0  0  0  0 63]]\n"
     ]
    }
   ],
   "source": [
    "#Confusion Matrix\n",
    "cm = confusion_matrix(y_test, y_pre_k5)\n",
    "print (cm)"
   ]
  },
  {
   "cell_type": "code",
   "execution_count": 58,
   "metadata": {},
   "outputs": [
    {
     "name": "stdout",
     "output_type": "stream",
     "text": [
      "[Train/test split] score: 0.90926\n"
     ]
    }
   ],
   "source": [
    "print(\"[Train/test split] score: {:.5f}\".format(clf.score(X_test, y_test)))"
   ]
  },
  {
   "cell_type": "code",
   "execution_count": 59,
   "metadata": {},
   "outputs": [
    {
     "name": "stdout",
     "output_type": "stream",
     "text": [
      "              precision    recall  f1-score   support\n",
      "\n",
      "      c-CS-m       0.77      0.97      0.86        69\n",
      "      c-CS-s       1.00      0.86      0.93        72\n",
      "      c-SC-m       0.93      0.98      0.95        81\n",
      "      c-SC-s       1.00      0.96      0.98        56\n",
      "      t-CS-m       0.98      0.92      0.95        71\n",
      "      t-CS-s       0.93      0.89      0.91        57\n",
      "      t-SC-m       0.97      0.96      0.96        69\n",
      "      t-SC-s       1.00      0.97      0.98        65\n",
      "\n",
      "    accuracy                           0.94       540\n",
      "   macro avg       0.95      0.94      0.94       540\n",
      "weighted avg       0.95      0.94      0.94       540\n",
      "\n"
     ]
    }
   ],
   "source": [
    "print (classification_report(y_test,y_pre_k5))"
   ]
  },
  {
   "cell_type": "markdown",
   "metadata": {},
   "source": [
    "We observe that a KNN model with parameters (K=4, weights=uniform , p=2) gives a accuracy score of 0.94."
   ]
  },
  {
   "cell_type": "code",
   "execution_count": 60,
   "metadata": {},
   "outputs": [],
   "source": [
    "#Fitting the data inside the model using X_train and y_train using (k = 4) K classifier and weights= distance\n",
    "clf_k5 = KNeighborsClassifier(4,weights='distance')\n",
    "fit_k5 = clf_k5.fit(X_train, y_train)\n",
    "y_pre_k5 = fit_k5.predict(X_test)   "
   ]
  },
  {
   "cell_type": "code",
   "execution_count": 61,
   "metadata": {},
   "outputs": [
    {
     "name": "stdout",
     "output_type": "stream",
     "text": [
      "[[67  0  0  0  0  2  0  0]\n",
      " [ 5 67  0  0  0  0  0  0]\n",
      " [ 0  0 79  0  0  0  2  0]\n",
      " [ 0  0  0 55  1  0  0  0]\n",
      " [ 0  0  0  0 69  2  0  0]\n",
      " [ 4  0  0  0  0 53  0  0]\n",
      " [ 0  0  0  0  0  0 69  0]\n",
      " [ 0  0  1  0  0  0  0 64]]\n"
     ]
    }
   ],
   "source": [
    "#Confusion Matrix\n",
    "cm = confusion_matrix(y_test, y_pre_k5)\n",
    "print (cm)"
   ]
  },
  {
   "cell_type": "code",
   "execution_count": 62,
   "metadata": {},
   "outputs": [
    {
     "name": "stdout",
     "output_type": "stream",
     "text": [
      "              precision    recall  f1-score   support\n",
      "\n",
      "      c-CS-m       0.88      0.97      0.92        69\n",
      "      c-CS-s       1.00      0.93      0.96        72\n",
      "      c-SC-m       0.99      0.98      0.98        81\n",
      "      c-SC-s       1.00      0.98      0.99        56\n",
      "      t-CS-m       0.99      0.97      0.98        71\n",
      "      t-CS-s       0.93      0.93      0.93        57\n",
      "      t-SC-m       0.97      1.00      0.99        69\n",
      "      t-SC-s       1.00      0.98      0.99        65\n",
      "\n",
      "    accuracy                           0.97       540\n",
      "   macro avg       0.97      0.97      0.97       540\n",
      "weighted avg       0.97      0.97      0.97       540\n",
      "\n"
     ]
    }
   ],
   "source": [
    "print (classification_report(y_test,y_pre_k5))"
   ]
  },
  {
   "cell_type": "markdown",
   "metadata": {},
   "source": [
    "We observe that a KNN model with parameters (K=4, weights=distance , p=2) gives a accuracy score of 0.97."
   ]
  },
  {
   "cell_type": "markdown",
   "metadata": {},
   "source": [
    "## Feature Selection for KNN Model"
   ]
  },
  {
   "cell_type": "markdown",
   "metadata": {},
   "source": [
    "Now we do feature selection with the best model we can come up with after hyper parameter tuning. We obtain similar results for K=3 and K=4. so we can pick any one of the model. Below feature selection is based on the KNN model with K=3 and weights =distance.\n"
   ]
  },
  {
   "cell_type": "code",
   "execution_count": 63,
   "metadata": {},
   "outputs": [],
   "source": [
    "Df_scaled1=Df_scaled.iloc[:].values"
   ]
  },
  {
   "cell_type": "code",
   "execution_count": 64,
   "metadata": {},
   "outputs": [
    {
     "name": "stdout",
     "output_type": "stream",
     "text": [
      "Score with 1 selected features: 0.18703703703703703\n",
      "Score with 2 selected features: 0.28703703703703703\n",
      "Score with 3 selected features: 0.44074074074074077\n",
      "Score with 4 selected features: 0.6555555555555556\n",
      "Score with 5 selected features: 0.7296296296296296\n",
      "Score with 6 selected features: 0.7648148148148148\n",
      "Score with 7 selected features: 0.85\n",
      "Score with 8 selected features: 0.8648148148148148\n",
      "Score with 9 selected features: 0.8796296296296297\n",
      "Score with 10 selected features: 0.8925925925925926\n",
      "Score with 11 selected features: 0.9055555555555556\n",
      "Score with 12 selected features: 0.9055555555555556\n",
      "Score with 13 selected features: 0.9351851851851852\n",
      "Score with 14 selected features: 0.937037037037037\n",
      "Score with 15 selected features: 0.9425925925925925\n",
      "Score with 16 selected features: 0.9518518518518518\n",
      "Score with 17 selected features: 0.9518518518518518\n",
      "Score with 18 selected features: 0.9555555555555556\n",
      "Score with 19 selected features: 0.9611111111111111\n",
      "Score with 20 selected features: 0.9629629629629629\n",
      "Score with 21 selected features: 0.9666666666666667\n",
      "Score with 22 selected features: 0.9722222222222222\n",
      "Score with 23 selected features: 0.9722222222222222\n",
      "Score with 24 selected features: 0.9722222222222222\n",
      "Score with 25 selected features: 0.9722222222222222\n",
      "Score with 26 selected features: 0.9796296296296296\n",
      "Score with 27 selected features: 0.9796296296296296\n",
      "Score with 28 selected features: 0.9796296296296296\n",
      "Score with 29 selected features: 0.9796296296296296\n",
      "Score with 30 selected features: 0.9814814814814815\n",
      "Score with 31 selected features: 0.9833333333333333\n",
      "Score with 32 selected features: 0.9833333333333333\n",
      "Score with 33 selected features: 0.9833333333333333\n",
      "Score with 34 selected features: 0.9851851851851852\n",
      "Score with 35 selected features: 0.987037037037037\n",
      "Score with 36 selected features: 0.987037037037037\n"
     ]
    }
   ],
   "source": [
    "from sklearn.utils import shuffle\n",
    "new_Ind = []\n",
    "cur_MaxScore = 0.0\n",
    "col_num = 77\n",
    "col_Ind_Random = shuffle(range(0,col_num), random_state=4)\n",
    "\n",
    "for cur_f in range(0, col_num):\n",
    "    new_Ind.append(col_Ind_Random[cur_f])\n",
    "    newData = Df_scaled1[:, new_Ind]\n",
    "    X_train, X_test, y_train, y_test = train_test_split(newData, target, test_size=0.5, random_state=4)\n",
    "    clf = KNeighborsClassifier(3,weights='distance')\n",
    "    fit = clf.fit(X_train, y_train)\n",
    "    cur_Score = clf.score(X_test, y_test)\n",
    "    if cur_Score < cur_MaxScore:\n",
    "        new_Ind.remove(col_Ind_Random[cur_f])\n",
    "    else:\n",
    "        cur_MaxScore = cur_Score\n",
    "        print (\"Score with \" + str(len(new_Ind)) + \" selected features: \" + str(cur_Score))"
   ]
  },
  {
   "cell_type": "code",
   "execution_count": 65,
   "metadata": {},
   "outputs": [
    {
     "name": "stdout",
     "output_type": "stream",
     "text": [
      "There are 36 features selected:\n"
     ]
    }
   ],
   "source": [
    "print(\"There are \" + str(len(new_Ind)) + \" features selected:\")"
   ]
  },
  {
   "cell_type": "code",
   "execution_count": 66,
   "metadata": {},
   "outputs": [
    {
     "name": "stdout",
     "output_type": "stream",
     "text": [
      "[49, 66, 60, 48, 14, 26, 73, 29, 19, 5, 41, 20, 7, 6, 65, 39, 22, 12, 54, 17, 34, 45, 32, 51, 62, 70, 56, 67, 0, 52, 58, 9, 50, 72, 1, 46]\n"
     ]
    }
   ],
   "source": [
    "# Printing column ids\n",
    "print(new_Ind)"
   ]
  },
  {
   "cell_type": "code",
   "execution_count": 67,
   "metadata": {},
   "outputs": [],
   "source": [
    "columns=[]\n",
    "cols = Df_scaled.columns\n",
    "for i in new_Ind:\n",
    "    columns.append(cols[i])"
   ]
  },
  {
   "cell_type": "code",
   "execution_count": 68,
   "metadata": {},
   "outputs": [],
   "source": [
    "# Generating Train and Test split on New set of fetures after feature selection\n",
    "Df_scaled_new=Df_scaled[columns]\n",
    "X_train, X_test, y_train, y_test = train_test_split(Df_scaled_new, target, test_size=0.5, random_state=0)"
   ]
  },
  {
   "cell_type": "code",
   "execution_count": 69,
   "metadata": {},
   "outputs": [
    {
     "name": "stdout",
     "output_type": "stream",
     "text": [
      "X_train: (540, 36)\n",
      "y_train: (540,)\n",
      "X_test: (540, 36)\n",
      "y_test: (540,)\n"
     ]
    }
   ],
   "source": [
    "print(\"X_train: \" + str(X_train.shape))\n",
    "print(\"y_train: \" + str(y_train.shape))\n",
    "print(\"X_test: \" + str(X_test.shape))\n",
    "print(\"y_test: \" + str(y_test.shape))"
   ]
  },
  {
   "cell_type": "code",
   "execution_count": 70,
   "metadata": {},
   "outputs": [],
   "source": [
    "clf = KNeighborsClassifier(3,weights='distance')\n",
    "fit = clf.fit(X_train, y_train)\n",
    "y_pre = fit.predict(X_test)   "
   ]
  },
  {
   "cell_type": "code",
   "execution_count": 71,
   "metadata": {},
   "outputs": [
    {
     "name": "stdout",
     "output_type": "stream",
     "text": [
      "[[71  0  0  0  0  0  0  0]\n",
      " [ 2 69  0  0  1  3  0  0]\n",
      " [ 0  0 81  0  0  0  0  0]\n",
      " [ 0  0  0 66  0  0  0  0]\n",
      " [ 2  2  0  0 63  0  0  0]\n",
      " [ 0  0  0  0  0 51  0  0]\n",
      " [ 0  0  1  0  0  0 59  0]\n",
      " [ 0  0  0  0  0  0  0 69]]\n"
     ]
    }
   ],
   "source": [
    "cm = confusion_matrix(y_test, y_pre)\n",
    "print(cm)"
   ]
  },
  {
   "cell_type": "code",
   "execution_count": 72,
   "metadata": {},
   "outputs": [
    {
     "name": "stdout",
     "output_type": "stream",
     "text": [
      "              precision    recall  f1-score   support\n",
      "\n",
      "      c-CS-m       0.95      1.00      0.97        71\n",
      "      c-CS-s       0.97      0.92      0.95        75\n",
      "      c-SC-m       0.99      1.00      0.99        81\n",
      "      c-SC-s       1.00      1.00      1.00        66\n",
      "      t-CS-m       0.98      0.94      0.96        67\n",
      "      t-CS-s       0.94      1.00      0.97        51\n",
      "      t-SC-m       1.00      0.98      0.99        60\n",
      "      t-SC-s       1.00      1.00      1.00        69\n",
      "\n",
      "    accuracy                           0.98       540\n",
      "   macro avg       0.98      0.98      0.98       540\n",
      "weighted avg       0.98      0.98      0.98       540\n",
      "\n"
     ]
    }
   ],
   "source": [
    "print(classification_report(y_test,y_pre))"
   ]
  },
  {
   "cell_type": "markdown",
   "metadata": {},
   "source": [
    "## Comparison (Train-Test Split 50-50)\n",
    "\n",
    "### KNN models on Hyperparameter Tuning with Accuracy score  \n",
    "\n",
    "                      Model                    Accuracy\n",
    "    1. KNN Model(k=5, p=2, weights= uniform)-   0.91\n",
    "    \n",
    "    2. KNN Model(k=5, p=1, weights= uniform)-   0.92\n",
    "    \n",
    "    3. KNN Model(k=3, p=2, weights= distance)-   0.97\n",
    "    \n",
    "    4. KNN Model(k=4, p=2, weights= uniform)-   0.94\n",
    "    \n",
    "    5. KNN Model(k=4, p=2, weights= distance)-   0.97\n",
    "    \n",
    "    6. KNN Model(k=3, p=2, weights= distance)\n",
    "        with feature selection               -   0.98"
   ]
  },
  {
   "cell_type": "markdown",
   "metadata": {},
   "source": [
    "# Taking instance of 60% training and 40% testing dataset\n"
   ]
  },
  {
   "cell_type": "code",
   "execution_count": 73,
   "metadata": {},
   "outputs": [],
   "source": [
    "X_train, X_test, y_train, y_test = train_test_split(Df_scaled, target, test_size=0.4, random_state=0)"
   ]
  },
  {
   "cell_type": "code",
   "execution_count": 74,
   "metadata": {},
   "outputs": [
    {
     "name": "stdout",
     "output_type": "stream",
     "text": [
      "(648, 77)\n",
      "(432, 77)\n",
      "(648,)\n",
      "(432,)\n"
     ]
    }
   ],
   "source": [
    "print(X_train.shape)\n",
    "print(X_test.shape)\n",
    "print(y_train.shape)\n",
    "print(y_test.shape)"
   ]
  },
  {
   "cell_type": "code",
   "execution_count": 75,
   "metadata": {},
   "outputs": [],
   "source": [
    "#Fitting the data inside the model using X_train and y_train using default K classifier(k=5, p=2, weights= uniform)\n",
    "clf = KNeighborsClassifier()\n",
    "fit = clf.fit(X_train, y_train)\n",
    "y_pre = fit.predict(X_test) "
   ]
  },
  {
   "cell_type": "code",
   "execution_count": 76,
   "metadata": {},
   "outputs": [
    {
     "name": "stdout",
     "output_type": "stream",
     "text": [
      "[[58  0  0  0  0  0  0  0]\n",
      " [ 2 48  0  0  0  3  0  0]\n",
      " [ 0  0 60  2  0  0  0  0]\n",
      " [ 0  0  3 54  0  0  1  0]\n",
      " [ 9  0  0  0 49  0  0  1]\n",
      " [ 2  0  0  0  1 40  0  0]\n",
      " [ 0  0  2  0  0  0 44  0]\n",
      " [ 0  0  1  0  0  0  0 52]]\n"
     ]
    }
   ],
   "source": [
    "#Confusion Matrix\n",
    "cm = confusion_matrix(y_test, y_pre)\n",
    "print(cm)"
   ]
  },
  {
   "cell_type": "code",
   "execution_count": 77,
   "metadata": {},
   "outputs": [
    {
     "name": "stdout",
     "output_type": "stream",
     "text": [
      "[Train/test split] score: 0.93750\n"
     ]
    }
   ],
   "source": [
    "print(\"[Train/test split] score: {:.5f}\".format(clf.score(X_test, y_test)))"
   ]
  },
  {
   "cell_type": "code",
   "execution_count": 78,
   "metadata": {},
   "outputs": [
    {
     "name": "stdout",
     "output_type": "stream",
     "text": [
      "              precision    recall  f1-score   support\n",
      "\n",
      "      c-CS-m       0.82      1.00      0.90        58\n",
      "      c-CS-s       1.00      0.91      0.95        53\n",
      "      c-SC-m       0.91      0.97      0.94        62\n",
      "      c-SC-s       0.96      0.93      0.95        58\n",
      "      t-CS-m       0.98      0.83      0.90        59\n",
      "      t-CS-s       0.93      0.93      0.93        43\n",
      "      t-SC-m       0.98      0.96      0.97        46\n",
      "      t-SC-s       0.98      0.98      0.98        53\n",
      "\n",
      "    accuracy                           0.94       432\n",
      "   macro avg       0.94      0.94      0.94       432\n",
      "weighted avg       0.94      0.94      0.94       432\n",
      "\n"
     ]
    }
   ],
   "source": [
    "print (classification_report(y_test,y_pre))"
   ]
  },
  {
   "cell_type": "markdown",
   "metadata": {},
   "source": [
    "We observe that a KNN model with default parameters (K=5, weights=uniform , p=2) gives a accuracy score of 0.94"
   ]
  },
  {
   "cell_type": "code",
   "execution_count": 79,
   "metadata": {},
   "outputs": [],
   "source": [
    "#Fitting the data inside the model using X_train and y_train using p=1 classifier(k=5,p=1,weights=uniform)\n",
    "clf = KNeighborsClassifier(p=1)\n",
    "fit = clf.fit(X_train, y_train)\n",
    "y_pre = fit.predict(X_test)"
   ]
  },
  {
   "cell_type": "code",
   "execution_count": 80,
   "metadata": {},
   "outputs": [
    {
     "name": "stdout",
     "output_type": "stream",
     "text": [
      "[[58  0  0  0  0  0  0  0]\n",
      " [ 1 50  0  0  1  1  0  0]\n",
      " [ 0  0 61  1  0  0  0  0]\n",
      " [ 0  0  1 57  0  0  0  0]\n",
      " [ 8  0  0  0 50  0  0  1]\n",
      " [ 2  0  0  0  2 39  0  0]\n",
      " [ 0  0  0  2  0  0 44  0]\n",
      " [ 0  0  0  0  0  0  0 53]]\n"
     ]
    }
   ],
   "source": [
    "#Confusion Matrix\n",
    "cm = confusion_matrix(y_test, y_pre)\n",
    "print (cm)"
   ]
  },
  {
   "cell_type": "code",
   "execution_count": 81,
   "metadata": {},
   "outputs": [
    {
     "name": "stdout",
     "output_type": "stream",
     "text": [
      "              precision    recall  f1-score   support\n",
      "\n",
      "      c-CS-m       0.84      1.00      0.91        58\n",
      "      c-CS-s       1.00      0.94      0.97        53\n",
      "      c-SC-m       0.98      0.98      0.98        62\n",
      "      c-SC-s       0.95      0.98      0.97        58\n",
      "      t-CS-m       0.94      0.85      0.89        59\n",
      "      t-CS-s       0.97      0.91      0.94        43\n",
      "      t-SC-m       1.00      0.96      0.98        46\n",
      "      t-SC-s       0.98      1.00      0.99        53\n",
      "\n",
      "    accuracy                           0.95       432\n",
      "   macro avg       0.96      0.95      0.95       432\n",
      "weighted avg       0.96      0.95      0.95       432\n",
      "\n"
     ]
    }
   ],
   "source": [
    "print (classification_report(y_test,y_pre))"
   ]
  },
  {
   "cell_type": "markdown",
   "metadata": {},
   "source": [
    "We observe that a KNN model with parameters (K=5, weights=uniform , p=1) gives a accuracy score of 0.95."
   ]
  },
  {
   "cell_type": "code",
   "execution_count": 82,
   "metadata": {},
   "outputs": [],
   "source": [
    "#Fitting the data inside the model using X_train and y_train using k=3 classifier(k=3,p=2,weights=distance)\n",
    "clf = KNeighborsClassifier(3,weights='distance')\n",
    "fit = clf.fit(X_train, y_train)\n",
    "y_pre = fit.predict(X_test)   "
   ]
  },
  {
   "cell_type": "code",
   "execution_count": 83,
   "metadata": {},
   "outputs": [
    {
     "name": "stdout",
     "output_type": "stream",
     "text": [
      "[[58  0  0  0  0  0  0  0]\n",
      " [ 1 51  0  0  0  1  0  0]\n",
      " [ 0  0 62  0  0  0  0  0]\n",
      " [ 0  0  1 56  0  0  1  0]\n",
      " [ 3  2  0  0 52  1  0  1]\n",
      " [ 0  0  0  0  0 43  0  0]\n",
      " [ 0  0  0  0  0  0 46  0]\n",
      " [ 0  0  0  0  0  0  0 53]]\n"
     ]
    }
   ],
   "source": [
    "#Confusion Matrix\n",
    "cm = confusion_matrix(y_test, y_pre)\n",
    "print (cm)"
   ]
  },
  {
   "cell_type": "code",
   "execution_count": 84,
   "metadata": {},
   "outputs": [
    {
     "name": "stdout",
     "output_type": "stream",
     "text": [
      "              precision    recall  f1-score   support\n",
      "\n",
      "      c-CS-m       0.94      1.00      0.97        58\n",
      "      c-CS-s       0.96      0.96      0.96        53\n",
      "      c-SC-m       0.98      1.00      0.99        62\n",
      "      c-SC-s       1.00      0.97      0.98        58\n",
      "      t-CS-m       1.00      0.88      0.94        59\n",
      "      t-CS-s       0.96      1.00      0.98        43\n",
      "      t-SC-m       0.98      1.00      0.99        46\n",
      "      t-SC-s       0.98      1.00      0.99        53\n",
      "\n",
      "    accuracy                           0.97       432\n",
      "   macro avg       0.97      0.98      0.97       432\n",
      "weighted avg       0.98      0.97      0.97       432\n",
      "\n"
     ]
    }
   ],
   "source": [
    "print (classification_report(y_test,y_pre))"
   ]
  },
  {
   "cell_type": "markdown",
   "metadata": {},
   "source": [
    "We observe that a KNN model with parameters (K=3, weights=distance , p=2) gives a accuracy score of 0.97 "
   ]
  },
  {
   "cell_type": "code",
   "execution_count": 85,
   "metadata": {},
   "outputs": [],
   "source": [
    "#Fitting the data inside the model using X_train and y_train using k=3 classifier(k=4,p=2,weights=uniform)\n",
    "clf = KNeighborsClassifier(4,weights='uniform')\n",
    "fit = clf.fit(X_train, y_train)\n",
    "y_pre = fit.predict(X_test)"
   ]
  },
  {
   "cell_type": "code",
   "execution_count": 86,
   "metadata": {},
   "outputs": [
    {
     "name": "stdout",
     "output_type": "stream",
     "text": [
      "[[58  0  0  0  0  0  0  0]\n",
      " [ 4 49  0  0  0  0  0  0]\n",
      " [ 0  0 62  0  0  0  0  0]\n",
      " [ 0  0  2 56  0  0  0  0]\n",
      " [ 7  2  0  0 50  0  0  0]\n",
      " [ 2  0  0  0  2 39  0  0]\n",
      " [ 0  0  2  1  0  0 43  0]\n",
      " [ 0  0  1  0  0  0  0 52]]\n"
     ]
    }
   ],
   "source": [
    "#Confusion Matrix\n",
    "cm = confusion_matrix(y_test, y_pre)\n",
    "print (cm)"
   ]
  },
  {
   "cell_type": "code",
   "execution_count": 87,
   "metadata": {},
   "outputs": [
    {
     "name": "stdout",
     "output_type": "stream",
     "text": [
      "              precision    recall  f1-score   support\n",
      "\n",
      "      c-CS-m       0.82      1.00      0.90        58\n",
      "      c-CS-s       0.96      0.92      0.94        53\n",
      "      c-SC-m       0.93      1.00      0.96        62\n",
      "      c-SC-s       0.98      0.97      0.97        58\n",
      "      t-CS-m       0.96      0.85      0.90        59\n",
      "      t-CS-s       1.00      0.91      0.95        43\n",
      "      t-SC-m       1.00      0.93      0.97        46\n",
      "      t-SC-s       1.00      0.98      0.99        53\n",
      "\n",
      "    accuracy                           0.95       432\n",
      "   macro avg       0.96      0.95      0.95       432\n",
      "weighted avg       0.95      0.95      0.95       432\n",
      "\n"
     ]
    }
   ],
   "source": [
    "print (classification_report(y_test,y_pre))"
   ]
  },
  {
   "cell_type": "markdown",
   "metadata": {},
   "source": [
    "We observe that a KNN model with parameters (K=2, weights=uniform , p=2) gives a accuracy score of 0.95"
   ]
  },
  {
   "cell_type": "code",
   "execution_count": 88,
   "metadata": {},
   "outputs": [],
   "source": [
    "#Fitting the data inside the model using X_train and y_train using k=4 classifier(k=4, p=2, weights=distance)\n",
    "clf = KNeighborsClassifier(4,weights='distance')\n",
    "fit = clf.fit(X_train, y_train)\n",
    "y_pre = fit.predict(X_test) "
   ]
  },
  {
   "cell_type": "code",
   "execution_count": 89,
   "metadata": {},
   "outputs": [
    {
     "name": "stdout",
     "output_type": "stream",
     "text": [
      "[[58  0  0  0  0  0  0  0]\n",
      " [ 1 52  0  0  0  0  0  0]\n",
      " [ 0  0 62  0  0  0  0  0]\n",
      " [ 0  0  2 56  0  0  0  0]\n",
      " [ 5  2  0  0 52  0  0  0]\n",
      " [ 0  0  0  0  0 43  0  0]\n",
      " [ 0  0  1  1  0  0 44  0]\n",
      " [ 0  0  0  0  0  0  0 53]]\n"
     ]
    }
   ],
   "source": [
    "#Confusion Matrix\n",
    "cm = confusion_matrix(y_test, y_pre)\n",
    "print (cm)"
   ]
  },
  {
   "cell_type": "code",
   "execution_count": 90,
   "metadata": {},
   "outputs": [
    {
     "name": "stdout",
     "output_type": "stream",
     "text": [
      "              precision    recall  f1-score   support\n",
      "\n",
      "      c-CS-m       0.91      1.00      0.95        58\n",
      "      c-CS-s       0.96      0.98      0.97        53\n",
      "      c-SC-m       0.95      1.00      0.98        62\n",
      "      c-SC-s       0.98      0.97      0.97        58\n",
      "      t-CS-m       1.00      0.88      0.94        59\n",
      "      t-CS-s       1.00      1.00      1.00        43\n",
      "      t-SC-m       1.00      0.96      0.98        46\n",
      "      t-SC-s       1.00      1.00      1.00        53\n",
      "\n",
      "    accuracy                           0.97       432\n",
      "   macro avg       0.98      0.97      0.97       432\n",
      "weighted avg       0.97      0.97      0.97       432\n",
      "\n"
     ]
    }
   ],
   "source": [
    "print (classification_report(y_test,y_pre))"
   ]
  },
  {
   "cell_type": "markdown",
   "metadata": {},
   "source": [
    "We observe that a KNN model with parameters (K=2, weights=distance , p=2) gives a accuracy score of 0.97 "
   ]
  },
  {
   "cell_type": "markdown",
   "metadata": {},
   "source": [
    "## Feature Selection for KNN Model"
   ]
  },
  {
   "cell_type": "markdown",
   "metadata": {},
   "source": [
    "Now we do feature selection with the best model we can come up with after hyper parameter tuning. We obtain similar results for K=3 and K=4. so we can pick any one of the model. Below feature selection is based on the KNN model with K=3 and weights =distance."
   ]
  },
  {
   "cell_type": "code",
   "execution_count": 91,
   "metadata": {},
   "outputs": [],
   "source": [
    "Df_scaled1=Df_scaled.iloc[:].values"
   ]
  },
  {
   "cell_type": "code",
   "execution_count": 92,
   "metadata": {},
   "outputs": [
    {
     "name": "stdout",
     "output_type": "stream",
     "text": [
      "Score with 1 selected features: 0.16666666666666666\n",
      "Score with 2 selected features: 0.2662037037037037\n",
      "Score with 3 selected features: 0.46296296296296297\n",
      "Score with 4 selected features: 0.6620370370370371\n",
      "Score with 5 selected features: 0.7615740740740741\n",
      "Score with 6 selected features: 0.7939814814814815\n",
      "Score with 7 selected features: 0.8796296296296297\n",
      "Score with 8 selected features: 0.8912037037037037\n",
      "Score with 9 selected features: 0.9050925925925926\n",
      "Score with 10 selected features: 0.9212962962962963\n",
      "Score with 11 selected features: 0.9282407407407407\n",
      "Score with 12 selected features: 0.9282407407407407\n",
      "Score with 13 selected features: 0.9282407407407407\n",
      "Score with 14 selected features: 0.9305555555555556\n",
      "Score with 15 selected features: 0.9583333333333334\n",
      "Score with 16 selected features: 0.9606481481481481\n",
      "Score with 17 selected features: 0.9699074074074074\n",
      "Score with 18 selected features: 0.9722222222222222\n",
      "Score with 19 selected features: 0.9722222222222222\n",
      "Score with 20 selected features: 0.9745370370370371\n",
      "Score with 21 selected features: 0.9745370370370371\n",
      "Score with 22 selected features: 0.9768518518518519\n",
      "Score with 23 selected features: 0.9768518518518519\n",
      "Score with 24 selected features: 0.9791666666666666\n",
      "Score with 25 selected features: 0.9791666666666666\n",
      "Score with 26 selected features: 0.9814814814814815\n",
      "Score with 27 selected features: 0.9884259259259259\n",
      "Score with 28 selected features: 0.9884259259259259\n",
      "Score with 29 selected features: 0.9884259259259259\n",
      "Score with 30 selected features: 0.9884259259259259\n",
      "Score with 31 selected features: 0.9884259259259259\n",
      "Score with 32 selected features: 0.9884259259259259\n",
      "Score with 33 selected features: 0.9930555555555556\n",
      "Score with 34 selected features: 0.9930555555555556\n",
      "Score with 35 selected features: 0.9930555555555556\n",
      "Score with 36 selected features: 0.9953703703703703\n"
     ]
    }
   ],
   "source": [
    "# feature selection\n",
    "from sklearn.utils import shuffle\n",
    "new_Ind = []\n",
    "cur_MaxScore = 0.0\n",
    "col_num = 77\n",
    "col_Ind_Random = shuffle(range(0,col_num), random_state=4)\n",
    "\n",
    "for cur_f in range(0, col_num):\n",
    "    new_Ind.append(col_Ind_Random[cur_f])\n",
    "    newData = Df_scaled1[:, new_Ind]\n",
    "    X_train, X_test, y_train, y_test = train_test_split(newData, target, test_size=0.4, random_state=4)\n",
    "    clf = KNeighborsClassifier(3, weights='distance')\n",
    "    fit = clf.fit(X_train, y_train)\n",
    "    cur_Score = clf.score(X_test, y_test)\n",
    "    if cur_Score < cur_MaxScore:\n",
    "        new_Ind.remove(col_Ind_Random[cur_f])\n",
    "    else:\n",
    "        cur_MaxScore = cur_Score\n",
    "        print (\"Score with \" + str(len(new_Ind)) + \" selected features: \" + str(cur_Score))"
   ]
  },
  {
   "cell_type": "code",
   "execution_count": 93,
   "metadata": {},
   "outputs": [],
   "source": [
    "columns=[]\n",
    "cols = Df_scaled.columns\n",
    "for i in new_Ind:\n",
    "    columns.append(cols[i])"
   ]
  },
  {
   "cell_type": "code",
   "execution_count": 94,
   "metadata": {},
   "outputs": [],
   "source": [
    "# New set of fetures after feature selection\n",
    "Df_scaled_new=Df_scaled[columns]\n",
    "X_train, X_test, y_train, y_test = train_test_split(Df_scaled_new, target, test_size=0.4, random_state=0)"
   ]
  },
  {
   "cell_type": "code",
   "execution_count": 95,
   "metadata": {},
   "outputs": [
    {
     "name": "stdout",
     "output_type": "stream",
     "text": [
      "X_train: (648, 36)\n",
      "y_train: (648,)\n",
      "X_test: (432, 36)\n",
      "y_test: (432,)\n"
     ]
    }
   ],
   "source": [
    "print(\"X_train: \" + str(X_train.shape))\n",
    "print(\"y_train: \" + str(y_train.shape))\n",
    "print(\"X_test: \" + str(X_test.shape))\n",
    "print(\"y_test: \" + str(y_test.shape))"
   ]
  },
  {
   "cell_type": "code",
   "execution_count": 96,
   "metadata": {},
   "outputs": [],
   "source": [
    "clf = KNeighborsClassifier(3,weights='distance')\n",
    "fit = clf.fit(X_train, y_train)\n",
    "y_pre = fit.predict(X_test)"
   ]
  },
  {
   "cell_type": "code",
   "execution_count": 97,
   "metadata": {},
   "outputs": [
    {
     "name": "stdout",
     "output_type": "stream",
     "text": [
      "[[58  0  0  0  0  0  0  0]\n",
      " [ 0 52  0  0  0  1  0  0]\n",
      " [ 0  0 62  0  0  0  0  0]\n",
      " [ 0  0  0 57  0  0  1  0]\n",
      " [ 3  0  0  0 56  0  0  0]\n",
      " [ 0  0  0  0  0 43  0  0]\n",
      " [ 0  0  0  0  0  0 46  0]\n",
      " [ 0  0  0  0  0  0  0 53]]\n"
     ]
    }
   ],
   "source": [
    "cm = confusion_matrix(y_test, y_pre)\n",
    "print(cm)"
   ]
  },
  {
   "cell_type": "code",
   "execution_count": 98,
   "metadata": {},
   "outputs": [
    {
     "name": "stdout",
     "output_type": "stream",
     "text": [
      "              precision    recall  f1-score   support\n",
      "\n",
      "      c-CS-m       0.95      1.00      0.97        58\n",
      "      c-CS-s       1.00      0.98      0.99        53\n",
      "      c-SC-m       1.00      1.00      1.00        62\n",
      "      c-SC-s       1.00      0.98      0.99        58\n",
      "      t-CS-m       1.00      0.95      0.97        59\n",
      "      t-CS-s       0.98      1.00      0.99        43\n",
      "      t-SC-m       0.98      1.00      0.99        46\n",
      "      t-SC-s       1.00      1.00      1.00        53\n",
      "\n",
      "    accuracy                           0.99       432\n",
      "   macro avg       0.99      0.99      0.99       432\n",
      "weighted avg       0.99      0.99      0.99       432\n",
      "\n"
     ]
    }
   ],
   "source": [
    "print (classification_report(y_test,y_pre))"
   ]
  },
  {
   "cell_type": "markdown",
   "metadata": {},
   "source": [
    "## Comparison(Train-Test Split 60-40)\n",
    "\n",
    "### KNN models on Hyperparameter Tuning with Accuracy score  \n",
    "\n",
    "                    Model                     Accuracy\n",
    "    1. KNN Model(k=5, p=2, weights= uniform)-   0.94\n",
    "    \n",
    "    2. KNN Model(k=5, p=1, weights= uniform)-   0.95\n",
    "    \n",
    "    3. KNN Model(k=3, p=2, weights= distance)-   0.97\n",
    "    \n",
    "    4. KNN Model(k=4, p=2, weights= uniform)-   0.95\n",
    "    \n",
    "    5. KNN Model(k=4, p=2, weights= distance)-   0.97\n",
    "    \n",
    "    6. KNN Model(k=3, p=2, weights= distance)\n",
    "        with feature selection               -   0.99"
   ]
  },
  {
   "cell_type": "markdown",
   "metadata": {},
   "source": [
    "## Creating a 80% training and 20% testing dataset by separating the target and feature variables\n"
   ]
  },
  {
   "cell_type": "code",
   "execution_count": 99,
   "metadata": {},
   "outputs": [],
   "source": [
    "# creating a 80% training and 20% testing dataset by separating the target and feature variables\n",
    "X_train, X_test, y_train, y_test = train_test_split(Df_scaled, target, test_size=0.2, random_state=0)"
   ]
  },
  {
   "cell_type": "code",
   "execution_count": 100,
   "metadata": {},
   "outputs": [
    {
     "name": "stdout",
     "output_type": "stream",
     "text": [
      "(864, 77)\n",
      "(216, 77)\n",
      "(864,)\n",
      "(216,)\n"
     ]
    }
   ],
   "source": [
    "print(X_train.shape)\n",
    "print(X_test.shape)\n",
    "print(y_train.shape)\n",
    "print(y_test.shape)"
   ]
  },
  {
   "cell_type": "code",
   "execution_count": 101,
   "metadata": {},
   "outputs": [],
   "source": [
    "#Fitting the data inside the model using X_train and y_train using default K classifier(k=5, p=2, weights=uniform)\n",
    "clf = KNeighborsClassifier()\n",
    "fit = clf.fit(X_train, y_train)\n",
    "y_pre = fit.predict(X_test) "
   ]
  },
  {
   "cell_type": "code",
   "execution_count": 102,
   "metadata": {},
   "outputs": [
    {
     "name": "stdout",
     "output_type": "stream",
     "text": [
      "[[24  0  0  0  0  0  0  0]\n",
      " [ 1 25  0  0  0  1  0  0]\n",
      " [ 0  0 24  1  0  0  0  0]\n",
      " [ 0  0  0 31  0  0  0  0]\n",
      " [ 0  0  0  0 32  0  0  0]\n",
      " [ 2  0  0  0  0 25  0  0]\n",
      " [ 0  0  2  0  0  0 22  0]\n",
      " [ 0  0  0  0  0  0  0 26]]\n"
     ]
    }
   ],
   "source": [
    "#Confusion Matrix\n",
    "cm = confusion_matrix(y_test, y_pre)\n",
    "print(cm)"
   ]
  },
  {
   "cell_type": "code",
   "execution_count": 103,
   "metadata": {},
   "outputs": [
    {
     "name": "stdout",
     "output_type": "stream",
     "text": [
      "[Train/test split] score: 0.96759\n"
     ]
    }
   ],
   "source": [
    "print(\"[Train/test split] score: {:.5f}\".format(clf.score(X_test, y_test)))"
   ]
  },
  {
   "cell_type": "code",
   "execution_count": 104,
   "metadata": {},
   "outputs": [
    {
     "name": "stdout",
     "output_type": "stream",
     "text": [
      "              precision    recall  f1-score   support\n",
      "\n",
      "      c-CS-m       0.89      1.00      0.94        24\n",
      "      c-CS-s       1.00      0.93      0.96        27\n",
      "      c-SC-m       0.92      0.96      0.94        25\n",
      "      c-SC-s       0.97      1.00      0.98        31\n",
      "      t-CS-m       1.00      1.00      1.00        32\n",
      "      t-CS-s       0.96      0.93      0.94        27\n",
      "      t-SC-m       1.00      0.92      0.96        24\n",
      "      t-SC-s       1.00      1.00      1.00        26\n",
      "\n",
      "    accuracy                           0.97       216\n",
      "   macro avg       0.97      0.97      0.97       216\n",
      "weighted avg       0.97      0.97      0.97       216\n",
      "\n"
     ]
    }
   ],
   "source": [
    "print (classification_report(y_test,y_pre))"
   ]
  },
  {
   "cell_type": "markdown",
   "metadata": {},
   "source": [
    "We observe that a KNN model with parameters (K=5, weights=uniform , p=2) gives a accuracy score of 0.97 "
   ]
  },
  {
   "cell_type": "code",
   "execution_count": 105,
   "metadata": {},
   "outputs": [],
   "source": [
    "#Fitting the data inside the model using X_train and y_train using p=1 classifier(k=5, p=1,weights=uniform)\n",
    "clf = KNeighborsClassifier(p=1)\n",
    "fit = clf.fit(X_train, y_train)\n",
    "y_pre = fit.predict(X_test)"
   ]
  },
  {
   "cell_type": "code",
   "execution_count": 106,
   "metadata": {},
   "outputs": [
    {
     "name": "stdout",
     "output_type": "stream",
     "text": [
      "[[24  0  0  0  0  0  0  0]\n",
      " [ 1 25  0  0  0  1  0  0]\n",
      " [ 0  0 24  1  0  0  0  0]\n",
      " [ 0  0  0 31  0  0  0  0]\n",
      " [ 0  0  0  0 32  0  0  0]\n",
      " [ 2  0  0  0  1 24  0  0]\n",
      " [ 0  0  0  1  0  0 23  0]\n",
      " [ 0  0  0  0  0  0  0 26]]\n"
     ]
    }
   ],
   "source": [
    "#Confusion Matrix\n",
    "cm = confusion_matrix(y_test, y_pre)\n",
    "print (cm)"
   ]
  },
  {
   "cell_type": "code",
   "execution_count": 107,
   "metadata": {},
   "outputs": [
    {
     "name": "stdout",
     "output_type": "stream",
     "text": [
      "              precision    recall  f1-score   support\n",
      "\n",
      "      c-CS-m       0.89      1.00      0.94        24\n",
      "      c-CS-s       1.00      0.93      0.96        27\n",
      "      c-SC-m       1.00      0.96      0.98        25\n",
      "      c-SC-s       0.94      1.00      0.97        31\n",
      "      t-CS-m       0.97      1.00      0.98        32\n",
      "      t-CS-s       0.96      0.89      0.92        27\n",
      "      t-SC-m       1.00      0.96      0.98        24\n",
      "      t-SC-s       1.00      1.00      1.00        26\n",
      "\n",
      "    accuracy                           0.97       216\n",
      "   macro avg       0.97      0.97      0.97       216\n",
      "weighted avg       0.97      0.97      0.97       216\n",
      "\n"
     ]
    }
   ],
   "source": [
    "print (classification_report(y_test,y_pre))"
   ]
  },
  {
   "cell_type": "markdown",
   "metadata": {},
   "source": [
    "We observe that a KNN model with parameters (K=5, weights=uniform , p=1) gives a accuracy score of 0.97"
   ]
  },
  {
   "cell_type": "code",
   "execution_count": 108,
   "metadata": {},
   "outputs": [],
   "source": [
    "#Fitting the data inside the model using X_train and y_train using k=3 classifier(k=3, p=2, weights=distance)\n",
    "clf = KNeighborsClassifier(3,weights='distance')\n",
    "fit = clf.fit(X_train, y_train)\n",
    "y_pre = fit.predict(X_test) "
   ]
  },
  {
   "cell_type": "code",
   "execution_count": 109,
   "metadata": {},
   "outputs": [
    {
     "name": "stdout",
     "output_type": "stream",
     "text": [
      "[[24  0  0  0  0  0  0  0]\n",
      " [ 0 26  0  0  0  1  0  0]\n",
      " [ 0  0 25  0  0  0  0  0]\n",
      " [ 0  0  0 31  0  0  0  0]\n",
      " [ 0  0  0  0 32  0  0  0]\n",
      " [ 0  0  0  0  0 27  0  0]\n",
      " [ 0  0  0  0  0  0 24  0]\n",
      " [ 0  0  0  0  0  0  0 26]]\n"
     ]
    }
   ],
   "source": [
    "#Confusion Matrix\n",
    "cm = confusion_matrix(y_test, y_pre)\n",
    "print (cm)"
   ]
  },
  {
   "cell_type": "code",
   "execution_count": 110,
   "metadata": {},
   "outputs": [
    {
     "name": "stdout",
     "output_type": "stream",
     "text": [
      "              precision    recall  f1-score   support\n",
      "\n",
      "      c-CS-m       1.00      1.00      1.00        24\n",
      "      c-CS-s       1.00      0.96      0.98        27\n",
      "      c-SC-m       1.00      1.00      1.00        25\n",
      "      c-SC-s       1.00      1.00      1.00        31\n",
      "      t-CS-m       1.00      1.00      1.00        32\n",
      "      t-CS-s       0.96      1.00      0.98        27\n",
      "      t-SC-m       1.00      1.00      1.00        24\n",
      "      t-SC-s       1.00      1.00      1.00        26\n",
      "\n",
      "    accuracy                           1.00       216\n",
      "   macro avg       1.00      1.00      1.00       216\n",
      "weighted avg       1.00      1.00      1.00       216\n",
      "\n"
     ]
    }
   ],
   "source": [
    "print (classification_report(y_test,y_pre))"
   ]
  },
  {
   "cell_type": "markdown",
   "metadata": {},
   "source": [
    "We observe that a KNN model with parameters (K=3, weights=distance , p=2) gives a accuracy score of 1.0 "
   ]
  },
  {
   "cell_type": "code",
   "execution_count": 111,
   "metadata": {},
   "outputs": [],
   "source": [
    "#Fitting the data inside the model using X_train and y_train using k=4 classifier(k4, weights=uniform, p=2)\n",
    "clf = KNeighborsClassifier(4)\n",
    "fit = clf.fit(X_train, y_train)\n",
    "y_pre = fit.predict(X_test)"
   ]
  },
  {
   "cell_type": "code",
   "execution_count": 112,
   "metadata": {},
   "outputs": [
    {
     "name": "stdout",
     "output_type": "stream",
     "text": [
      "[[24  0  0  0  0  0  0  0]\n",
      " [ 1 25  0  0  0  1  0  0]\n",
      " [ 0  0 25  0  0  0  0  0]\n",
      " [ 0  0  0 31  0  0  0  0]\n",
      " [ 0  0  0  0 32  0  0  0]\n",
      " [ 2  0  0  0  1 24  0  0]\n",
      " [ 0  0  2  0  0  0 22  0]\n",
      " [ 0  0  0  0  0  0  0 26]]\n"
     ]
    }
   ],
   "source": [
    "#Confusion Matrix\n",
    "cm = confusion_matrix(y_test, y_pre)\n",
    "print (cm)"
   ]
  },
  {
   "cell_type": "code",
   "execution_count": 113,
   "metadata": {},
   "outputs": [
    {
     "name": "stdout",
     "output_type": "stream",
     "text": [
      "              precision    recall  f1-score   support\n",
      "\n",
      "      c-CS-m       0.89      1.00      0.94        24\n",
      "      c-CS-s       1.00      0.93      0.96        27\n",
      "      c-SC-m       0.93      1.00      0.96        25\n",
      "      c-SC-s       1.00      1.00      1.00        31\n",
      "      t-CS-m       0.97      1.00      0.98        32\n",
      "      t-CS-s       0.96      0.89      0.92        27\n",
      "      t-SC-m       1.00      0.92      0.96        24\n",
      "      t-SC-s       1.00      1.00      1.00        26\n",
      "\n",
      "    accuracy                           0.97       216\n",
      "   macro avg       0.97      0.97      0.97       216\n",
      "weighted avg       0.97      0.97      0.97       216\n",
      "\n"
     ]
    }
   ],
   "source": [
    "print (classification_report(y_test,y_pre))"
   ]
  },
  {
   "cell_type": "markdown",
   "metadata": {},
   "source": [
    "We observe that a KNN model with parameters (K=4, weights=uniform , p=2) gives a accuracy score of 0.97 "
   ]
  },
  {
   "cell_type": "code",
   "execution_count": 114,
   "metadata": {},
   "outputs": [],
   "source": [
    "#Fitting the data inside the model using X_train and y_train using k=4 classifier(k4, weights=distance, p=2)\n",
    "clf = KNeighborsClassifier(4, weights='distance')\n",
    "fit = clf.fit(X_train, y_train)\n",
    "y_pre = fit.predict(X_test)"
   ]
  },
  {
   "cell_type": "code",
   "execution_count": 115,
   "metadata": {},
   "outputs": [
    {
     "name": "stdout",
     "output_type": "stream",
     "text": [
      "[[24  0  0  0  0  0  0  0]\n",
      " [ 0 26  0  0  0  1  0  0]\n",
      " [ 0  0 25  0  0  0  0  0]\n",
      " [ 0  0  0 31  0  0  0  0]\n",
      " [ 0  0  0  0 32  0  0  0]\n",
      " [ 0  0  0  0  0 27  0  0]\n",
      " [ 0  0  2  0  0  0 22  0]\n",
      " [ 0  0  0  0  0  0  0 26]]\n"
     ]
    }
   ],
   "source": [
    "#Confusion Matrix\n",
    "cm = confusion_matrix(y_test, y_pre)\n",
    "print (cm)"
   ]
  },
  {
   "cell_type": "code",
   "execution_count": 116,
   "metadata": {},
   "outputs": [
    {
     "name": "stdout",
     "output_type": "stream",
     "text": [
      "              precision    recall  f1-score   support\n",
      "\n",
      "      c-CS-m       1.00      1.00      1.00        24\n",
      "      c-CS-s       1.00      0.96      0.98        27\n",
      "      c-SC-m       0.93      1.00      0.96        25\n",
      "      c-SC-s       1.00      1.00      1.00        31\n",
      "      t-CS-m       1.00      1.00      1.00        32\n",
      "      t-CS-s       0.96      1.00      0.98        27\n",
      "      t-SC-m       1.00      0.92      0.96        24\n",
      "      t-SC-s       1.00      1.00      1.00        26\n",
      "\n",
      "    accuracy                           0.99       216\n",
      "   macro avg       0.99      0.98      0.99       216\n",
      "weighted avg       0.99      0.99      0.99       216\n",
      "\n"
     ]
    }
   ],
   "source": [
    "print (classification_report(y_test,y_pre))"
   ]
  },
  {
   "cell_type": "markdown",
   "metadata": {},
   "source": [
    "We observe that a KNN model with parameters (K=4, weights=distance , p=2) gives a accuracy score of 0.99 "
   ]
  },
  {
   "cell_type": "markdown",
   "metadata": {},
   "source": [
    "## Feature Selection"
   ]
  },
  {
   "cell_type": "code",
   "execution_count": 117,
   "metadata": {},
   "outputs": [],
   "source": [
    "Df_scaled1=Df_scaled.iloc[:].values"
   ]
  },
  {
   "cell_type": "code",
   "execution_count": 118,
   "metadata": {},
   "outputs": [
    {
     "name": "stdout",
     "output_type": "stream",
     "text": [
      "Score with 1 selected features: 0.17592592592592593\n",
      "Score with 2 selected features: 0.25462962962962965\n",
      "Score with 3 selected features: 0.5\n",
      "Score with 4 selected features: 0.6851851851851852\n",
      "Score with 5 selected features: 0.8194444444444444\n",
      "Score with 6 selected features: 0.875\n",
      "Score with 7 selected features: 0.9259259259259259\n",
      "Score with 8 selected features: 0.9305555555555556\n",
      "Score with 9 selected features: 0.9398148148148148\n",
      "Score with 10 selected features: 0.9398148148148148\n",
      "Score with 11 selected features: 0.9398148148148148\n",
      "Score with 12 selected features: 0.9444444444444444\n",
      "Score with 13 selected features: 0.9629629629629629\n",
      "Score with 14 selected features: 0.9722222222222222\n",
      "Score with 15 selected features: 0.9722222222222222\n",
      "Score with 16 selected features: 0.9861111111111112\n",
      "Score with 17 selected features: 0.9861111111111112\n",
      "Score with 18 selected features: 0.9861111111111112\n",
      "Score with 19 selected features: 0.9861111111111112\n",
      "Score with 20 selected features: 0.9861111111111112\n",
      "Score with 21 selected features: 0.9861111111111112\n",
      "Score with 22 selected features: 0.9861111111111112\n",
      "Score with 23 selected features: 0.9907407407407407\n",
      "Score with 24 selected features: 0.9907407407407407\n",
      "Score with 25 selected features: 0.9907407407407407\n",
      "Score with 26 selected features: 0.9907407407407407\n",
      "Score with 27 selected features: 0.9907407407407407\n",
      "Score with 28 selected features: 0.9907407407407407\n",
      "Score with 29 selected features: 0.9953703703703703\n",
      "Score with 30 selected features: 0.9953703703703703\n",
      "Score with 31 selected features: 0.9953703703703703\n",
      "Score with 32 selected features: 0.9953703703703703\n",
      "Score with 33 selected features: 0.9953703703703703\n",
      "Score with 34 selected features: 0.9953703703703703\n"
     ]
    }
   ],
   "source": [
    "# feature selection\n",
    "from sklearn.utils import shuffle\n",
    "new_Ind = []\n",
    "cur_MaxScore = 0.0\n",
    "col_num = 77\n",
    "col_Ind_Random = shuffle(range(0,col_num), random_state=4)\n",
    "\n",
    "for cur_f in range(0, col_num):\n",
    "    new_Ind.append(col_Ind_Random[cur_f])\n",
    "    newData = Df_scaled1[:, new_Ind]\n",
    "    X_train, X_test, y_train, y_test = train_test_split(newData, target, test_size=0.2, random_state=4)\n",
    "    clf = KNeighborsClassifier(3, weights='distance')\n",
    "    fit = clf.fit(X_train, y_train)\n",
    "    cur_Score = clf.score(X_test, y_test)\n",
    "    if cur_Score < cur_MaxScore:\n",
    "        new_Ind.remove(col_Ind_Random[cur_f])\n",
    "    else:\n",
    "        cur_MaxScore = cur_Score\n",
    "        print (\"Score with \" + str(len(new_Ind)) + \" selected features: \" + str(cur_Score))"
   ]
  },
  {
   "cell_type": "code",
   "execution_count": 119,
   "metadata": {},
   "outputs": [],
   "source": [
    "columns=[]\n",
    "cols = Df_scaled.columns\n",
    "for i in new_Ind:\n",
    "    columns.append(cols[i])"
   ]
  },
  {
   "cell_type": "code",
   "execution_count": 120,
   "metadata": {},
   "outputs": [],
   "source": [
    "# New set of fetures after feature selection\n",
    "Df_scaled_new=Df_scaled[columns]\n",
    "X_train, X_test, y_train, y_test = train_test_split(Df_scaled_new, target, test_size=0.2, random_state=0)"
   ]
  },
  {
   "cell_type": "code",
   "execution_count": 121,
   "metadata": {},
   "outputs": [
    {
     "name": "stdout",
     "output_type": "stream",
     "text": [
      "X_train: (864, 34)\n",
      "y_train: (864,)\n",
      "X_test: (216, 34)\n",
      "y_test: (216,)\n"
     ]
    }
   ],
   "source": [
    "print(\"X_train: \" + str(X_train.shape))\n",
    "print(\"y_train: \" + str(y_train.shape))\n",
    "print(\"X_test: \" + str(X_test.shape))\n",
    "print(\"y_test: \" + str(y_test.shape))"
   ]
  },
  {
   "cell_type": "code",
   "execution_count": 122,
   "metadata": {},
   "outputs": [],
   "source": [
    "clf = KNeighborsClassifier(3,weights='distance')\n",
    "fit = clf.fit(X_train, y_train)\n",
    "y_pre = fit.predict(X_test)"
   ]
  },
  {
   "cell_type": "code",
   "execution_count": 123,
   "metadata": {},
   "outputs": [
    {
     "name": "stdout",
     "output_type": "stream",
     "text": [
      "[[24  0  0  0  0  0  0  0]\n",
      " [ 1 26  0  0  0  0  0  0]\n",
      " [ 0  0 25  0  0  0  0  0]\n",
      " [ 0  0  0 31  0  0  0  0]\n",
      " [ 0  0  0  0 32  0  0  0]\n",
      " [ 0  0  0  0  0 27  0  0]\n",
      " [ 0  0  1  0  0  0 23  0]\n",
      " [ 0  0  0  0  0  0  0 26]]\n"
     ]
    }
   ],
   "source": [
    "cm = confusion_matrix(y_test, y_pre)\n",
    "print(cm)"
   ]
  },
  {
   "cell_type": "code",
   "execution_count": 124,
   "metadata": {},
   "outputs": [
    {
     "name": "stdout",
     "output_type": "stream",
     "text": [
      "              precision    recall  f1-score   support\n",
      "\n",
      "      c-CS-m       0.96      1.00      0.98        24\n",
      "      c-CS-s       1.00      0.96      0.98        27\n",
      "      c-SC-m       0.96      1.00      0.98        25\n",
      "      c-SC-s       1.00      1.00      1.00        31\n",
      "      t-CS-m       1.00      1.00      1.00        32\n",
      "      t-CS-s       1.00      1.00      1.00        27\n",
      "      t-SC-m       1.00      0.96      0.98        24\n",
      "      t-SC-s       1.00      1.00      1.00        26\n",
      "\n",
      "    accuracy                           0.99       216\n",
      "   macro avg       0.99      0.99      0.99       216\n",
      "weighted avg       0.99      0.99      0.99       216\n",
      "\n"
     ]
    }
   ],
   "source": [
    "print (classification_report(y_test,y_pre))"
   ]
  },
  {
   "cell_type": "markdown",
   "metadata": {},
   "source": [
    "## Comparison(Train-Test Split 80-20)\n",
    "\n",
    "### KNN models on Hyperparameter Tuning with Accuracy score \n",
    "\n",
    "                        Model                 Accuracy\n",
    "    1. KNN Model(k=5, p=2, weights= uniform)-   0.97\n",
    "    \n",
    "    2. KNN Model(k=5, p=1, weights= uniform)-   0.97\n",
    "    \n",
    "    3. KNN Model(k=3, p=2, weights= distance)-   1.0\n",
    "    \n",
    "    4. KNN Model(k=4, p=2, weights= uniform)-   0.97\n",
    "    \n",
    "    5. KNN Model(k=4, p=2, weights= distance)-   0.99\n",
    "    \n",
    "    6. KNN Model(k=3, p=2, weights= distance)\n",
    "        with feature selection               -   0.99"
   ]
  },
  {
   "cell_type": "markdown",
   "metadata": {},
   "source": [
    "# Decision Tree\n",
    "## Creating a 50% training and 50% testing dataset."
   ]
  },
  {
   "cell_type": "code",
   "execution_count": 125,
   "metadata": {},
   "outputs": [],
   "source": [
    "X_train, X_test, y_train, y_test = train_test_split(Df_scaled,target,test_size=0.5,random_state=4)"
   ]
  },
  {
   "cell_type": "code",
   "execution_count": 126,
   "metadata": {},
   "outputs": [
    {
     "name": "stdout",
     "output_type": "stream",
     "text": [
      "X_train: (540, 77)\n",
      "y_train: (540,)\n",
      "X_test: (540, 77)\n",
      "y_test: (540,)\n"
     ]
    }
   ],
   "source": [
    "print(\"X_train: \" + str(X_train.shape))\n",
    "print(\"y_train: \" + str(y_train.shape))\n",
    "print(\"X_test: \" + str(X_test.shape))\n",
    "print(\"y_test: \" + str(y_test.shape))"
   ]
  },
  {
   "cell_type": "code",
   "execution_count": 127,
   "metadata": {},
   "outputs": [],
   "source": [
    "#50-50 train test split Decision Tree using default() values, criterion 'gini'\n",
    "from sklearn.tree import DecisionTreeClassifier\n",
    "clf = DecisionTreeClassifier()\n",
    "fit = clf.fit(X_train, y_train)\n",
    "y_pre = fit.predict(X_test)  "
   ]
  },
  {
   "cell_type": "code",
   "execution_count": 128,
   "metadata": {},
   "outputs": [
    {
     "data": {
      "text/plain": [
       "(540,)"
      ]
     },
     "execution_count": 128,
     "metadata": {},
     "output_type": "execute_result"
    }
   ],
   "source": [
    "y_pre.shape"
   ]
  },
  {
   "cell_type": "code",
   "execution_count": 129,
   "metadata": {},
   "outputs": [
    {
     "name": "stdout",
     "output_type": "stream",
     "text": [
      "[[55  6  0  0  6  1  1  0]\n",
      " [15 47  1  0  1  7  1  0]\n",
      " [ 3  0 65  4  2  0  2  5]\n",
      " [ 0  0  1 55  0  0  0  0]\n",
      " [ 6  4  0  0 50 11  0  0]\n",
      " [ 1  7  1  0 17 31  0  0]\n",
      " [ 0  0  5  2  0  0 60  2]\n",
      " [ 1  1  1  1  1  0  1 59]]\n"
     ]
    }
   ],
   "source": [
    "cm = confusion_matrix(y_test, y_pre)\n",
    "print (cm)"
   ]
  },
  {
   "cell_type": "code",
   "execution_count": 130,
   "metadata": {},
   "outputs": [
    {
     "name": "stdout",
     "output_type": "stream",
     "text": [
      "              precision    recall  f1-score   support\n",
      "\n",
      "      c-CS-m       0.68      0.80      0.73        69\n",
      "      c-CS-s       0.72      0.65      0.69        72\n",
      "      c-SC-m       0.88      0.80      0.84        81\n",
      "      c-SC-s       0.89      0.98      0.93        56\n",
      "      t-CS-m       0.65      0.70      0.68        71\n",
      "      t-CS-s       0.62      0.54      0.58        57\n",
      "      t-SC-m       0.92      0.87      0.90        69\n",
      "      t-SC-s       0.89      0.91      0.90        65\n",
      "\n",
      "    accuracy                           0.78       540\n",
      "   macro avg       0.78      0.78      0.78       540\n",
      "weighted avg       0.78      0.78      0.78       540\n",
      "\n"
     ]
    }
   ],
   "source": [
    "print (classification_report(y_test,y_pre))"
   ]
  },
  {
   "cell_type": "markdown",
   "metadata": {},
   "source": [
    "We observe that a DT model with default parameters gives a accuracy score of 0.78"
   ]
  },
  {
   "cell_type": "code",
   "execution_count": 131,
   "metadata": {},
   "outputs": [],
   "source": [
    "# 50 50 Decision Tree using criterion = \"Entropy\"\n",
    "clf = DecisionTreeClassifier(criterion=\"entropy\")\n",
    "fit = clf.fit(X_train, y_train)\n",
    "y_pre = fit.predict(X_test) "
   ]
  },
  {
   "cell_type": "code",
   "execution_count": 132,
   "metadata": {},
   "outputs": [
    {
     "data": {
      "text/plain": [
       "(540,)"
      ]
     },
     "execution_count": 132,
     "metadata": {},
     "output_type": "execute_result"
    }
   ],
   "source": [
    "y_pre.shape"
   ]
  },
  {
   "cell_type": "code",
   "execution_count": 133,
   "metadata": {},
   "outputs": [
    {
     "name": "stdout",
     "output_type": "stream",
     "text": [
      "[[52  4  1  1  7  4  0  0]\n",
      " [14 47  1  1  4  5  0  0]\n",
      " [ 1  0 70  1  0  3  2  4]\n",
      " [ 0  0  1 53  0  0  2  0]\n",
      " [ 5  2  1  0 56  5  0  2]\n",
      " [ 6  1  0  0  9 41  0  0]\n",
      " [ 0  0  5  4  0  0 60  0]\n",
      " [ 0  0  1  0  0  1  1 62]]\n"
     ]
    }
   ],
   "source": [
    "cm = confusion_matrix(y_test, y_pre)\n",
    "print (cm)"
   ]
  },
  {
   "cell_type": "code",
   "execution_count": 134,
   "metadata": {
    "scrolled": true
   },
   "outputs": [
    {
     "name": "stdout",
     "output_type": "stream",
     "text": [
      "              precision    recall  f1-score   support\n",
      "\n",
      "      c-CS-m       0.67      0.75      0.71        69\n",
      "      c-CS-s       0.87      0.65      0.75        72\n",
      "      c-SC-m       0.88      0.86      0.87        81\n",
      "      c-SC-s       0.88      0.95      0.91        56\n",
      "      t-CS-m       0.74      0.79      0.76        71\n",
      "      t-CS-s       0.69      0.72      0.71        57\n",
      "      t-SC-m       0.92      0.87      0.90        69\n",
      "      t-SC-s       0.91      0.95      0.93        65\n",
      "\n",
      "    accuracy                           0.82       540\n",
      "   macro avg       0.82      0.82      0.82       540\n",
      "weighted avg       0.82      0.82      0.82       540\n",
      "\n"
     ]
    }
   ],
   "source": [
    "print (classification_report(y_test,y_pre))"
   ]
  },
  {
   "cell_type": "markdown",
   "metadata": {},
   "source": [
    "We observe that a DT model with parameter criterion ='entropy' gives a accuracy score of 0.82"
   ]
  },
  {
   "cell_type": "code",
   "execution_count": 135,
   "metadata": {},
   "outputs": [],
   "source": [
    "#50 50 Decision Tree using default() values and maximum features parameter=5, criterion='gini'\n",
    "clf = DecisionTreeClassifier(max_features = 5)\n",
    "fit = clf.fit(X_train, y_train)\n",
    "y_pre = fit.predict(X_test)"
   ]
  },
  {
   "cell_type": "code",
   "execution_count": 136,
   "metadata": {},
   "outputs": [
    {
     "data": {
      "text/plain": [
       "(540,)"
      ]
     },
     "execution_count": 136,
     "metadata": {},
     "output_type": "execute_result"
    }
   ],
   "source": [
    "y_pre.shape"
   ]
  },
  {
   "cell_type": "code",
   "execution_count": 137,
   "metadata": {},
   "outputs": [
    {
     "name": "stdout",
     "output_type": "stream",
     "text": [
      "[[51  4  1  4  4  2  2  1]\n",
      " [ 7 55  0  2  6  0  0  2]\n",
      " [ 0  0 59 13  0  0  5  4]\n",
      " [ 1  1  3 43  0  0  4  4]\n",
      " [12  3  0  0 48  7  0  1]\n",
      " [ 6  7  0  0  6 35  0  3]\n",
      " [ 1  1  3  7  0  0 48  9]\n",
      " [ 1  3  3  2  1  0  1 54]]\n"
     ]
    }
   ],
   "source": [
    "cm = confusion_matrix(y_test, y_pre)\n",
    "print (cm)"
   ]
  },
  {
   "cell_type": "code",
   "execution_count": 138,
   "metadata": {},
   "outputs": [
    {
     "name": "stdout",
     "output_type": "stream",
     "text": [
      "              precision    recall  f1-score   support\n",
      "\n",
      "      c-CS-m       0.65      0.74      0.69        69\n",
      "      c-CS-s       0.74      0.76      0.75        72\n",
      "      c-SC-m       0.86      0.73      0.79        81\n",
      "      c-SC-s       0.61      0.77      0.68        56\n",
      "      t-CS-m       0.74      0.68      0.71        71\n",
      "      t-CS-s       0.80      0.61      0.69        57\n",
      "      t-SC-m       0.80      0.70      0.74        69\n",
      "      t-SC-s       0.69      0.83      0.76        65\n",
      "\n",
      "    accuracy                           0.73       540\n",
      "   macro avg       0.73      0.73      0.73       540\n",
      "weighted avg       0.74      0.73      0.73       540\n",
      "\n"
     ]
    }
   ],
   "source": [
    "print (classification_report(y_test,y_pre))"
   ]
  },
  {
   "cell_type": "markdown",
   "metadata": {},
   "source": [
    "We observe that a DT model with parameter max_features = 5 and criterion = 'gini' gives a accuracy score of 0.73"
   ]
  },
  {
   "cell_type": "code",
   "execution_count": 139,
   "metadata": {},
   "outputs": [],
   "source": [
    "#50 50 Decision Tree using Entropy values and maximum features parameter\n",
    "clf = DecisionTreeClassifier(criterion = \"entropy\", max_features = 5)\n",
    "fit = clf.fit(X_train, y_train)\n",
    "y_pre = fit.predict(X_test)"
   ]
  },
  {
   "cell_type": "code",
   "execution_count": 140,
   "metadata": {},
   "outputs": [
    {
     "data": {
      "text/plain": [
       "(540,)"
      ]
     },
     "execution_count": 140,
     "metadata": {},
     "output_type": "execute_result"
    }
   ],
   "source": [
    "y_pre.shape"
   ]
  },
  {
   "cell_type": "code",
   "execution_count": 141,
   "metadata": {},
   "outputs": [
    {
     "name": "stdout",
     "output_type": "stream",
     "text": [
      "[[54  7  0  3  0  3  0  2]\n",
      " [14 40  0  1  6  7  0  4]\n",
      " [ 2  0 55 11  0  0  7  6]\n",
      " [ 0  0  6 44  0  0  3  3]\n",
      " [10  7  1  0 48  5  0  0]\n",
      " [ 3  1  0  0 12 41  0  0]\n",
      " [ 1  1  7 11  0  0 41  8]\n",
      " [ 0  6  3  2  1  0  0 53]]\n"
     ]
    }
   ],
   "source": [
    "cm = confusion_matrix(y_test, y_pre)\n",
    "print (cm)"
   ]
  },
  {
   "cell_type": "code",
   "execution_count": 142,
   "metadata": {},
   "outputs": [
    {
     "name": "stdout",
     "output_type": "stream",
     "text": [
      "              precision    recall  f1-score   support\n",
      "\n",
      "      c-CS-m       0.64      0.78      0.71        69\n",
      "      c-CS-s       0.65      0.56      0.60        72\n",
      "      c-SC-m       0.76      0.68      0.72        81\n",
      "      c-SC-s       0.61      0.79      0.69        56\n",
      "      t-CS-m       0.72      0.68      0.70        71\n",
      "      t-CS-s       0.73      0.72      0.73        57\n",
      "      t-SC-m       0.80      0.59      0.68        69\n",
      "      t-SC-s       0.70      0.82      0.75        65\n",
      "\n",
      "    accuracy                           0.70       540\n",
      "   macro avg       0.70      0.70      0.70       540\n",
      "weighted avg       0.70      0.70      0.69       540\n",
      "\n"
     ]
    }
   ],
   "source": [
    "print (classification_report(y_test,y_pre))"
   ]
  },
  {
   "cell_type": "markdown",
   "metadata": {},
   "source": [
    "We observe that a DT model with parameter max_features = 5 and criterion = 'entropy' gives a accuracy score of 0.70"
   ]
  },
  {
   "cell_type": "markdown",
   "metadata": {},
   "source": [
    "## Feature Selection using Hill Climbing Technique"
   ]
  },
  {
   "cell_type": "markdown",
   "metadata": {},
   "source": [
    "We use the best model we get after hyper parameter tuning i.e DT model with criterion = entropy and max-features=None"
   ]
  },
  {
   "cell_type": "code",
   "execution_count": 143,
   "metadata": {},
   "outputs": [],
   "source": [
    "Df_scaled1=Df_scaled.iloc[:].values"
   ]
  },
  {
   "cell_type": "code",
   "execution_count": 144,
   "metadata": {},
   "outputs": [
    {
     "name": "stdout",
     "output_type": "stream",
     "text": [
      "Score with 1 selected features: 0.15\n",
      "Score with 2 selected features: 0.20925925925925926\n",
      "Score with 3 selected features: 0.29259259259259257\n",
      "Score with 4 selected features: 0.3333333333333333\n",
      "Score with 5 selected features: 0.387037037037037\n",
      "Score with 6 selected features: 0.43703703703703706\n",
      "Score with 7 selected features: 0.48333333333333334\n",
      "Score with 8 selected features: 0.6129629629629629\n",
      "Score with 9 selected features: 0.6555555555555556\n",
      "Score with 10 selected features: 0.6814814814814815\n",
      "Score with 11 selected features: 0.6962962962962963\n",
      "Score with 12 selected features: 0.7518518518518519\n",
      "Score with 13 selected features: 0.7592592592592593\n",
      "Score with 14 selected features: 0.762962962962963\n",
      "Score with 15 selected features: 0.7685185185185185\n",
      "Score with 16 selected features: 0.7814814814814814\n",
      "Score with 17 selected features: 0.7962962962962963\n",
      "Score with 18 selected features: 0.8\n",
      "Score with 19 selected features: 0.8055555555555556\n",
      "Score with 20 selected features: 0.812962962962963\n",
      "Score with 21 selected features: 0.8222222222222222\n",
      "Score with 22 selected features: 0.8240740740740741\n",
      "Score with 23 selected features: 0.8314814814814815\n",
      "Score with 24 selected features: 0.8444444444444444\n",
      "Score with 25 selected features: 0.8592592592592593\n"
     ]
    }
   ],
   "source": [
    "# feature selection\n",
    "new_Ind = []\n",
    "cur_MaxScore = 0.0\n",
    "col_num = 77\n",
    "col_Ind_Random = shuffle(range(0,col_num), random_state=1)\n",
    "\n",
    "for cur_f in range(0, col_num):\n",
    "    new_Ind.append(col_Ind_Random[cur_f])\n",
    "    newData = Df_scaled1[:, new_Ind]\n",
    "    X_train, X_test, y_train, y_test = train_test_split(newData, target, test_size=0.5, random_state=0)\n",
    "    clf = DecisionTreeClassifier(criterion='entropy')\n",
    "    fit = clf.fit(X_train, y_train)\n",
    "    cur_Score = clf.score(X_test, y_test)\n",
    "    if cur_Score < cur_MaxScore:\n",
    "        new_Ind.remove(col_Ind_Random[cur_f])\n",
    "    else:\n",
    "        cur_MaxScore = cur_Score\n",
    "        print (\"Score with \" + str(len(new_Ind)) + \" selected features: \" + str(cur_Score))"
   ]
  },
  {
   "cell_type": "code",
   "execution_count": 145,
   "metadata": {},
   "outputs": [
    {
     "name": "stdout",
     "output_type": "stream",
     "text": [
      "[31, 43, 26, 74, 58, 61, 36, 10, 53, 34, 2, 46, 63, 75, 56, 39, 47, 8, 17, 0, 48, 7, 20, 1, 72]\n"
     ]
    }
   ],
   "source": [
    "print (new_Ind)"
   ]
  },
  {
   "cell_type": "code",
   "execution_count": 146,
   "metadata": {},
   "outputs": [],
   "source": [
    "columns=[]\n",
    "cols = Df_scaled.columns\n",
    "for i in new_Ind:\n",
    "    columns.append(cols[i])"
   ]
  },
  {
   "cell_type": "code",
   "execution_count": 147,
   "metadata": {},
   "outputs": [],
   "source": [
    "# New set of fetures after feature selection\n",
    "Df_scaled_new=Df_scaled[columns]\n",
    "X_train, X_test, y_train, y_test = train_test_split(Df_scaled_new, target, test_size=0.5, random_state=0)"
   ]
  },
  {
   "cell_type": "code",
   "execution_count": 148,
   "metadata": {},
   "outputs": [],
   "source": [
    "clf = DecisionTreeClassifier(criterion='entropy')\n",
    "fit = clf.fit(X_train, y_train)\n",
    "y_pre = fit.predict(X_test) "
   ]
  },
  {
   "cell_type": "code",
   "execution_count": 149,
   "metadata": {},
   "outputs": [
    {
     "name": "stdout",
     "output_type": "stream",
     "text": [
      "[[59  4  2  0  5  0  0  1]\n",
      " [ 6 54  1  3  7  4  0  0]\n",
      " [ 1  1 72  5  0  0  2  0]\n",
      " [ 0  0  3 56  0  0  4  3]\n",
      " [ 5  7  1  0 54  0  0  0]\n",
      " [ 2  3  0  0  3 43  0  0]\n",
      " [ 0  0  6  1  0  0 53  0]\n",
      " [ 4  2  1  1  0  1  1 59]]\n"
     ]
    }
   ],
   "source": [
    "cm = confusion_matrix(y_test, y_pre)\n",
    "print (cm)"
   ]
  },
  {
   "cell_type": "code",
   "execution_count": 150,
   "metadata": {},
   "outputs": [
    {
     "name": "stdout",
     "output_type": "stream",
     "text": [
      "              precision    recall  f1-score   support\n",
      "\n",
      "      c-CS-m       0.77      0.83      0.80        71\n",
      "      c-CS-s       0.76      0.72      0.74        75\n",
      "      c-SC-m       0.84      0.89      0.86        81\n",
      "      c-SC-s       0.85      0.85      0.85        66\n",
      "      t-CS-m       0.78      0.81      0.79        67\n",
      "      t-CS-s       0.90      0.84      0.87        51\n",
      "      t-SC-m       0.88      0.88      0.88        60\n",
      "      t-SC-s       0.94      0.86      0.89        69\n",
      "\n",
      "    accuracy                           0.83       540\n",
      "   macro avg       0.84      0.83      0.84       540\n",
      "weighted avg       0.84      0.83      0.83       540\n",
      "\n"
     ]
    }
   ],
   "source": [
    "print (classification_report(y_test,y_pre))"
   ]
  },
  {
   "cell_type": "markdown",
   "metadata": {},
   "source": [
    "## Comparison(Train-Test Split 50-50) \n",
    "### DT models on Hyperparameter Tuning with Accuracy score \n",
    "\n",
    "                        Model                           Accuracy\n",
    "    1. DT Model(criterion=Gini, max_featutres=None)-      0.78\n",
    "    \n",
    "    2. DT Model(criterion=Entropy, max_featutres=None)-   0.82\n",
    "    \n",
    "    3. DT Model(criterion=Gini, max_featutres=5)-         0.73\n",
    "    \n",
    "    4. DT Model(criterion=Entropy, max_featutres=5)-      0.70\n",
    "       \n",
    "    5. DT Model(criterion=Entropy, max_featutres=None)\n",
    "                 with feature selection               -   0.83"
   ]
  },
  {
   "cell_type": "markdown",
   "metadata": {},
   "source": [
    "## Creating a 60% training and 40% testing dataset\n"
   ]
  },
  {
   "cell_type": "code",
   "execution_count": 151,
   "metadata": {},
   "outputs": [],
   "source": [
    "X_train, X_test, y_train, y_test = train_test_split(Df_scaled,target,test_size=0.4,random_state=4)"
   ]
  },
  {
   "cell_type": "code",
   "execution_count": 152,
   "metadata": {},
   "outputs": [
    {
     "name": "stdout",
     "output_type": "stream",
     "text": [
      "X_train: (648, 77)\n",
      "y_train: (648,)\n",
      "X_test: (432, 77)\n",
      "y_test: (432,)\n"
     ]
    }
   ],
   "source": [
    "print(\"X_train: \" + str(X_train.shape))\n",
    "print(\"y_train: \" + str(y_train.shape))\n",
    "print(\"X_test: \" + str(X_test.shape))\n",
    "print(\"y_test: \" + str(y_test.shape))"
   ]
  },
  {
   "cell_type": "code",
   "execution_count": 153,
   "metadata": {},
   "outputs": [],
   "source": [
    "#60 40 Decision tree using criterion = Gini index, max_features=None\n",
    "clf = DecisionTreeClassifier()\n",
    "fit = clf.fit(X_train, y_train)\n",
    "y_pre = fit.predict(X_test) "
   ]
  },
  {
   "cell_type": "code",
   "execution_count": 154,
   "metadata": {},
   "outputs": [
    {
     "data": {
      "text/plain": [
       "(432,)"
      ]
     },
     "execution_count": 154,
     "metadata": {},
     "output_type": "execute_result"
    }
   ],
   "source": [
    "y_pre.shape"
   ]
  },
  {
   "cell_type": "code",
   "execution_count": 155,
   "metadata": {},
   "outputs": [
    {
     "name": "stdout",
     "output_type": "stream",
     "text": [
      "[[50  1  1  0  0  1  0  0]\n",
      " [ 8 41  0  0  6  1  0  0]\n",
      " [ 0  1 55  1  0  0  4  3]\n",
      " [ 0  0  2 40  0  0  1  0]\n",
      " [ 1  3  0  0 50  6  0  0]\n",
      " [ 3  4  0  0  6 38  0  0]\n",
      " [ 0  0  7  0  0  0 52  0]\n",
      " [ 1  0  0  0  0  0  1 44]]\n"
     ]
    }
   ],
   "source": [
    "cm = confusion_matrix(y_test, y_pre)\n",
    "print (cm)"
   ]
  },
  {
   "cell_type": "code",
   "execution_count": 156,
   "metadata": {},
   "outputs": [
    {
     "name": "stdout",
     "output_type": "stream",
     "text": [
      "              precision    recall  f1-score   support\n",
      "\n",
      "      c-CS-m       0.79      0.94      0.86        53\n",
      "      c-CS-s       0.82      0.73      0.77        56\n",
      "      c-SC-m       0.85      0.86      0.85        64\n",
      "      c-SC-s       0.98      0.93      0.95        43\n",
      "      t-CS-m       0.81      0.83      0.82        60\n",
      "      t-CS-s       0.83      0.75      0.78        51\n",
      "      t-SC-m       0.90      0.88      0.89        59\n",
      "      t-SC-s       0.94      0.96      0.95        46\n",
      "\n",
      "    accuracy                           0.86       432\n",
      "   macro avg       0.86      0.86      0.86       432\n",
      "weighted avg       0.86      0.86      0.86       432\n",
      "\n"
     ]
    }
   ],
   "source": [
    "print (classification_report(y_test,y_pre))"
   ]
  },
  {
   "cell_type": "markdown",
   "metadata": {},
   "source": [
    "We observe that a DT model with parameter max_features = None and criterion = 'Gini' gives a accuracy score of 0.86"
   ]
  },
  {
   "cell_type": "code",
   "execution_count": 157,
   "metadata": {},
   "outputs": [],
   "source": [
    "#60 40 Decision tree using criterion = entropy\n",
    "clf = DecisionTreeClassifier(criterion = \"entropy\")\n",
    "fit = clf.fit(X_train, y_train)\n",
    "y_pre = fit.predict(X_test) "
   ]
  },
  {
   "cell_type": "code",
   "execution_count": 158,
   "metadata": {},
   "outputs": [
    {
     "data": {
      "text/plain": [
       "(432,)"
      ]
     },
     "execution_count": 158,
     "metadata": {},
     "output_type": "execute_result"
    }
   ],
   "source": [
    "y_pre.shape"
   ]
  },
  {
   "cell_type": "code",
   "execution_count": 159,
   "metadata": {},
   "outputs": [
    {
     "name": "stdout",
     "output_type": "stream",
     "text": [
      "[[44  4  0  0  5  0  0  0]\n",
      " [ 5 39  0  0  7  4  0  1]\n",
      " [ 1  0 54  0  0  0  6  3]\n",
      " [ 0  0  1 40  0  0  2  0]\n",
      " [ 5  1  0  0 50  4  0  0]\n",
      " [ 2  1  1  0 11 36  0  0]\n",
      " [ 1  0  5  2  0  0 50  1]\n",
      " [ 0  0  2  0  2  0  2 40]]\n"
     ]
    }
   ],
   "source": [
    "cm = confusion_matrix(y_test, y_pre)\n",
    "print (cm)"
   ]
  },
  {
   "cell_type": "code",
   "execution_count": 160,
   "metadata": {},
   "outputs": [
    {
     "name": "stdout",
     "output_type": "stream",
     "text": [
      "              precision    recall  f1-score   support\n",
      "\n",
      "      c-CS-m       0.76      0.83      0.79        53\n",
      "      c-CS-s       0.87      0.70      0.77        56\n",
      "      c-SC-m       0.86      0.84      0.85        64\n",
      "      c-SC-s       0.95      0.93      0.94        43\n",
      "      t-CS-m       0.67      0.83      0.74        60\n",
      "      t-CS-s       0.82      0.71      0.76        51\n",
      "      t-SC-m       0.83      0.85      0.84        59\n",
      "      t-SC-s       0.89      0.87      0.88        46\n",
      "\n",
      "    accuracy                           0.82       432\n",
      "   macro avg       0.83      0.82      0.82       432\n",
      "weighted avg       0.82      0.82      0.82       432\n",
      "\n"
     ]
    }
   ],
   "source": [
    "print (classification_report(y_test,y_pre))"
   ]
  },
  {
   "cell_type": "markdown",
   "metadata": {},
   "source": [
    "We observe that a DT model with parameter max_features = None and criterion = 'entropy' gives a accuracy score of 0.82"
   ]
  },
  {
   "cell_type": "code",
   "execution_count": 161,
   "metadata": {},
   "outputs": [],
   "source": [
    "#60 40 Decision tree using gini index and max features and criterion Gini\n",
    "clf = DecisionTreeClassifier(max_features = 5)\n",
    "fit = clf.fit(X_train, y_train)\n",
    "y_pre = fit.predict(X_test) "
   ]
  },
  {
   "cell_type": "code",
   "execution_count": 162,
   "metadata": {},
   "outputs": [
    {
     "data": {
      "text/plain": [
       "(432,)"
      ]
     },
     "execution_count": 162,
     "metadata": {},
     "output_type": "execute_result"
    }
   ],
   "source": [
    "y_pre.shape"
   ]
  },
  {
   "cell_type": "code",
   "execution_count": 163,
   "metadata": {},
   "outputs": [
    {
     "name": "stdout",
     "output_type": "stream",
     "text": [
      "[[39  2  0  1  1  6  1  3]\n",
      " [ 7 44  0  0  1  1  1  2]\n",
      " [ 1  1 44 11  0  0  4  3]\n",
      " [ 0  0  5 31  0  1  5  1]\n",
      " [ 7  5  0  0 44  3  0  1]\n",
      " [ 7  5  0  0  4 33  0  2]\n",
      " [ 0  0  5  7  1  2 43  1]\n",
      " [ 0  2  5  0  1  0  2 36]]\n"
     ]
    }
   ],
   "source": [
    "cm = confusion_matrix(y_test, y_pre)\n",
    "print (cm)"
   ]
  },
  {
   "cell_type": "code",
   "execution_count": 164,
   "metadata": {},
   "outputs": [
    {
     "name": "stdout",
     "output_type": "stream",
     "text": [
      "              precision    recall  f1-score   support\n",
      "\n",
      "      c-CS-m       0.64      0.74      0.68        53\n",
      "      c-CS-s       0.75      0.79      0.77        56\n",
      "      c-SC-m       0.75      0.69      0.72        64\n",
      "      c-SC-s       0.62      0.72      0.67        43\n",
      "      t-CS-m       0.85      0.73      0.79        60\n",
      "      t-CS-s       0.72      0.65      0.68        51\n",
      "      t-SC-m       0.77      0.73      0.75        59\n",
      "      t-SC-s       0.73      0.78      0.76        46\n",
      "\n",
      "    accuracy                           0.73       432\n",
      "   macro avg       0.73      0.73      0.73       432\n",
      "weighted avg       0.73      0.73      0.73       432\n",
      "\n"
     ]
    }
   ],
   "source": [
    "print (classification_report(y_test,y_pre))"
   ]
  },
  {
   "cell_type": "markdown",
   "metadata": {},
   "source": [
    "We observe that a DT model with parameter max_features = 5 and criterion = 'gini' gives a accuracy score of 0.73"
   ]
  },
  {
   "cell_type": "code",
   "execution_count": 165,
   "metadata": {},
   "outputs": [],
   "source": [
    "#60 40 Decision tree using entropy and max features=5\n",
    "clf = DecisionTreeClassifier(criterion = \"entropy\", max_features = 5)\n",
    "fit = clf.fit(X_train, y_train)\n",
    "y_pre = fit.predict(X_test) "
   ]
  },
  {
   "cell_type": "code",
   "execution_count": 166,
   "metadata": {},
   "outputs": [
    {
     "data": {
      "text/plain": [
       "(432,)"
      ]
     },
     "execution_count": 166,
     "metadata": {},
     "output_type": "execute_result"
    }
   ],
   "source": [
    "y_pre.shape"
   ]
  },
  {
   "cell_type": "code",
   "execution_count": 167,
   "metadata": {},
   "outputs": [
    {
     "name": "stdout",
     "output_type": "stream",
     "text": [
      "[[42  3  1  3  4  0  0  0]\n",
      " [ 7 41  0  0  3  5  0  0]\n",
      " [ 0  0 47  5  0  0 11  1]\n",
      " [ 0  0  5 36  0  0  2  0]\n",
      " [ 4  4  1  0 45  2  0  4]\n",
      " [ 3  3  1  0  7 37  0  0]\n",
      " [ 0  0  5  4  0  0 50  0]\n",
      " [ 2  0  2  1  0  1  0 40]]\n"
     ]
    }
   ],
   "source": [
    "cm = confusion_matrix(y_test, y_pre)\n",
    "print (cm)"
   ]
  },
  {
   "cell_type": "code",
   "execution_count": 168,
   "metadata": {},
   "outputs": [
    {
     "name": "stdout",
     "output_type": "stream",
     "text": [
      "              precision    recall  f1-score   support\n",
      "\n",
      "      c-CS-m       0.72      0.79      0.76        53\n",
      "      c-CS-s       0.80      0.73      0.77        56\n",
      "      c-SC-m       0.76      0.73      0.75        64\n",
      "      c-SC-s       0.73      0.84      0.78        43\n",
      "      t-CS-m       0.76      0.75      0.76        60\n",
      "      t-CS-s       0.82      0.73      0.77        51\n",
      "      t-SC-m       0.79      0.85      0.82        59\n",
      "      t-SC-s       0.89      0.87      0.88        46\n",
      "\n",
      "    accuracy                           0.78       432\n",
      "   macro avg       0.79      0.79      0.78       432\n",
      "weighted avg       0.78      0.78      0.78       432\n",
      "\n"
     ]
    }
   ],
   "source": [
    "print (classification_report(y_test,y_pre))"
   ]
  },
  {
   "cell_type": "markdown",
   "metadata": {},
   "source": [
    "We observe that a DT model with parameter max_features = 5 and criterion = 'entropy' gives a accuracy score of 0.78"
   ]
  },
  {
   "cell_type": "markdown",
   "metadata": {},
   "source": [
    "## Feature Selection"
   ]
  },
  {
   "cell_type": "code",
   "execution_count": 169,
   "metadata": {},
   "outputs": [],
   "source": [
    "Df_scaled1=Df_scaled.iloc[:].values"
   ]
  },
  {
   "cell_type": "code",
   "execution_count": 170,
   "metadata": {},
   "outputs": [
    {
     "name": "stdout",
     "output_type": "stream",
     "text": [
      "Score with 1 selected features: 0.1597222222222222\n",
      "Score with 2 selected features: 0.2222222222222222\n",
      "Score with 3 selected features: 0.2569444444444444\n",
      "Score with 4 selected features: 0.3194444444444444\n",
      "Score with 5 selected features: 0.4050925925925926\n",
      "Score with 6 selected features: 0.4305555555555556\n",
      "Score with 7 selected features: 0.4675925925925926\n",
      "Score with 8 selected features: 0.49537037037037035\n",
      "Score with 9 selected features: 0.6273148148148148\n",
      "Score with 10 selected features: 0.6365740740740741\n",
      "Score with 11 selected features: 0.6597222222222222\n",
      "Score with 12 selected features: 0.6782407407407407\n",
      "Score with 13 selected features: 0.7337962962962963\n",
      "Score with 14 selected features: 0.7430555555555556\n",
      "Score with 15 selected features: 0.7754629629629629\n",
      "Score with 16 selected features: 0.7824074074074074\n",
      "Score with 17 selected features: 0.7962962962962963\n",
      "Score with 18 selected features: 0.7986111111111112\n",
      "Score with 19 selected features: 0.8009259259259259\n",
      "Score with 20 selected features: 0.8148148148148148\n",
      "Score with 21 selected features: 0.8148148148148148\n"
     ]
    }
   ],
   "source": [
    "# feature selection\n",
    "new_Ind = []\n",
    "cur_MaxScore = 0.0\n",
    "col_num = 77\n",
    "col_Ind_Random = shuffle(range(0,col_num), random_state=1)\n",
    "\n",
    "for cur_f in range(0, col_num):\n",
    "    new_Ind.append(col_Ind_Random[cur_f])\n",
    "    newData = Df_scaled1[:, new_Ind]\n",
    "    X_train, X_test, y_train, y_test = train_test_split(newData, target, test_size=0.4, random_state=0)\n",
    "    clf = DecisionTreeClassifier(criterion='gini')\n",
    "    fit = clf.fit(X_train, y_train)\n",
    "    cur_Score = clf.score(X_test, y_test)\n",
    "    if cur_Score < cur_MaxScore:\n",
    "        new_Ind.remove(col_Ind_Random[cur_f])\n",
    "    else:\n",
    "        cur_MaxScore = cur_Score\n",
    "        print (\"Score with \" + str(len(new_Ind)) + \" selected features: \" + str(cur_Score))"
   ]
  },
  {
   "cell_type": "code",
   "execution_count": 171,
   "metadata": {},
   "outputs": [
    {
     "name": "stdout",
     "output_type": "stream",
     "text": [
      "[31, 43, 26, 74, 58, 59, 61, 51, 10, 53, 34, 2, 46, 15, 45, 75, 38, 55, 21, 20, 25]\n"
     ]
    }
   ],
   "source": [
    "print (new_Ind)"
   ]
  },
  {
   "cell_type": "code",
   "execution_count": 172,
   "metadata": {},
   "outputs": [],
   "source": [
    "columns=[]\n",
    "cols = Df_scaled.columns\n",
    "for i in new_Ind:\n",
    "    columns.append(cols[i])"
   ]
  },
  {
   "cell_type": "code",
   "execution_count": 173,
   "metadata": {},
   "outputs": [],
   "source": [
    "Df_scaled_new=Df_scaled[columns]\n",
    "X_train, X_test, y_train, y_test = train_test_split(Df_scaled_new, target, test_size=0.4, random_state=0)"
   ]
  },
  {
   "cell_type": "code",
   "execution_count": 174,
   "metadata": {},
   "outputs": [],
   "source": [
    "clf = DecisionTreeClassifier(criterion='gini')\n",
    "fit = clf.fit(X_train, y_train)\n",
    "y_pre = fit.predict(X_test)"
   ]
  },
  {
   "cell_type": "code",
   "execution_count": 175,
   "metadata": {},
   "outputs": [
    {
     "name": "stdout",
     "output_type": "stream",
     "text": [
      "[[50  0  1  0  4  2  0  1]\n",
      " [ 4 36  0  0  6  6  0  1]\n",
      " [ 0  0 46  5  0  0 11  0]\n",
      " [ 3  0  1 50  0  0  4  0]\n",
      " [ 7  5  1  0 43  3  0  0]\n",
      " [ 2  3  1  0  2 35  0  0]\n",
      " [ 1  0  9  3  0  0 33  0]\n",
      " [ 1  2  0  1  1  0  0 48]]\n"
     ]
    }
   ],
   "source": [
    "cm = confusion_matrix(y_test, y_pre)\n",
    "print (cm)"
   ]
  },
  {
   "cell_type": "code",
   "execution_count": 176,
   "metadata": {},
   "outputs": [
    {
     "name": "stdout",
     "output_type": "stream",
     "text": [
      "              precision    recall  f1-score   support\n",
      "\n",
      "      c-CS-m       0.74      0.86      0.79        58\n",
      "      c-CS-s       0.78      0.68      0.73        53\n",
      "      c-SC-m       0.78      0.74      0.76        62\n",
      "      c-SC-s       0.85      0.86      0.85        58\n",
      "      t-CS-m       0.77      0.73      0.75        59\n",
      "      t-CS-s       0.76      0.81      0.79        43\n",
      "      t-SC-m       0.69      0.72      0.70        46\n",
      "      t-SC-s       0.96      0.91      0.93        53\n",
      "\n",
      "    accuracy                           0.79       432\n",
      "   macro avg       0.79      0.79      0.79       432\n",
      "weighted avg       0.79      0.79      0.79       432\n",
      "\n"
     ]
    }
   ],
   "source": [
    "print (classification_report(y_test,y_pre))"
   ]
  },
  {
   "cell_type": "markdown",
   "metadata": {},
   "source": [
    "## Comparison(Train-Test Split 60-40)\n",
    "\n",
    "### DT models on Hyperparameter Tuning with Accuracy score  \n",
    "\n",
    "        \n",
    "    1. DT Model(criterion=Gini, max_featutres=None)-      0.86\n",
    "    \n",
    "    2. DT Model(criterion=Entropy, max_featutres=None)-   0.82\n",
    "    \n",
    "    3. DT Model(criterion=Gini, max_featutres=5)-         0.73\n",
    "    \n",
    "    4. DT Model(criterion=Entropy, max_featutres=5)-      0.78\n",
    "       \n",
    "    5. DT Model(criterion=Entropy, max_featutres=None)\n",
    "                 with feature selection               -   0.79"
   ]
  },
  {
   "cell_type": "markdown",
   "metadata": {},
   "source": [
    "## Creating a 80% training and 20% testing dataset by separating the target and feature variables\n"
   ]
  },
  {
   "cell_type": "code",
   "execution_count": 177,
   "metadata": {},
   "outputs": [],
   "source": [
    "X_train, X_test, y_train, y_test = train_test_split(Df_scaled, target, test_size=0.2, random_state=0)"
   ]
  },
  {
   "cell_type": "code",
   "execution_count": 178,
   "metadata": {},
   "outputs": [
    {
     "name": "stdout",
     "output_type": "stream",
     "text": [
      "(864, 77)\n",
      "(216, 77)\n",
      "(864,)\n",
      "(216,)\n"
     ]
    }
   ],
   "source": [
    "print(X_train.shape)\n",
    "print(X_test.shape)\n",
    "print(y_train.shape)\n",
    "print(y_test.shape)"
   ]
  },
  {
   "cell_type": "code",
   "execution_count": 179,
   "metadata": {},
   "outputs": [],
   "source": [
    "#80 20 Decision tree using default parameter(criterion=gini)\n",
    "clf = DecisionTreeClassifier()\n",
    "fit = clf.fit(X_train, y_train)\n",
    "y_pre = fit.predict(X_test) "
   ]
  },
  {
   "cell_type": "code",
   "execution_count": 180,
   "metadata": {},
   "outputs": [
    {
     "data": {
      "text/plain": [
       "(216,)"
      ]
     },
     "execution_count": 180,
     "metadata": {},
     "output_type": "execute_result"
    }
   ],
   "source": [
    "y_pre.shape"
   ]
  },
  {
   "cell_type": "code",
   "execution_count": 181,
   "metadata": {},
   "outputs": [
    {
     "name": "stdout",
     "output_type": "stream",
     "text": [
      "[[18  5  0  0  1  0  0  0]\n",
      " [ 0 25  0  0  1  1  0  0]\n",
      " [ 0  1 22  0  1  0  1  0]\n",
      " [ 0  0  0 30  0  0  1  0]\n",
      " [ 0  7  0  0 25  0  0  0]\n",
      " [ 1  2  0  0  3 21  0  0]\n",
      " [ 0  0  0  0  0  0 24  0]\n",
      " [ 0  0  0  0  0  0  2 24]]\n"
     ]
    }
   ],
   "source": [
    "cm = confusion_matrix(y_test, y_pre)\n",
    "print (cm)"
   ]
  },
  {
   "cell_type": "code",
   "execution_count": 182,
   "metadata": {},
   "outputs": [
    {
     "name": "stdout",
     "output_type": "stream",
     "text": [
      "              precision    recall  f1-score   support\n",
      "\n",
      "      c-CS-m       0.95      0.75      0.84        24\n",
      "      c-CS-s       0.62      0.93      0.75        27\n",
      "      c-SC-m       1.00      0.88      0.94        25\n",
      "      c-SC-s       1.00      0.97      0.98        31\n",
      "      t-CS-m       0.81      0.78      0.79        32\n",
      "      t-CS-s       0.95      0.78      0.86        27\n",
      "      t-SC-m       0.86      1.00      0.92        24\n",
      "      t-SC-s       1.00      0.92      0.96        26\n",
      "\n",
      "    accuracy                           0.88       216\n",
      "   macro avg       0.90      0.88      0.88       216\n",
      "weighted avg       0.90      0.88      0.88       216\n",
      "\n"
     ]
    }
   ],
   "source": [
    "print(classification_report(y_test,y_pre))"
   ]
  },
  {
   "cell_type": "markdown",
   "metadata": {},
   "source": [
    "We observe that a DT model with parameter max_features = None and criterion = 'gini' gives a accuracy score of 0.88"
   ]
  },
  {
   "cell_type": "code",
   "execution_count": 183,
   "metadata": {},
   "outputs": [],
   "source": [
    "#Decision tree using Entropy\n",
    "clf = DecisionTreeClassifier(criterion = \"entropy\")\n",
    "fit = clf.fit(X_train, y_train)\n",
    "y_pre = fit.predict(X_test)"
   ]
  },
  {
   "cell_type": "code",
   "execution_count": 184,
   "metadata": {},
   "outputs": [
    {
     "data": {
      "text/plain": [
       "(216,)"
      ]
     },
     "execution_count": 184,
     "metadata": {},
     "output_type": "execute_result"
    }
   ],
   "source": [
    "y_pre.shape"
   ]
  },
  {
   "cell_type": "code",
   "execution_count": 185,
   "metadata": {},
   "outputs": [
    {
     "name": "stdout",
     "output_type": "stream",
     "text": [
      "[[19  4  0  0  1  0  0  0]\n",
      " [ 0 26  0  0  1  0  0  0]\n",
      " [ 2  0 19  1  0  2  1  0]\n",
      " [ 0  0  0 31  0  0  0  0]\n",
      " [ 1  3  0  0 28  0  0  0]\n",
      " [ 2  1  0  0  2 22  0  0]\n",
      " [ 0  0  1  0  0  0 21  2]\n",
      " [ 0  0  2  0  0  0  0 24]]\n"
     ]
    }
   ],
   "source": [
    "cm = confusion_matrix(y_test, y_pre)\n",
    "print (cm)"
   ]
  },
  {
   "cell_type": "code",
   "execution_count": 186,
   "metadata": {},
   "outputs": [
    {
     "name": "stdout",
     "output_type": "stream",
     "text": [
      "              precision    recall  f1-score   support\n",
      "\n",
      "      c-CS-m       0.79      0.79      0.79        24\n",
      "      c-CS-s       0.76      0.96      0.85        27\n",
      "      c-SC-m       0.86      0.76      0.81        25\n",
      "      c-SC-s       0.97      1.00      0.98        31\n",
      "      t-CS-m       0.88      0.88      0.88        32\n",
      "      t-CS-s       0.92      0.81      0.86        27\n",
      "      t-SC-m       0.95      0.88      0.91        24\n",
      "      t-SC-s       0.92      0.92      0.92        26\n",
      "\n",
      "    accuracy                           0.88       216\n",
      "   macro avg       0.88      0.88      0.88       216\n",
      "weighted avg       0.88      0.88      0.88       216\n",
      "\n"
     ]
    }
   ],
   "source": [
    "print (classification_report(y_test,y_pre))"
   ]
  },
  {
   "cell_type": "markdown",
   "metadata": {},
   "source": [
    "We observe that a DT model with parameter max_features = None and criterion = 'entropy' gives a accuracy score of 0.88"
   ]
  },
  {
   "cell_type": "code",
   "execution_count": 187,
   "metadata": {},
   "outputs": [],
   "source": [
    "#80 20 Decision tree using max features in default parameter(Gini Index)\n",
    "clf = DecisionTreeClassifier(max_features = 5)\n",
    "fit = clf.fit(X_train, y_train)\n",
    "y_pre = fit.predict(X_test)"
   ]
  },
  {
   "cell_type": "code",
   "execution_count": 188,
   "metadata": {},
   "outputs": [
    {
     "data": {
      "text/plain": [
       "(216,)"
      ]
     },
     "execution_count": 188,
     "metadata": {},
     "output_type": "execute_result"
    }
   ],
   "source": [
    "y_pre.shape"
   ]
  },
  {
   "cell_type": "code",
   "execution_count": 189,
   "metadata": {},
   "outputs": [
    {
     "name": "stdout",
     "output_type": "stream",
     "text": [
      "[[18  1  0  2  0  2  1  0]\n",
      " [ 2 22  0  0  2  1  0  0]\n",
      " [ 0  0 19  5  0  0  0  1]\n",
      " [ 0  0  1 27  0  0  1  2]\n",
      " [ 1  1  0  0 27  3  0  0]\n",
      " [ 0  2  0  0  7 18  0  0]\n",
      " [ 0  1  3  2  0  0 17  1]\n",
      " [ 0  2  0  0  0  1  2 21]]\n"
     ]
    }
   ],
   "source": [
    "cm = confusion_matrix(y_test, y_pre)\n",
    "print (cm)"
   ]
  },
  {
   "cell_type": "code",
   "execution_count": 190,
   "metadata": {},
   "outputs": [
    {
     "name": "stdout",
     "output_type": "stream",
     "text": [
      "              precision    recall  f1-score   support\n",
      "\n",
      "      c-CS-m       0.86      0.75      0.80        24\n",
      "      c-CS-s       0.76      0.81      0.79        27\n",
      "      c-SC-m       0.83      0.76      0.79        25\n",
      "      c-SC-s       0.75      0.87      0.81        31\n",
      "      t-CS-m       0.75      0.84      0.79        32\n",
      "      t-CS-s       0.72      0.67      0.69        27\n",
      "      t-SC-m       0.81      0.71      0.76        24\n",
      "      t-SC-s       0.84      0.81      0.82        26\n",
      "\n",
      "    accuracy                           0.78       216\n",
      "   macro avg       0.79      0.78      0.78       216\n",
      "weighted avg       0.79      0.78      0.78       216\n",
      "\n"
     ]
    }
   ],
   "source": [
    "print (classification_report(y_test,y_pre))"
   ]
  },
  {
   "cell_type": "markdown",
   "metadata": {},
   "source": [
    "We observe that a DT model with parameter max_features = 5 and criterion = 'gini' gives a accuracy score of 0.78"
   ]
  },
  {
   "cell_type": "code",
   "execution_count": 191,
   "metadata": {},
   "outputs": [],
   "source": [
    "# Decision tree using max features in criterion = entropy\n",
    "clf = DecisionTreeClassifier(criterion = \"entropy\", max_features = 5)\n",
    "fit = clf.fit(X_train, y_train)\n",
    "y_pre = fit.predict(X_test)"
   ]
  },
  {
   "cell_type": "code",
   "execution_count": 192,
   "metadata": {},
   "outputs": [
    {
     "data": {
      "text/plain": [
       "(216,)"
      ]
     },
     "execution_count": 192,
     "metadata": {},
     "output_type": "execute_result"
    }
   ],
   "source": [
    "y_pre.shape"
   ]
  },
  {
   "cell_type": "code",
   "execution_count": 193,
   "metadata": {},
   "outputs": [
    {
     "name": "stdout",
     "output_type": "stream",
     "text": [
      "[[15  5  0  0  2  2  0  0]\n",
      " [ 5 19  0  0  1  1  1  0]\n",
      " [ 0  0 21  2  0  0  2  0]\n",
      " [ 0  0  4 25  0  0  2  0]\n",
      " [ 1  5  0  0 25  1  0  0]\n",
      " [ 1  2  1  0  1 21  0  1]\n",
      " [ 0  0  7  2  0  0 14  1]\n",
      " [ 1  0  1  0  0  0  1 23]]\n"
     ]
    }
   ],
   "source": [
    "cm = confusion_matrix(y_test, y_pre)\n",
    "print (cm)"
   ]
  },
  {
   "cell_type": "code",
   "execution_count": 194,
   "metadata": {},
   "outputs": [
    {
     "name": "stdout",
     "output_type": "stream",
     "text": [
      "              precision    recall  f1-score   support\n",
      "\n",
      "      c-CS-m       0.65      0.62      0.64        24\n",
      "      c-CS-s       0.61      0.70      0.66        27\n",
      "      c-SC-m       0.62      0.84      0.71        25\n",
      "      c-SC-s       0.86      0.81      0.83        31\n",
      "      t-CS-m       0.86      0.78      0.82        32\n",
      "      t-CS-s       0.84      0.78      0.81        27\n",
      "      t-SC-m       0.70      0.58      0.64        24\n",
      "      t-SC-s       0.92      0.88      0.90        26\n",
      "\n",
      "    accuracy                           0.75       216\n",
      "   macro avg       0.76      0.75      0.75       216\n",
      "weighted avg       0.77      0.75      0.76       216\n",
      "\n"
     ]
    }
   ],
   "source": [
    "print (classification_report(y_test,y_pre))"
   ]
  },
  {
   "cell_type": "markdown",
   "metadata": {},
   "source": [
    "We observe that a DT model with parameter max_features = 5 and criterion = 'entropy' gives a accuracy score of 0.75"
   ]
  },
  {
   "cell_type": "markdown",
   "metadata": {},
   "source": [
    "## Feature Selection"
   ]
  },
  {
   "cell_type": "code",
   "execution_count": 195,
   "metadata": {},
   "outputs": [],
   "source": [
    "Df_scaled1=Df_scaled.iloc[:].values"
   ]
  },
  {
   "cell_type": "code",
   "execution_count": 196,
   "metadata": {},
   "outputs": [
    {
     "name": "stdout",
     "output_type": "stream",
     "text": [
      "Score with 1 selected features: 0.1574074074074074\n",
      "Score with 2 selected features: 0.21296296296296297\n",
      "Score with 3 selected features: 0.3194444444444444\n",
      "Score with 4 selected features: 0.35185185185185186\n",
      "Score with 5 selected features: 0.4212962962962963\n",
      "Score with 6 selected features: 0.42592592592592593\n",
      "Score with 7 selected features: 0.4722222222222222\n",
      "Score with 8 selected features: 0.5370370370370371\n",
      "Score with 9 selected features: 0.6296296296296297\n",
      "Score with 10 selected features: 0.6990740740740741\n",
      "Score with 11 selected features: 0.7175925925925926\n",
      "Score with 12 selected features: 0.7175925925925926\n",
      "Score with 13 selected features: 0.7592592592592593\n",
      "Score with 14 selected features: 0.7731481481481481\n",
      "Score with 15 selected features: 0.7824074074074074\n",
      "Score with 16 selected features: 0.8148148148148148\n",
      "Score with 17 selected features: 0.8194444444444444\n",
      "Score with 18 selected features: 0.8240740740740741\n",
      "Score with 19 selected features: 0.8425925925925926\n",
      "Score with 20 selected features: 0.8518518518518519\n",
      "Score with 21 selected features: 0.8564814814814815\n",
      "Score with 22 selected features: 0.875\n"
     ]
    }
   ],
   "source": [
    "# feature selection\n",
    "new_Ind = []\n",
    "cur_MaxScore = 0.0\n",
    "col_num = 77\n",
    "col_Ind_Random = shuffle(range(0,col_num), random_state=1)\n",
    "\n",
    "for cur_f in range(0, col_num):\n",
    "    new_Ind.append(col_Ind_Random[cur_f])\n",
    "    newData = Df_scaled1[:, new_Ind]\n",
    "    X_train, X_test, y_train, y_test = train_test_split(newData, target, test_size=0.2, random_state=0)\n",
    "    clf = DecisionTreeClassifier(criterion='gini')\n",
    "    fit = clf.fit(X_train, y_train)\n",
    "    cur_Score = clf.score(X_test, y_test)\n",
    "    if cur_Score < cur_MaxScore:\n",
    "        new_Ind.remove(col_Ind_Random[cur_f])\n",
    "    else:\n",
    "        cur_MaxScore = cur_Score\n",
    "        print (\"Score with \" + str(len(new_Ind)) + \" selected features: \" + str(cur_Score))"
   ]
  },
  {
   "cell_type": "code",
   "execution_count": 197,
   "metadata": {},
   "outputs": [
    {
     "name": "stdout",
     "output_type": "stream",
     "text": [
      "[31, 43, 26, 74, 58, 59, 61, 51, 10, 53, 34, 71, 46, 15, 19, 76, 62, 44, 8, 73, 60, 18]\n"
     ]
    }
   ],
   "source": [
    "print (new_Ind)"
   ]
  },
  {
   "cell_type": "code",
   "execution_count": 198,
   "metadata": {},
   "outputs": [],
   "source": [
    "columns=[]\n",
    "cols = Df_scaled.columns\n",
    "for i in new_Ind:\n",
    "    columns.append(cols[i])"
   ]
  },
  {
   "cell_type": "code",
   "execution_count": 199,
   "metadata": {},
   "outputs": [],
   "source": [
    "Df_scaled_new=Df_scaled[columns]\n",
    "X_train, X_test, y_train, y_test = train_test_split(Df_scaled_new, target, test_size=0.2, random_state=0)"
   ]
  },
  {
   "cell_type": "code",
   "execution_count": 200,
   "metadata": {},
   "outputs": [],
   "source": [
    "clf = DecisionTreeClassifier(criterion='gini')\n",
    "fit = clf.fit(X_train, y_train)\n",
    "y_pre = fit.predict(X_test)"
   ]
  },
  {
   "cell_type": "code",
   "execution_count": 201,
   "metadata": {},
   "outputs": [
    {
     "name": "stdout",
     "output_type": "stream",
     "text": [
      "[[22  0  0  0  1  1  0  0]\n",
      " [ 2 21  0  0  2  1  0  1]\n",
      " [ 0  0 23  2  0  0  0  0]\n",
      " [ 0  0  0 26  0  0  5  0]\n",
      " [ 1  2  0  0 28  1  0  0]\n",
      " [ 0  1  0  0  3 23  0  0]\n",
      " [ 0  0  4  2  0  0 18  0]\n",
      " [ 1  3  0  0  0  0  0 22]]\n"
     ]
    }
   ],
   "source": [
    "cm = confusion_matrix(y_test, y_pre)\n",
    "print (cm)"
   ]
  },
  {
   "cell_type": "code",
   "execution_count": 202,
   "metadata": {},
   "outputs": [
    {
     "name": "stdout",
     "output_type": "stream",
     "text": [
      "              precision    recall  f1-score   support\n",
      "\n",
      "      c-CS-m       0.85      0.92      0.88        24\n",
      "      c-CS-s       0.78      0.78      0.78        27\n",
      "      c-SC-m       0.85      0.92      0.88        25\n",
      "      c-SC-s       0.87      0.84      0.85        31\n",
      "      t-CS-m       0.82      0.88      0.85        32\n",
      "      t-CS-s       0.88      0.85      0.87        27\n",
      "      t-SC-m       0.78      0.75      0.77        24\n",
      "      t-SC-s       0.96      0.85      0.90        26\n",
      "\n",
      "    accuracy                           0.85       216\n",
      "   macro avg       0.85      0.85      0.85       216\n",
      "weighted avg       0.85      0.85      0.85       216\n",
      "\n"
     ]
    }
   ],
   "source": [
    "print (classification_report(y_test,y_pre))"
   ]
  },
  {
   "cell_type": "markdown",
   "metadata": {},
   "source": [
    "## Comparison (Train-Test Split 80-20) \n",
    "\n",
    "### DT models on Hyperparameter Tuning with Accuracy score \n",
    "\n",
    "                        Model                           Accuracy\n",
    "    1. DT Model(criterion=Gini, max_featutres=None)-      0.88\n",
    "    \n",
    "    2. DT Model(criterion=Entropy, max_featutres=None)-   0.88\n",
    "    \n",
    "    3. DT Model(criterion=Gini, max_featutres=5)-         0.78\n",
    "    \n",
    "    4. DT Model(criterion=Entropy, max_featutres=5)-      0.75\n",
    "       \n",
    "    5. DT Model(criterion=Entropy, max_featutres=None)\n",
    "                 with feature selection               -   0.85"
   ]
  }
 ],
 "metadata": {
  "kernelspec": {
   "display_name": "Python 3",
   "language": "python",
   "name": "python3"
  },
  "language_info": {
   "codemirror_mode": {
    "name": "ipython",
    "version": 3
   },
   "file_extension": ".py",
   "mimetype": "text/x-python",
   "name": "python",
   "nbconvert_exporter": "python",
   "pygments_lexer": "ipython3",
   "version": "3.7.6"
  }
 },
 "nbformat": 4,
 "nbformat_minor": 4
}
